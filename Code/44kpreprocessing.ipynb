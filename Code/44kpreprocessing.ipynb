{
 "cells": [
  {
   "cell_type": "code",
   "execution_count": 42,
   "metadata": {},
   "outputs": [],
   "source": [
    "import numpy as np\n",
    "import pandas as pd \n",
    "import os\n",
    "import json"
   ]
  },
  {
   "cell_type": "code",
   "execution_count": 43,
   "metadata": {},
   "outputs": [],
   "source": [
    "df = pd.read_csv('../Datasets/fashion-dataset/styles.csv')"
   ]
  },
  {
   "cell_type": "code",
   "execution_count": 44,
   "metadata": {},
   "outputs": [
    {
     "name": "stderr",
     "output_type": "stream",
     "text": [
      "C:\\Users\\KNYpe\\AppData\\Local\\Temp\\ipykernel_12256\\2618257643.py:3: SettingWithCopyWarning: \n",
      "A value is trying to be set on a copy of a slice from a DataFrame\n",
      "\n",
      "See the caveats in the documentation: https://pandas.pydata.org/pandas-docs/stable/user_guide/indexing.html#returning-a-view-versus-a-copy\n",
      "  topwear_df.drop(columns=['subCategory'],inplace=True)\n"
     ]
    }
   ],
   "source": [
    "df.drop(columns=['uniq','hawa','hahah','haha','year','masterCategory',],inplace=True)\n",
    "topwear_df = df[df['subCategory'] == 'Topwear']\n",
    "topwear_df.drop(columns=['subCategory'],inplace=True)"
   ]
  },
  {
   "cell_type": "code",
   "execution_count": 45,
   "metadata": {},
   "outputs": [
    {
     "name": "stdout",
     "output_type": "stream",
     "text": [
      "15405\n"
     ]
    },
    {
     "data": {
      "text/html": [
       "<div>\n",
       "<style scoped>\n",
       "    .dataframe tbody tr th:only-of-type {\n",
       "        vertical-align: middle;\n",
       "    }\n",
       "\n",
       "    .dataframe tbody tr th {\n",
       "        vertical-align: top;\n",
       "    }\n",
       "\n",
       "    .dataframe thead th {\n",
       "        text-align: right;\n",
       "    }\n",
       "</style>\n",
       "<table border=\"1\" class=\"dataframe\">\n",
       "  <thead>\n",
       "    <tr style=\"text-align: right;\">\n",
       "      <th></th>\n",
       "      <th>id</th>\n",
       "      <th>gender</th>\n",
       "      <th>articleType</th>\n",
       "      <th>baseColour</th>\n",
       "      <th>season</th>\n",
       "      <th>usage</th>\n",
       "      <th>productDisplayName</th>\n",
       "    </tr>\n",
       "  </thead>\n",
       "  <tbody>\n",
       "    <tr>\n",
       "      <th>0</th>\n",
       "      <td>15970</td>\n",
       "      <td>Men</td>\n",
       "      <td>Shirts</td>\n",
       "      <td>Navy Blue</td>\n",
       "      <td>Fall</td>\n",
       "      <td>Casual</td>\n",
       "      <td>Turtle Check Men Navy Blue Shirt</td>\n",
       "    </tr>\n",
       "    <tr>\n",
       "      <th>4</th>\n",
       "      <td>53759</td>\n",
       "      <td>Men</td>\n",
       "      <td>Tshirts</td>\n",
       "      <td>Grey</td>\n",
       "      <td>Summer</td>\n",
       "      <td>Casual</td>\n",
       "      <td>Puma Men Grey T-shirt</td>\n",
       "    </tr>\n",
       "    <tr>\n",
       "      <th>5</th>\n",
       "      <td>1855</td>\n",
       "      <td>Men</td>\n",
       "      <td>Tshirts</td>\n",
       "      <td>Grey</td>\n",
       "      <td>Summer</td>\n",
       "      <td>Casual</td>\n",
       "      <td>Inkfruit Mens Chain Reaction T-shirt</td>\n",
       "    </tr>\n",
       "    <tr>\n",
       "      <th>6</th>\n",
       "      <td>30805</td>\n",
       "      <td>Men</td>\n",
       "      <td>Shirts</td>\n",
       "      <td>Green</td>\n",
       "      <td>Summer</td>\n",
       "      <td>Ethnic</td>\n",
       "      <td>Fabindia Men Striped Green Shirt</td>\n",
       "    </tr>\n",
       "    <tr>\n",
       "      <th>7</th>\n",
       "      <td>26960</td>\n",
       "      <td>Women</td>\n",
       "      <td>Shirts</td>\n",
       "      <td>Purple</td>\n",
       "      <td>Summer</td>\n",
       "      <td>Casual</td>\n",
       "      <td>Jealous 21 Women Purple Shirt</td>\n",
       "    </tr>\n",
       "  </tbody>\n",
       "</table>\n",
       "</div>"
      ],
      "text/plain": [
       "      id gender articleType baseColour  season   usage  \\\n",
       "0  15970    Men      Shirts  Navy Blue    Fall  Casual   \n",
       "4  53759    Men     Tshirts       Grey  Summer  Casual   \n",
       "5   1855    Men     Tshirts       Grey  Summer  Casual   \n",
       "6  30805    Men      Shirts      Green  Summer  Ethnic   \n",
       "7  26960  Women      Shirts     Purple  Summer  Casual   \n",
       "\n",
       "                     productDisplayName  \n",
       "0      Turtle Check Men Navy Blue Shirt  \n",
       "4                 Puma Men Grey T-shirt  \n",
       "5  Inkfruit Mens Chain Reaction T-shirt  \n",
       "6      Fabindia Men Striped Green Shirt  \n",
       "7         Jealous 21 Women Purple Shirt  "
      ]
     },
     "execution_count": 45,
     "metadata": {},
     "output_type": "execute_result"
    }
   ],
   "source": [
    "print(len(topwear_df))\n",
    "topwear_df.head()"
   ]
  },
  {
   "cell_type": "code",
   "execution_count": 46,
   "metadata": {},
   "outputs": [
    {
     "name": "stderr",
     "output_type": "stream",
     "text": [
      "C:\\Users\\KNYpe\\AppData\\Local\\Temp\\ipykernel_12256\\4156566702.py:1: SettingWithCopyWarning: \n",
      "A value is trying to be set on a copy of a slice from a DataFrame.\n",
      "Try using .loc[row_indexer,col_indexer] = value instead\n",
      "\n",
      "See the caveats in the documentation: https://pandas.pydata.org/pandas-docs/stable/user_guide/indexing.html#returning-a-view-versus-a-copy\n",
      "  topwear_df['concatenated'] = topwear_df['baseColour'] + ' ' + topwear_df['articleType'] + ' for ' + topwear_df['gender']\n"
     ]
    }
   ],
   "source": [
    "topwear_df['concatenated'] = topwear_df['baseColour'] + ' ' + topwear_df['articleType'] + ' for ' + topwear_df['gender']"
   ]
  },
  {
   "cell_type": "code",
   "execution_count": 47,
   "metadata": {},
   "outputs": [
    {
     "name": "stderr",
     "output_type": "stream",
     "text": [
      "C:\\Users\\KNYpe\\AppData\\Local\\Temp\\ipykernel_12256\\1897588746.py:1: SettingWithCopyWarning: \n",
      "A value is trying to be set on a copy of a slice from a DataFrame\n",
      "\n",
      "See the caveats in the documentation: https://pandas.pydata.org/pandas-docs/stable/user_guide/indexing.html#returning-a-view-versus-a-copy\n",
      "  topwear_df.drop(columns=['baseColour','articleType','gender','season','usage','productDisplayName'],inplace=True)\n"
     ]
    }
   ],
   "source": [
    "topwear_df.drop(columns=['baseColour','articleType','gender','season','usage','productDisplayName'],inplace=True)"
   ]
  },
  {
   "cell_type": "code",
   "execution_count": null,
   "metadata": {},
   "outputs": [],
   "source": []
  },
  {
   "cell_type": "code",
   "execution_count": 48,
   "metadata": {},
   "outputs": [],
   "source": [
    "# import os\n",
    "# import shutil\n",
    "\n",
    "# image_ids = topwear_df['id'].astype(str).values\n",
    "\n",
    "# # Path to the folder containing all the images\n",
    "# image_folder = \"../Datasets/fashion-dataset/styles\"\n",
    "\n",
    "# # # Path to the folder where you want to move the selected images\n",
    "# output_folder = \"../Datasets/fashion-dataset/44K/about\"\n",
    "\n",
    "# # # Create the output folder if it doesn't exist\n",
    "# os.makedirs(output_folder, exist_ok=True)\n",
    "\n",
    "# # Iterate over all the files in the image folder\n",
    "# for filename in os.listdir(image_folder):\n",
    "#     # Extract the ID from the filename\n",
    "#     image_id = filename.split('.')[0]\n",
    "#     # Check if the ID is in the list of selected IDs\n",
    "#     if image_id in image_ids:\n",
    "#         # Move the file to the output folder\n",
    "#         shutil.move(os.path.join(image_folder, filename), os.path.join(output_folder, filename))"
   ]
  },
  {
   "cell_type": "code",
   "execution_count": 49,
   "metadata": {},
   "outputs": [],
   "source": [
    "# jpg_folder = \"../Datasets/fashion-dataset/44K/Images\"\n",
    "\n",
    "# # Path to the folder containing .json files\n",
    "# json_folder = \"../Datasets/fashion-dataset/44K/about\"\n",
    "\n",
    "# # Iterate over all the files in the .json folder\n",
    "# for json_file in os.listdir(json_folder):\n",
    "#     # Extract the ID from the .json filename\n",
    "#     json_id = json_file.split('.')[0]\n",
    "#     # Check if the corresponding .jpg file exists\n",
    "#     jpg_file = os.path.join(jpg_folder, f\"{json_id}.jpg\")\n",
    "#     if not os.path.exists(jpg_file):\n",
    "#         # Delete the .json file if the corresponding .jpg file doesn't exist\n",
    "#         os.remove(os.path.join(json_folder, json_file))"
   ]
  },
  {
   "cell_type": "code",
   "execution_count": 50,
   "metadata": {},
   "outputs": [],
   "source": [
    "\n",
    "# Path to the folder containing .json files\n",
    "json_folder = \"../Datasets/fashion-dataset/44K/about\"\n",
    "\n",
    "\n",
    "# Initialize lists to store data\n",
    "json_files = []\n",
    "patterns = []\n",
    "sleeve_lengths = []\n",
    "necks = []\n",
    "\n",
    "# Iterate over all the .json files in the folder\n",
    "for json_file in os.listdir(json_folder):\n",
    "    # Open and load the .json file with UTF-8 encoding\n",
    "    with open(os.path.join(json_folder, json_file), 'r', encoding='utf-8') as f:\n",
    "        data = json.load(f)\n",
    "    \n",
    "    # Extract the file name without the extension\n",
    "    json_file_name = os.path.splitext(json_file)[0]\n",
    "    \n",
    "    # Store the name of the .json file\n",
    "    json_files.append(json_file_name)\n",
    "    \n",
    "    # Extract pattern, sleeve length, and neck if they exist\n",
    "    pattern = data['data']['articleAttributes'].get('Pattern', None)\n",
    "    sleeve_length = data['data']['articleAttributes'].get('Sleeve Length', None)\n",
    "    neck = data['data']['articleAttributes'].get('Neck', None)\n",
    "    \n",
    "    # Append the extracted values to the lists\n",
    "    patterns.append(pattern)\n",
    "    sleeve_lengths.append(sleeve_length)\n",
    "    necks.append(neck)\n",
    "\n",
    "# Create a DataFrame from the lists\n",
    "random = pd.DataFrame({\n",
    "    'json_file': json_files,\n",
    "    'Pattern': patterns,\n",
    "    'Sleeve Length': sleeve_lengths,\n",
    "    'Neck': necks\n",
    "})"
   ]
  },
  {
   "cell_type": "code",
   "execution_count": 51,
   "metadata": {},
   "outputs": [
    {
     "data": {
      "text/html": [
       "<div>\n",
       "<style scoped>\n",
       "    .dataframe tbody tr th:only-of-type {\n",
       "        vertical-align: middle;\n",
       "    }\n",
       "\n",
       "    .dataframe tbody tr th {\n",
       "        vertical-align: top;\n",
       "    }\n",
       "\n",
       "    .dataframe thead th {\n",
       "        text-align: right;\n",
       "    }\n",
       "</style>\n",
       "<table border=\"1\" class=\"dataframe\">\n",
       "  <thead>\n",
       "    <tr style=\"text-align: right;\">\n",
       "      <th></th>\n",
       "      <th>json_file</th>\n",
       "      <th>Pattern</th>\n",
       "      <th>Sleeve Length</th>\n",
       "      <th>Neck</th>\n",
       "    </tr>\n",
       "  </thead>\n",
       "  <tbody>\n",
       "    <tr>\n",
       "      <th>0</th>\n",
       "      <td>10003</td>\n",
       "      <td>None</td>\n",
       "      <td>None</td>\n",
       "      <td>None</td>\n",
       "    </tr>\n",
       "    <tr>\n",
       "      <th>1</th>\n",
       "      <td>10005</td>\n",
       "      <td>Solid</td>\n",
       "      <td>Short Sleeves</td>\n",
       "      <td>Round Neck</td>\n",
       "    </tr>\n",
       "    <tr>\n",
       "      <th>2</th>\n",
       "      <td>10006</td>\n",
       "      <td>Solid</td>\n",
       "      <td>Short Sleeves</td>\n",
       "      <td>Round Neck</td>\n",
       "    </tr>\n",
       "    <tr>\n",
       "      <th>3</th>\n",
       "      <td>10007</td>\n",
       "      <td>Printed</td>\n",
       "      <td>Short Sleeves</td>\n",
       "      <td>Round Neck</td>\n",
       "    </tr>\n",
       "    <tr>\n",
       "      <th>4</th>\n",
       "      <td>10008</td>\n",
       "      <td>Printed</td>\n",
       "      <td>Short Sleeves</td>\n",
       "      <td>Round Neck</td>\n",
       "    </tr>\n",
       "  </tbody>\n",
       "</table>\n",
       "</div>"
      ],
      "text/plain": [
       "  json_file  Pattern  Sleeve Length        Neck\n",
       "0     10003     None           None        None\n",
       "1     10005    Solid  Short Sleeves  Round Neck\n",
       "2     10006    Solid  Short Sleeves  Round Neck\n",
       "3     10007  Printed  Short Sleeves  Round Neck\n",
       "4     10008  Printed  Short Sleeves  Round Neck"
      ]
     },
     "execution_count": 51,
     "metadata": {},
     "output_type": "execute_result"
    }
   ],
   "source": [
    "random.head()"
   ]
  },
  {
   "cell_type": "code",
   "execution_count": 52,
   "metadata": {},
   "outputs": [
    {
     "data": {
      "text/html": [
       "<div>\n",
       "<style scoped>\n",
       "    .dataframe tbody tr th:only-of-type {\n",
       "        vertical-align: middle;\n",
       "    }\n",
       "\n",
       "    .dataframe tbody tr th {\n",
       "        vertical-align: top;\n",
       "    }\n",
       "\n",
       "    .dataframe thead th {\n",
       "        text-align: right;\n",
       "    }\n",
       "</style>\n",
       "<table border=\"1\" class=\"dataframe\">\n",
       "  <thead>\n",
       "    <tr style=\"text-align: right;\">\n",
       "      <th></th>\n",
       "      <th>id</th>\n",
       "      <th>Pattern</th>\n",
       "      <th>Sleeve Length</th>\n",
       "      <th>Neck</th>\n",
       "    </tr>\n",
       "  </thead>\n",
       "  <tbody>\n",
       "    <tr>\n",
       "      <th>0</th>\n",
       "      <td>10003</td>\n",
       "      <td>None</td>\n",
       "      <td>None</td>\n",
       "      <td>None</td>\n",
       "    </tr>\n",
       "    <tr>\n",
       "      <th>1</th>\n",
       "      <td>10005</td>\n",
       "      <td>Solid</td>\n",
       "      <td>Short Sleeves</td>\n",
       "      <td>Round Neck</td>\n",
       "    </tr>\n",
       "    <tr>\n",
       "      <th>2</th>\n",
       "      <td>10006</td>\n",
       "      <td>Solid</td>\n",
       "      <td>Short Sleeves</td>\n",
       "      <td>Round Neck</td>\n",
       "    </tr>\n",
       "    <tr>\n",
       "      <th>3</th>\n",
       "      <td>10007</td>\n",
       "      <td>Printed</td>\n",
       "      <td>Short Sleeves</td>\n",
       "      <td>Round Neck</td>\n",
       "    </tr>\n",
       "    <tr>\n",
       "      <th>4</th>\n",
       "      <td>10008</td>\n",
       "      <td>Printed</td>\n",
       "      <td>Short Sleeves</td>\n",
       "      <td>Round Neck</td>\n",
       "    </tr>\n",
       "  </tbody>\n",
       "</table>\n",
       "</div>"
      ],
      "text/plain": [
       "      id  Pattern  Sleeve Length        Neck\n",
       "0  10003     None           None        None\n",
       "1  10005    Solid  Short Sleeves  Round Neck\n",
       "2  10006    Solid  Short Sleeves  Round Neck\n",
       "3  10007  Printed  Short Sleeves  Round Neck\n",
       "4  10008  Printed  Short Sleeves  Round Neck"
      ]
     },
     "execution_count": 52,
     "metadata": {},
     "output_type": "execute_result"
    }
   ],
   "source": [
    "random.rename(columns={'json_file': 'id'}, inplace=True)\n",
    "random.head()"
   ]
  },
  {
   "cell_type": "code",
   "execution_count": 53,
   "metadata": {},
   "outputs": [
    {
     "data": {
      "text/html": [
       "<div>\n",
       "<style scoped>\n",
       "    .dataframe tbody tr th:only-of-type {\n",
       "        vertical-align: middle;\n",
       "    }\n",
       "\n",
       "    .dataframe tbody tr th {\n",
       "        vertical-align: top;\n",
       "    }\n",
       "\n",
       "    .dataframe thead th {\n",
       "        text-align: right;\n",
       "    }\n",
       "</style>\n",
       "<table border=\"1\" class=\"dataframe\">\n",
       "  <thead>\n",
       "    <tr style=\"text-align: right;\">\n",
       "      <th></th>\n",
       "      <th>id</th>\n",
       "      <th>concatenated</th>\n",
       "    </tr>\n",
       "  </thead>\n",
       "  <tbody>\n",
       "    <tr>\n",
       "      <th>44436</th>\n",
       "      <td>30614</td>\n",
       "      <td>Black Tshirts for Men</td>\n",
       "    </tr>\n",
       "    <tr>\n",
       "      <th>44437</th>\n",
       "      <td>13496</td>\n",
       "      <td>Blue Tshirts for Men</td>\n",
       "    </tr>\n",
       "    <tr>\n",
       "      <th>44439</th>\n",
       "      <td>12544</td>\n",
       "      <td>Peach Tshirts for Women</td>\n",
       "    </tr>\n",
       "    <tr>\n",
       "      <th>44440</th>\n",
       "      <td>42234</td>\n",
       "      <td>Blue Tops for Women</td>\n",
       "    </tr>\n",
       "    <tr>\n",
       "      <th>44443</th>\n",
       "      <td>18842</td>\n",
       "      <td>Blue Tshirts for Men</td>\n",
       "    </tr>\n",
       "  </tbody>\n",
       "</table>\n",
       "</div>"
      ],
      "text/plain": [
       "          id             concatenated\n",
       "44436  30614    Black Tshirts for Men\n",
       "44437  13496     Blue Tshirts for Men\n",
       "44439  12544  Peach Tshirts for Women\n",
       "44440  42234      Blue Tops for Women\n",
       "44443  18842     Blue Tshirts for Men"
      ]
     },
     "execution_count": 53,
     "metadata": {},
     "output_type": "execute_result"
    }
   ],
   "source": [
    "topwear_df.tail()"
   ]
  },
  {
   "cell_type": "code",
   "execution_count": 54,
   "metadata": {},
   "outputs": [
    {
     "name": "stderr",
     "output_type": "stream",
     "text": [
      "C:\\Users\\KNYpe\\AppData\\Local\\Temp\\ipykernel_12256\\4016596369.py:1: SettingWithCopyWarning: \n",
      "A value is trying to be set on a copy of a slice from a DataFrame.\n",
      "Try using .loc[row_indexer,col_indexer] = value instead\n",
      "\n",
      "See the caveats in the documentation: https://pandas.pydata.org/pandas-docs/stable/user_guide/indexing.html#returning-a-view-versus-a-copy\n",
      "  topwear_df['id'] = topwear_df['id'].astype(str)\n"
     ]
    }
   ],
   "source": [
    "topwear_df['id'] = topwear_df['id'].astype(str)\n",
    "random['id'] = random['id'].astype(str)\n"
   ]
  },
  {
   "cell_type": "code",
   "execution_count": 68,
   "metadata": {},
   "outputs": [],
   "source": [
    "merged_df = pd.merge(topwear_df, random, on='id', how='inner')"
   ]
  },
  {
   "cell_type": "code",
   "execution_count": 69,
   "metadata": {},
   "outputs": [
    {
     "data": {
      "text/html": [
       "<div>\n",
       "<style scoped>\n",
       "    .dataframe tbody tr th:only-of-type {\n",
       "        vertical-align: middle;\n",
       "    }\n",
       "\n",
       "    .dataframe tbody tr th {\n",
       "        vertical-align: top;\n",
       "    }\n",
       "\n",
       "    .dataframe thead th {\n",
       "        text-align: right;\n",
       "    }\n",
       "</style>\n",
       "<table border=\"1\" class=\"dataframe\">\n",
       "  <thead>\n",
       "    <tr style=\"text-align: right;\">\n",
       "      <th></th>\n",
       "      <th>id</th>\n",
       "      <th>concatenated</th>\n",
       "      <th>Pattern</th>\n",
       "      <th>Sleeve Length</th>\n",
       "      <th>Neck</th>\n",
       "    </tr>\n",
       "  </thead>\n",
       "  <tbody>\n",
       "    <tr>\n",
       "      <th>0</th>\n",
       "      <td>15970</td>\n",
       "      <td>Navy Blue Shirts for Men</td>\n",
       "      <td>Checked</td>\n",
       "      <td>Long Sleeves</td>\n",
       "      <td>None</td>\n",
       "    </tr>\n",
       "    <tr>\n",
       "      <th>1</th>\n",
       "      <td>53759</td>\n",
       "      <td>Grey Tshirts for Men</td>\n",
       "      <td>Solid</td>\n",
       "      <td>Short Sleeves</td>\n",
       "      <td>Polo Collar</td>\n",
       "    </tr>\n",
       "    <tr>\n",
       "      <th>2</th>\n",
       "      <td>1855</td>\n",
       "      <td>Grey Tshirts for Men</td>\n",
       "      <td>Printed</td>\n",
       "      <td>Short Sleeves</td>\n",
       "      <td>Round Neck</td>\n",
       "    </tr>\n",
       "    <tr>\n",
       "      <th>3</th>\n",
       "      <td>30805</td>\n",
       "      <td>Green Shirts for Men</td>\n",
       "      <td>Striped</td>\n",
       "      <td>Long Sleeves</td>\n",
       "      <td>None</td>\n",
       "    </tr>\n",
       "    <tr>\n",
       "      <th>4</th>\n",
       "      <td>26960</td>\n",
       "      <td>Purple Shirts for Women</td>\n",
       "      <td>Solid</td>\n",
       "      <td>Short Sleeves</td>\n",
       "      <td>None</td>\n",
       "    </tr>\n",
       "  </tbody>\n",
       "</table>\n",
       "</div>"
      ],
      "text/plain": [
       "      id              concatenated  Pattern  Sleeve Length         Neck\n",
       "0  15970  Navy Blue Shirts for Men  Checked   Long Sleeves         None\n",
       "1  53759      Grey Tshirts for Men    Solid  Short Sleeves  Polo Collar\n",
       "2   1855      Grey Tshirts for Men  Printed  Short Sleeves   Round Neck\n",
       "3  30805      Green Shirts for Men  Striped   Long Sleeves         None\n",
       "4  26960   Purple Shirts for Women    Solid  Short Sleeves         None"
      ]
     },
     "execution_count": 69,
     "metadata": {},
     "output_type": "execute_result"
    }
   ],
   "source": [
    "df = merged_df\n",
    "df.head()"
   ]
  },
  {
   "cell_type": "code",
   "execution_count": 70,
   "metadata": {},
   "outputs": [
    {
     "name": "stdout",
     "output_type": "stream",
     "text": [
      "          id                                   new_concatenated\n",
      "0      15970  Checked Navy Blue Shirts for Men with Long Sle...\n",
      "1      53759  Solid Grey Tshirts for Men with Short Sleeves ...\n",
      "2       1855  Printed Grey Tshirts for Men with Short Sleeve...\n",
      "3      30805     Striped Green Shirts for Men with Long Sleeves\n",
      "4      26960   Solid Purple Shirts for Women with Short Sleeves\n",
      "...      ...                                                ...\n",
      "15396  30614   Striped Black Tshirts for Men with Short Sleeves\n",
      "15397  13496  Printed Blue Tshirts for Men with Short Sleeve...\n",
      "15398  12544  Printed Peach Tshirts for Women with Short Sle...\n",
      "15399  42234        Printed Blue Tops for Women with Sleeveless\n",
      "15400  18842  Printed Blue Tshirts for Men with Short Sleeve...\n",
      "\n",
      "[15401 rows x 2 columns]\n"
     ]
    }
   ],
   "source": [
    "# Concatenating strings based on conditions\n",
    "def concat_strings(row):\n",
    "    pattern = row['Pattern']\n",
    "    concatenated = row['concatenated']\n",
    "    sleeve_length = row['Sleeve Length']\n",
    "    neck = row['Neck']\n",
    "    \n",
    "    # Initialize an empty string to store the concatenated result\n",
    "    result = pattern + ' ' + concatenated + ' with '\n",
    "    \n",
    "    # Check if Sleeve Length is not None\n",
    "    if sleeve_length is not None:\n",
    "        result += sleeve_length\n",
    "        # Check if Neck is not None\n",
    "        if neck is not None:\n",
    "            result += ' and ' + neck\n",
    "    # Check if Neck is not None and Sleeve Length is None\n",
    "    elif neck is not None:\n",
    "        result += neck\n",
    "    \n",
    "    return result\n",
    "\n",
    "# Apply the function to each row in the DataFrame, handling None values\n",
    "df['new_concatenated'] = df.apply(lambda row: concat_strings(row) if not pd.isna(row['Pattern']) else row['concatenated'], axis=1)\n",
    "\n",
    "# Display the resulting DataFrame\n",
    "print(df[['id', 'new_concatenated']])"
   ]
  },
  {
   "cell_type": "code",
   "execution_count": 71,
   "metadata": {},
   "outputs": [
    {
     "data": {
      "text/html": [
       "<div>\n",
       "<style scoped>\n",
       "    .dataframe tbody tr th:only-of-type {\n",
       "        vertical-align: middle;\n",
       "    }\n",
       "\n",
       "    .dataframe tbody tr th {\n",
       "        vertical-align: top;\n",
       "    }\n",
       "\n",
       "    .dataframe thead th {\n",
       "        text-align: right;\n",
       "    }\n",
       "</style>\n",
       "<table border=\"1\" class=\"dataframe\">\n",
       "  <thead>\n",
       "    <tr style=\"text-align: right;\">\n",
       "      <th></th>\n",
       "      <th>id</th>\n",
       "      <th>concatenated</th>\n",
       "      <th>Pattern</th>\n",
       "      <th>Sleeve Length</th>\n",
       "      <th>Neck</th>\n",
       "      <th>new_concatenated</th>\n",
       "    </tr>\n",
       "  </thead>\n",
       "  <tbody>\n",
       "    <tr>\n",
       "      <th>0</th>\n",
       "      <td>15970</td>\n",
       "      <td>Navy Blue Shirts for Men</td>\n",
       "      <td>Checked</td>\n",
       "      <td>Long Sleeves</td>\n",
       "      <td>None</td>\n",
       "      <td>Checked Navy Blue Shirts for Men with Long Sle...</td>\n",
       "    </tr>\n",
       "    <tr>\n",
       "      <th>1</th>\n",
       "      <td>53759</td>\n",
       "      <td>Grey Tshirts for Men</td>\n",
       "      <td>Solid</td>\n",
       "      <td>Short Sleeves</td>\n",
       "      <td>Polo Collar</td>\n",
       "      <td>Solid Grey Tshirts for Men with Short Sleeves ...</td>\n",
       "    </tr>\n",
       "    <tr>\n",
       "      <th>2</th>\n",
       "      <td>1855</td>\n",
       "      <td>Grey Tshirts for Men</td>\n",
       "      <td>Printed</td>\n",
       "      <td>Short Sleeves</td>\n",
       "      <td>Round Neck</td>\n",
       "      <td>Printed Grey Tshirts for Men with Short Sleeve...</td>\n",
       "    </tr>\n",
       "    <tr>\n",
       "      <th>3</th>\n",
       "      <td>30805</td>\n",
       "      <td>Green Shirts for Men</td>\n",
       "      <td>Striped</td>\n",
       "      <td>Long Sleeves</td>\n",
       "      <td>None</td>\n",
       "      <td>Striped Green Shirts for Men with Long Sleeves</td>\n",
       "    </tr>\n",
       "    <tr>\n",
       "      <th>4</th>\n",
       "      <td>26960</td>\n",
       "      <td>Purple Shirts for Women</td>\n",
       "      <td>Solid</td>\n",
       "      <td>Short Sleeves</td>\n",
       "      <td>None</td>\n",
       "      <td>Solid Purple Shirts for Women with Short Sleeves</td>\n",
       "    </tr>\n",
       "  </tbody>\n",
       "</table>\n",
       "</div>"
      ],
      "text/plain": [
       "      id              concatenated  Pattern  Sleeve Length         Neck  \\\n",
       "0  15970  Navy Blue Shirts for Men  Checked   Long Sleeves         None   \n",
       "1  53759      Grey Tshirts for Men    Solid  Short Sleeves  Polo Collar   \n",
       "2   1855      Grey Tshirts for Men  Printed  Short Sleeves   Round Neck   \n",
       "3  30805      Green Shirts for Men  Striped   Long Sleeves         None   \n",
       "4  26960   Purple Shirts for Women    Solid  Short Sleeves         None   \n",
       "\n",
       "                                    new_concatenated  \n",
       "0  Checked Navy Blue Shirts for Men with Long Sle...  \n",
       "1  Solid Grey Tshirts for Men with Short Sleeves ...  \n",
       "2  Printed Grey Tshirts for Men with Short Sleeve...  \n",
       "3     Striped Green Shirts for Men with Long Sleeves  \n",
       "4   Solid Purple Shirts for Women with Short Sleeves  "
      ]
     },
     "execution_count": 71,
     "metadata": {},
     "output_type": "execute_result"
    }
   ],
   "source": [
    "df.head()"
   ]
  },
  {
   "cell_type": "code",
   "execution_count": 72,
   "metadata": {},
   "outputs": [],
   "source": [
    "df.drop(columns=['concatenated','Pattern','Sleeve Length','Neck'],inplace=True)"
   ]
  },
  {
   "cell_type": "code",
   "execution_count": 73,
   "metadata": {},
   "outputs": [],
   "source": [
    "df['id'] = df['id'].astype(str) + '.jpg '\n",
    "df['caption_number'] = 0\n",
    "df['caption_id'] = range(len(df))\n",
    "df.rename(columns={'id': 'name'}, inplace=True)\n",
    "df.rename(columns={'caption_id': 'id'}, inplace=True)\n",
    "df.rename(columns={'new_concatenated': 'caption'}, inplace=True)"
   ]
  },
  {
   "cell_type": "code",
   "execution_count": 61,
   "metadata": {},
   "outputs": [],
   "source": [
    "df.to_csv('../Datasets/44K/captions.csv',index=False)"
   ]
  },
  {
   "cell_type": "code",
   "execution_count": 74,
   "metadata": {},
   "outputs": [
    {
     "data": {
      "text/plain": [
       "id              0\n",
       "concatenated    0\n",
       "dtype: int64"
      ]
     },
     "execution_count": 74,
     "metadata": {},
     "output_type": "execute_result"
    }
   ],
   "source": [
    "topwear_df.isnull().sum()"
   ]
  },
  {
   "cell_type": "code",
   "execution_count": 75,
   "metadata": {},
   "outputs": [
    {
     "data": {
      "text/plain": [
       "name              0\n",
       "caption           0\n",
       "caption_number    0\n",
       "id                0\n",
       "dtype: int64"
      ]
     },
     "execution_count": 75,
     "metadata": {},
     "output_type": "execute_result"
    }
   ],
   "source": [
    "df.isnull().sum()"
   ]
  },
  {
   "cell_type": "code",
   "execution_count": 10,
   "metadata": {},
   "outputs": [
    {
     "data": {
      "text/html": [
       "<div>\n",
       "<style scoped>\n",
       "    .dataframe tbody tr th:only-of-type {\n",
       "        vertical-align: middle;\n",
       "    }\n",
       "\n",
       "    .dataframe tbody tr th {\n",
       "        vertical-align: top;\n",
       "    }\n",
       "\n",
       "    .dataframe thead th {\n",
       "        text-align: right;\n",
       "    }\n",
       "</style>\n",
       "<table border=\"1\" class=\"dataframe\">\n",
       "  <thead>\n",
       "    <tr style=\"text-align: right;\">\n",
       "      <th></th>\n",
       "      <th>image</th>\n",
       "      <th>caption</th>\n",
       "      <th>caption_number</th>\n",
       "      <th>id</th>\n",
       "    </tr>\n",
       "  </thead>\n",
       "  <tbody>\n",
       "    <tr>\n",
       "      <th>0</th>\n",
       "      <td>15970.jpg</td>\n",
       "      <td>Checked Navy Blue Shirts for Men with Long Sle...</td>\n",
       "      <td>0</td>\n",
       "      <td>0</td>\n",
       "    </tr>\n",
       "    <tr>\n",
       "      <th>1</th>\n",
       "      <td>53759.jpg</td>\n",
       "      <td>Solid Grey Tshirts for Men with Short Sleeves ...</td>\n",
       "      <td>0</td>\n",
       "      <td>1</td>\n",
       "    </tr>\n",
       "    <tr>\n",
       "      <th>2</th>\n",
       "      <td>1855.jpg</td>\n",
       "      <td>Printed Grey Tshirts for Men with Short Sleeve...</td>\n",
       "      <td>0</td>\n",
       "      <td>2</td>\n",
       "    </tr>\n",
       "    <tr>\n",
       "      <th>3</th>\n",
       "      <td>30805.jpg</td>\n",
       "      <td>Striped Green Shirts for Men with Long Sleeves</td>\n",
       "      <td>0</td>\n",
       "      <td>3</td>\n",
       "    </tr>\n",
       "    <tr>\n",
       "      <th>4</th>\n",
       "      <td>26960.jpg</td>\n",
       "      <td>Solid Purple Shirts for Women with Short Sleeves</td>\n",
       "      <td>0</td>\n",
       "      <td>4</td>\n",
       "    </tr>\n",
       "  </tbody>\n",
       "</table>\n",
       "</div>"
      ],
      "text/plain": [
       "        image                                            caption  \\\n",
       "0  15970.jpg   Checked Navy Blue Shirts for Men with Long Sle...   \n",
       "1  53759.jpg   Solid Grey Tshirts for Men with Short Sleeves ...   \n",
       "2   1855.jpg   Printed Grey Tshirts for Men with Short Sleeve...   \n",
       "3  30805.jpg      Striped Green Shirts for Men with Long Sleeves   \n",
       "4  26960.jpg    Solid Purple Shirts for Women with Short Sleeves   \n",
       "\n",
       "   caption_number  id  \n",
       "0               0   0  \n",
       "1               0   1  \n",
       "2               0   2  \n",
       "3               0   3  \n",
       "4               0   4  "
      ]
     },
     "execution_count": 10,
     "metadata": {},
     "output_type": "execute_result"
    }
   ],
   "source": [
    "import pandas as pd\n",
    "import os\n",
    "df = pd.read_csv('captions.csv')\n",
    "df.head()"
   ]
  },
  {
   "cell_type": "code",
   "execution_count": 11,
   "metadata": {},
   "outputs": [
    {
     "name": "stdout",
     "output_type": "stream",
     "text": [
      "Number of images in folder that match with image names in DataFrame: 0\n"
     ]
    }
   ],
   "source": [
    "\n",
    "# Path to your folder containing images\n",
    "folder_path = '../Datasets/44K/Images'\n",
    "\n",
    "# List all files in the folder\n",
    "folder_files = os.listdir(folder_path)\n",
    "\n",
    "# Extract just the filenames without extensions\n",
    "folder_images = [file.split('.')[0] for file in folder_files]\n",
    "\n",
    "# Count the number of matches between folder images and image names in DataFrame\n",
    "matching_images_count = sum(image_name in folder_images for image_name in df['image'])\n",
    "\n",
    "print(\"Number of images in folder that match with image names in DataFrame:\", matching_images_count)"
   ]
  },
  {
   "cell_type": "code",
   "execution_count": 12,
   "metadata": {},
   "outputs": [
    {
     "name": "stdout",
     "output_type": "stream",
     "text": [
      "Folder images: ['10003', '10005', '10006', '10007', '10008', '10009', '10010', '10013', '10015', '10017', '10019', '10022', '10024', '10025', '10026', '10027', '10028', '10029', '10030', '10031', '10032', '10034', '10040', '10041', '10042', '10043', '10044', '10045', '10046', '10047', '10048', '10049', '10050', '10051', '10053', '10054', '10057', '10058', '10059', '10060', '10061', '10062', '10063', '10064', '10065', '10066', '10067', '10068', '10069', '10070', '10071', '10072', '10073', '10074', '10075', '10076', '10184', '10185', '10186', '10187', '10188', '10189', '10190', '10255', '10256', '10324', '10335', '10336', '10338', '10339', '10340', '10341', '10342', '10343', '10344', '10345', '10346', '10347', '10348', '10350', '10352', '10354', '10355', '10356', '10357', '10358', '10359', '10361', '10362', '10363', '10364', '10367', '10369', '10370', '10371', '10372', '10373', '10374', '10376', '10377', '10378', '10379', '10380', '10381', '10382', '10401', '10402', '10403', '10404', '10405', '10407', '10408', '10409', '10410', '10411', '10412', '10413', '10414', '10415', '10418', '10421', '10423', '10424', '10425', '10426', '10427', '10428', '10429', '10430', '10431', '10432', '10433', '10434', '10435', '10436', '10437', '10439', '10440', '10441', '10442', '10443', '10444', '10446', '10447', '10448', '10449', '10450', '10451', '10452', '10453', '10454', '10455', '10456', '10457', '10458', '10459', '10460', '10461', '10462', '10463', '10464', '10465', '10466', '10467', '10468', '10469', '10470', '10471', '10472', '10473', '10474', '10475', '10476', '10477', '10478', '10479', '10480', '10481', '10482', '10483', '10484', '10486', '10490', '10491', '10492', '10493', '10494', '10495', '10496', '10497', '10498', '10499', '10501', '10502', '10503', '10504', '10505', '10506', '10507', '10508', '10509', '10510', '10511', '10512', '10513', '10514', '10563', '10564', '10565', '10566', '10567', '10568', '10569', '10570', '10571', '10572', '10573', '10574', '10575', '10576', '10577', '10578', '10579', '10598', '10601', '10602', '10610', '10611', '10612', '10641', '10642', '10643', '10644', '10645', '10646', '10647', '10649', '10650', '10656', '10658', '10662', '10664', '10665', '10669', '10670', '10672', '10673', '10674', '10675', '10676', '10677', '10678', '10681', '10682', '10683', '10684', '10685', '10689', '10690', '10691', '10692', '10693', '10694', '10708', '10709', '10710', '10711', '10712', '10715', '10717', '10718', '10721', '10722', '10723', '10750', '10752', '10763', '10764', '10776', '10777', '10787', '10788', '10789', '10790', '10791', '10792', '10793', '10794', '10795', '10796', '10797', '10799', '10800', '10801', '10802', '10803', '10805', '10806', '10807', '10809', '10810', '10811', '10812', '10813', '10814', '10815', '10816', '10817', '10818', '10819', '10820', '10821', '10822', '10823', '10824', '10825', '10826', '10827', '10828', '10829', '10830', '10831', '10832', '10833', '10834', '10835', '10836', '10837', '10839', '10840', '10842', '10843', '10844', '10845', '10846', '10848', '10849', '10850', '10851', '10852', '10853', '10854', '10855', '10856', '10857', '10858', '10859', '10861', '10862', '10863', '10864', '10865', '10866', '10867', '10869', '10870', '10871', '10872', '10873', '10874', '10875', '10876', '10877', '10878', '10879', '10880', '10882', '10883', '10884', '10885', '10886', '10987', '10988', '10989', '10990', '10991', '10992', '10993', '10994', '10995', '10996', '11008', '11009', '11010', '11011', '11012', '11013', '11014', '11015', '11016', '11017', '11018', '11019', '11020', '11021', '11022', '11023', '11024', '11025', '11026', '11027', '11028', '11029', '11030', '11031', '11032', '11033', '11034', '11035', '11036', '11037', '11038', '11039', '11040', '11041', '11042', '11043', '11044', '11045', '11046', '11047', '11048', '11049', '11050', '11051', '11052', '11053', '11054', '11055', '11056', '11057', '11058', '11059', '11062', '11063', '11064', '11067', '11069', '11070', '11071', '11072', '11073', '11074', '11075', '11076', '11077', '11078', '11079', '11080', '11081', '11082', '11083', '11084', '11085', '11086', '11087', '11088', '11089', '11090', '11091', '11092', '11093', '11094', '11095', '11096', '11097', '11100', '11101', '11102', '11103', '11104', '11105', '11106', '11107', '11108', '11109', '11110', '11111', '11112', '11113', '11114', '11115', '11116', '11117', '11118', '11119', '11130', '11143', '11144', '11145', '11146', '11147', '11148', '11161', '11162', '11163', '11164', '11165', '11166', '11167', '11168', '11169', '11170', '11171', '11172', '11173', '11174', '11175', '11176', '11246', '11250', '11254', '11255', '11256', '11257', '11258', '11269', '11270', '11272', '11273', '11276', '11278', '11338', '11355', '11356', '11357', '11358', '11359', '11360', '11361', '11362', '11363', '11364', '11365', '11366', '11367', '11368', '11369', '11370', '11371', '11372', '11373', '11374', '11375', '11376', '11377', '11378', '11379', '11380', '11381', '11382', '11383', '11384', '11385', '11386', '11387', '11388', '11389', '11391', '11393', '11395', '11396', '11397', '11398', '11399', '11401', '11402', '11403', '11404', '11405', '11406', '11407', '11408', '11409', '11410', '11411', '11413', '11414', '11415', '11416', '11417', '11418', '11420', '11421', '11422', '11423', '11424', '11425', '11426', '11427', '11428', '11429', '11430', '11431', '11432', '11433', '11434', '11435', '11436', '11437', '11438', '11439', '11440', '11441', '11442', '11443', '11444', '11445', '11446', '11447', '11448', '11449', '11450', '11451', '11454', '11455', '11456', '11457', '11459', '11461', '11462', '11463', '11464', '11465', '11466', '11467', '11468', '11469', '11471', '11472', '11473', '11475', '11478', '11479', '11480', '11481', '11482', '11521', '11522', '11523', '11524', '11525', '11526', '11527', '11529', '11530', '11531', '11532', '11533', '11534', '11535', '11536', '11537', '11538', '11539', '11540', '11541', '11542', '11543', '11544', '11545', '11546', '11547', '11548', '11549', '11550', '11551', '11552', '11553', '11554', '11555', '11556', '11557', '11558', '11559', '11560', '11561', '11562', '11563', '11564', '11565', '11566', '11567', '11568', '11569', '11570', '11571', '11572', '11573', '11574', '11575', '11576', '11577', '11578', '11579', '11580', '11581', '11582', '11583', '11584', '11585', '11586', '11587', '11588', '11589', '11590', '11591', '11592', '11593', '11594', '11595', '11596', '11597', '11598', '11599', '11600', '11601', '11602', '11603', '11604', '11605', '11606', '11607', '11608', '11609', '11610', '11611', '11612', '11613', '11614', '11615', '11616', '11617', '11618', '11619', '11620', '11621', '11622', '11623', '11624', '11625', '11626', '11627', '11628', '11629', '1163', '11630', '11632', '1164', '11649', '1165', '11654', '11656', '11657', '11658', '11659', '11662', '11664', '11665', '11668', '11671', '11672', '11673', '11674', '11675', '11676', '11677', '11678', '11679', '11680', '11681', '11682', '11683', '11684', '11685', '11686', '11689', '11690', '11691', '11692', '11693', '11694', '11695', '11696', '11697', '11698', '11699', '11700', '11701', '11702', '11703', '11704', '11705', '11706', '11707', '11708', '11710', '11711', '11712', '11713', '11714', '11716', '11717', '11719', '11721', '11722', '11724', '11725', '11726', '11727', '11728', '11730', '11731', '11732', '11733', '11734', '11735', '11736', '11737', '11738', '11739', '11740', '11741', '11742', '11743', '11744', '11745', '11746', '11750', '11753', '11754', '11755', '11756', '11757', '11758', '11759', '11761', '11762', '11764', '11765', '11766', '11767', '11768', '11769', '11770', '11771', '11772', '11773', '11774', '11775', '11776', '11777', '11778', '11780', '11781', '11783', '11784', '11785', '11786', '11788', '11789', '11790', '11791', '11793', '11794', '11796', '11799', '11800', '11801', '11802', '11803', '11804', '11805', '11806', '11807', '11808', '11809', '11810', '11811', '11813', '11814', '11970', '11989', '11990', '11991', '11992', '11993', '11994', '11995', '11996', '11997', '11998', '11999', '12000', '12001', '12003', '12004', '12005', '12006', '12007', '12008', '12009', '12010', '12011', '12012', '12013', '12014', '12015', '12016', '12017', '12018', '12019', '12022', '12023', '12024', '12025', '12026', '12028', '12029', '12030', '12031', '12032', '12033', '12034', '12035', '12036', '12037', '12038', '12039', '12040', '12041', '12042', '12043', '12045', '12046', '12047', '12049', '12052', '12053', '12054', '12055', '12056', '12057', '12058', '12059', '12060', '12061', '12062', '12063', '12064', '12065', '12066', '12067', '12068', '12069', '12070', '12071', '12072', '12073', '12074', '12075', '12076', '12077', '12078', '12079', '12080', '12081', '12082', '12083', '12084', '12085', '12086', '12087', '12088', '12089', '12090', '12091', '12092', '12093', '12094', '12095', '12096', '12097', '12098', '12099', '12100', '12101', '12102', '12103', '12104', '12105', '12106', '12107', '12108', '12109', '12110', '12111', '12112', '12113', '12114', '12115', '12116', '12117', '12118', '12119', '12120', '12121', '12122', '12123', '12124', '12125', '12126', '12127', '12128', '12129', '12130', '12131', '12132', '12133', '12134', '12135', '12136', '12137', '12138', '12139', '12140', '12141', '12142', '12143', '12144', '12145', '12146', '12147', '12148', '12149', '12150', '12151', '12152', '12153', '12164', '12165', '12166', '12167', '12168', '12169', '12170', '12171', '12172', '12173', '12174', '12175', '12176', '12177', '12178', '12179', '12180', '12181', '12182', '12183', '12184', '12185', '12186', '12187', '12188', '12189', '12190', '12191', '12193', '12194', '12195', '12196', '12197', '12198', '12199', '12200', '12202', '12203', '12204', '12206', '12207', '12208', '12209', '12210', '12211', '12225', '12226', '12229', '12230', '12233', '12234', '12235', '12236', '12237', '12238', '12239', '12241', '12242', '12244', '12245', '12246', '12247', '12249', '12251', '12253', '12254', '12255', '12257', '12258', '12259', '12260', '12263', '12264', '12265', '12266', '12267', '12271', '12272', '12273', '12274', '12275', '12277', '12278', '12279', '12282', '12284', '12292', '12295', '12296', '12297', '12298', '12303', '12304', '12305', '12309', '12311', '12313', '12316', '12318', '12319', '12320', '12321', '12322', '12324', '12326', '12327', '12328', '12329', '12337', '12339', '12340', '12346', '12350', '12354', '12357', '12358', '12360', '12361', '12364', '12367', '12368', '12369', '12371', '12372', '12374', '12376', '12378', '12380', '12381', '12383', '12385', '12386', '12387', '12460', '12462', '12468', '12469', '12470', '12471', '12490', '12491', '12492', '12494', '12495', '12496', '12497', '12498', '12500', '12501', '12502', '12503', '12504', '12505', '12530', '12531', '12532', '12533', '12534', '12535', '12536', '12539', '12540', '12541', '12542', '12543', '12544', '12545', '12546', '12556', '12557', '12560', '12567', '12568', '12569', '12572', '12576', '12577', '12578', '12579', '12580', '12581', '12582', '12583', '12584', '12585', '12586', '12587', '12588', '12589', '12590', '12591', '12592', '12593', '12594', '12595', '12597', '12598', '12599', '12600', '12601', '12602', '12603', '12604', '12605', '12606', '12607', '12608', '12609', '12610', '12611', '12612', '12613', '12614', '12615', '12616', '12618', '12619', '12620', '12621', '12622', '12623', '12624', '12625', '12626', '12627', '12629', '12630', '12631', '12632', '12633', '12634', '12635', '12636', '12637', '12638', '12639', '12640', '12641', '12642', '12643', '12644', '12645', '12646', '12649', '12650', '12651', '12652', '12653', '12654', '12655', '12656', '12657', '12658', '12659', '12660', '12661', '12662', '12663', '12664', '12665', '12666', '12667', '12668', '12669', '12726', '12727', '12728', '12729', '12730', '12731', '12755', '12757', '12766', '12768', '12769', '12770', '12771', '12772', '12773', '12774', '12775', '12776', '12777', '12778', '12779', '12782', '12783', '12784', '12785', '12786', '12787', '12788', '12789', '12790', '12791', '12792', '12793', '12794', '12795', '12796', '12797', '12798', '12799', '12800', '12801', '12802', '12803', '12804', '12805', '12806', '12807', '12808', '12809', '12826', '12827', '12831', '12832', '12833', '12834', '12836', '12838', '12840', '12841', '12842', '12843', '12844', '12845', '12846', '12847', '12850', '12851', '12852', '12884', '12907', '12908', '12909', '12910', '12912', '12913', '12914', '12915', '12916', '12917', '12918', '12928', '12929', '12930', '12931', '12932', '12933', '12934', '12935', '12936', '12937', '12939', '12940', '12941', '12942', '12943', '12944', '12945', '12946', '12947', '12948', '12950', '12951', '12952', '12988', '13048', '13049', '13050', '13051', '13088', '13089', '13090', '13091', '13092', '13093', '13094', '13095', '13096', '13097', '13098', '13099', '13100', '13101', '13102', '13103', '13104', '13105', '13106', '13107', '13120', '13151', '13152', '13153', '13154', '13155', '13156', '13157', '13158', '13159', '13160', '13216', '13217', '13218', '13219', '13220', '13221', '13224', '13225', '13226', '13227', '13232', '13233', '13234', '13235', '13238', '13239', '13240', '13241', '13252', '13253', '13254', '13266', '13267', '13268', '13269', '13270', '13283', '13286', '13287', '13289', '13291', '13292', '13294', '13295', '13296', '13297', '13308', '13309', '13311', '13312', '13313', '13314', '13315', '13316', '13317', '13318', '13319', '13320', '13321', '13322', '13323', '13324', '13325', '13326', '13327', '13328', '13329', '13330', '13331', '13332', '13333', '13334', '13335', '13336', '13337', '13338', '13389', '13390', '13391', '13392', '13393', '13394', '13395', '13396', '13397', '13398', '13399', '13400', '13401', '13402', '13403', '13404', '13405', '13406', '13407', '13408', '13410', '13411', '13412', '13413', '13414', '13415', '13416', '13417', '13418', '13419', '13420', '13421', '13422', '13423', '13424', '13425', '13426', '13427', '13428', '13429', '13430', '13432', '13433', '13434', '13435', '13436', '13437', '13438', '13439', '13440', '13441', '13442', '13443', '13444', '13445', '13446', '13447', '13448', '13449', '13450', '13451', '13452', '13453', '13454', '13455', '13456', '13457', '13458', '13459', '13460', '13461', '13462', '13463', '13464', '13465', '13466', '13467', '13468', '13469', '13471', '13486', '13487', '13489', '13491', '13494', '13495', '13496', '13497', '13498', '13499', '13500', '13501', '13502', '13503', '13504', '13505', '13506', '13507', '13508', '13509', '13510', '13511', '13513', '13517', '13518', '13519', '13520', '13521', '13522', '13523', '13524', '13525', '13527', '13529', '13659', '13661', '13662', '13666', '13668', '13705', '13706', '13707', '13711', '13712', '13713', '13714', '13715', '13728', '13729', '13730', '13731', '13732', '13733', '13734', '13735', '13736', '13737', '13738', '13739', '13740', '13741', '13743', '13744', '13745', '13746', '13747', '13748', '13749', '13750', '13751', '13752', '13753', '13754', '13755', '13756', '13757', '13758', '13759', '13760', '13761', '13762', '13763', '13764', '13765', '13767', '13768', '13769', '13770', '13771', '13774', '13776', '13786', '13789', '13790', '13792', '13793', '13796', '13799', '13800', '13802', '13803', '13812', '13813', '13814', '13815', '13816', '13826', '13827', '13828', '13829', '13830', '13831', '13832', '13833', '13835', '13845', '13846', '13847', '13848', '13849', '13850', '13851', '13852', '13853', '13854', '13856', '13857', '13858', '13859', '13860', '13861', '13862', '13863', '13864', '13865', '13866', '13867', '13868', '13869', '13870', '13871', '13872', '13873', '13874', '13875', '13877', '13878', '13879', '13880', '13881', '13882', '13883', '13884', '13885', '13886', '13887', '13889', '13890', '13891', '13892', '13894', '13895', '13928', '13929', '13932', '13933', '13934', '13935', '13936', '13938', '13939', '13940', '13941', '13942', '13943', '13945', '13946', '13947', '13950', '13951', '13952', '13953', '13954', '13955', '13956', '13957', '13958', '13959', '13960', '13961', '13962', '13963', '13964', '13965', '13966', '13967', '13994', '13995', '13996', '13997', '13998', '13999', '14000', '14001', '14002', '14003', '14004', '14005', '14006', '14007', '14008', '14009', '14010', '14011', '14012', '14013', '14014', '14015', '14016', '14017', '14018', '14019', '14020', '14026', '14027', '14030', '14031', '14032', '14033', '14034', '14035', '14036', '14037', '14038', '14039', '14040', '14041', '14042', '14043', '14044', '14045', '14047', '14048', '14049', '14050', '14051', '14052', '14053', '14054', '14055', '14056', '14057', '14058', '14059', '14060', '14061', '14062', '14063', '14064', '14065', '14066', '14067', '14068', '14069', '14070', '14071', '14072', '14073', '14074', '14075', '14076', '14077', '14078', '14079', '14080', '14081', '14082', '14083', '14084', '14085', '14086', '14087', '14088', '14089', '14090', '14091', '14092', '14093', '14094', '14095', '14096', '14097', '14098', '14099', '14100', '14101', '14102', '14103', '14104', '14105', '14106', '14107', '14108', '14109', '14110', '14111', '14112', '14113', '14119', '14120', '14132', '14133', '14136', '14200', '14287', '14288', '14289', '14290', '14291', '14293', '14294', '14295', '14296', '14297', '14298', '14299', '14300', '14301', '14302', '14303', '14304', '14306', '14307', '14308', '14309', '14310', '14311', '14312', '14313', '14314', '14315', '14316', '14317', '14318', '14322', '14323', '14324', '14325', '14326', '14507', '14508', '14510', '14511', '14512', '14513', '14514', '14515', '14516', '14517', '14518', '14519', '14520', '14521', '14522', '14523', '14524', '14526', '14527', '14528', '14529', '14530', '14531', '14532', '14533', '14534', '14535', '14536', '14537', '14538', '14539', '14540', '14541', '14542', '14543', '14544', '14545', '14546', '14547', '14548', '14549', '14550', '14551', '14580', '14581', '14582', '14583', '14584', '14585', '14620', '14621', '14622', '14623', '14624', '14626', '14627', '14628', '14633', '14637', '14638', '14639', '14640', '14641', '14642', '14643', '14644', '14645', '14646', '14647', '14648', '14649', '14650', '14651', '14652', '14653', '14654', '14656', '14660', '14661', '14662', '14663', '14664', '14665', '14666', '14667', '14668', '14669', '14671', '14672', '14673', '14674', '14675', '14676', '14677', '14678', '14679', '14680', '14681', '14682', '14683', '14684', '14685', '14686', '14702', '14703', '14704', '14706', '14708', '14711', '14712', '14715', '14716', '14717', '14718', '14719', '14720', '14721', '14722', '14723', '14726', '14727', '14728', '14729', '14730', '14731', '14732', '14733', '14734', '14735', '14736', '14737', '14738', '14739', '14740', '14741', '14742', '14743', '14744', '14745', '14746', '14747', '14748', '14749', '14750', '14751', '14752', '14753', '14754', '14755', '14756', '14757', '14758', '14759', '14760', '14761', '14762', '14763', '14764', '14765', '14766', '14767', '14768', '14769', '14770', '14771', '14772', '14773', '14774', '14775', '14776', '14777', '14778', '14779', '14780', '14781', '14782', '14783', '14784', '14785', '14786', '14787', '14910', '14911', '14912', '14913', '14914', '14915', '14916', '14917', '14918', '14919', '14920', '14921', '14922', '14924', '14925', '14926', '14927', '14928', '14930', '14942', '14943', '14944', '14945', '14946', '14948', '14949', '14950', '14951', '14952', '14953', '14954', '14955', '14956', '14957', '14958', '14959', '14960', '14961', '14983', '14984', '14985', '14986', '14987', '14988', '14989', '14990', '14991', '14993', '14994', '14995', '14996', '14997', '14998', '14999', '15000', '15001', '15002', '15003', '15004', '15005', '15006', '15007', '15008', '15009', '15010', '15012', '15013', '15014', '15015', '15016', '15017', '15018', '15019', '15020', '15021', '15023', '15026', '15027', '15028', '15029', '15030', '15031', '15032', '15033', '15034', '15035', '15036', '15037', '15038', '15039', '15040', '15041', '15042', '15043', '15044', '15045', '15046', '15047', '15048', '15075', '15076', '15077', '15078', '15079', '15080', '15081', '15082', '15085', '15086', '15087', '15088', '15089', '15090', '15091', '15092', '15093', '15094', '15095', '15096', '15097', '15098', '15099', '15100', '15101', '15102', '15103', '15104', '15105', '15106', '15107', '15108', '15140', '15141', '15144', '15145', '15147', '15150', '15151', '15152', '15154', '15157', '15160', '15162', '15163', '15165', '15166', '15168', '15169', '15170', '15171', '15172', '15174', '15177', '15179', '15182', '15183', '15184', '15185', '15187', '15189', '15190', '15191', '15192', '15193', '15194', '15195', '15196', '15197', '15199', '15200', '15201', '15202', '15206', '15207', '15209', '15210', '15211', '1528', '15283', '1529', '1530', '1531', '15317', '15318', '15319', '1532', '15320', '15321', '15322', '15323', '15324', '15325', '15326', '15327', '15328', '15329', '1533', '1534', '15342', '15343', '15345', '15346', '15347', '15348', '1536', '1537', '15370', '15371', '15372', '15373', '1538', '1539', '1540', '15462', '15464', '15465', '15466', '15468', '15469', '15470', '15471', '15472', '15473', '15474', '15475', '15476', '15477', '15478', '15479', '15483', '15527', '15528', '15529', '15530', '15555', '15557', '15558', '15570', '15571', '15572', '15573', '15574', '15575', '15576', '15577', '15578', '15579', '15581', '15583', '15585', '15586', '15587', '15588', '15590', '15598', '15599', '15600', '15601', '15602', '15603', '15604', '15605', '15606', '15607', '1561', '15614', '15615', '15616', '15617', '15618', '15619', '1562', '15620', '15621', '15623', '15624', '15625', '15626', '15627', '15628', '15629', '1563', '15630', '15633', '15634', '15635', '15636', '15637', '15638', '15639', '15640', '15641', '15646', '15647', '15648', '15649', '15650', '15690', '15692', '15693', '15696', '15697', '15698', '1570', '15701', '15702', '15703', '1575', '1578', '1579', '15829', '15830', '15831', '15832', '15833', '15834', '15835', '15836', '15837', '15838', '15839', '1584', '15840', '15841', '15842', '15844', '15846', '1588', '15907', '15908', '15910', '15912', '15913', '15914', '15915', '15931', '15933', '1595', '15962', '15963', '15964', '15965', '15966', '15967', '15968', '15969', '15970', '15971', '15972', '15973', '15974', '15975', '15976', '15977', '15981', '15982', '15983', '15984', '15985', '15986', '15987', '15988', '15989', '15990', '15992', '15993', '15994', '15995', '15996', '15997', '15998', '15999', '16000', '16001', '16002', '16003', '16004', '16005', '16006', '16007', '16009', '16010', '16023', '16024', '16025', '16026', '16027', '16028', '16029', '1603', '16030', '16031', '16032', '16033', '16034', '16035', '16036', '16037', '16038', '16039', '16041', '16042', '16043', '16044', '16045', '16046', '16047', '16048', '16050', '16051', '16052', '16053', '1609', '1610', '1611', '1612', '16122', '16123', '16124', '16125', '16126', '16127', '16128', '16129', '1613', '16130', '16131', '16132', '16133', '16134', '16135', '16136', '16137', '16138', '16139', '1614', '16140', '16141', '16142', '16143', '16145', '16146', '16147', '16148', '16149', '1615', '1616', '1617', '16190', '16191', '16192', '16193', '16194', '16195', '16196', '16197', '16199', '16200', '16201', '16202', '16203', '16204', '16205', '16206', '16207', '16208', '16209', '16210', '16211', '16212', '16213', '16215', '16218', '16219', '1622', '16220', '16223', '16227', '16228', '16229', '16231', '16232', '16233', '16234', '1625', '16250', '16251', '16271', '16272', '16273', '16274', '16275', '16276', '16278', '16280', '16281', '16282', '16283', '16284', '16285', '16286', '16287', '16288', '16289', '16290', '16291', '16292', '16293', '16295', '16296', '16298', '16299', '16303', '16312', '16314', '16315', '16316', '16317', '16318', '16319', '16320', '16321', '16322', '16323', '16324', '16325', '16326', '16327', '16331', '16332', '16333', '16334', '16335', '16336', '16337', '16338', '16339', '16340', '16341', '16343', '16344', '16345', '16350', '16351', '16353', '16354', '16355', '16357', '16358', '16360', '16361', '16362', '16363', '16364', '16365', '16367', '16383', '16385', '16387', '16388', '16389', '16392', '16393', '16394', '16395', '16396', '16397', '16398', '16399', '16400', '16401', '16402', '16403', '16404', '16405', '16406', '16407', '16408', '16409', '16411', '16412', '16413', '16414', '16415', '16416', '16417', '16418', '16419', '16420', '16421', '16422', '16423', '16424', '16425', '16426', '16427', '16428', '16429', '16430', '16431', '16432', '16433', '16434', '16435', '16436', '16437', '16438', '16439', '1644', '16440', '16441', '16442', '16443', '16444', '16445', '16447', '16448', '16449', '1645', '16450', '16452', '16455', '16456', '16457', '16458', '16459', '16460', '16461', '16462', '16463', '16464', '16465', '16466', '16467', '16468', '16469', '16470', '16471', '16472', '16475', '16476', '16482', '16483', '16484', '16485', '16487', '16488', '16489', '16490', '16491', '16492', '16493', '16494', '16495', '16496', '16497', '16498', '16499', '16501', '16502', '16503', '1651', '16524', '16526', '16527', '16529', '16530', '16532', '16533', '16534', '16538', '16539', '16540', '16541', '16542', '16543', '16544', '16545', '16546', '16547', '16548', '16549', '16550', '16551', '16552', '16553', '16554', '16555', '16556', '16557', '1658', '16602', '16603', '16604', '16605', '16606', '16607', '16608', '16616', '16617', '16619', '1662', '16620', '16625', '16626', '16627', '16628', '16629', '16630', '16631', '16632', '16633', '16634', '16635', '16636', '16637', '16638', '16639', '16640', '16641', '16642', '16643', '16644', '16645', '16646', '16647', '16648', '16649', '16650', '16661', '16664', '1668', '16691', '1670', '16704', '16708', '1671', '16719', '16724', '1673', '1678', '16789', '16791', '16792', '16793', '16794', '16797', '16802', '16807', '16808', '16810', '16812', '16813', '16814', '16815', '16817', '16818', '16821', '16822', '16823', '16824', '16825', '16826', '16827', '16828', '16829', '16830', '16831', '16832', '16833', '16834', '1689', '16899', '16900', '16901', '16902', '16903', '16905', '16906', '16907', '16908', '16909', '16910', '16911', '16912', '16913', '16914', '16915', '16916', '16923', '16924', '16925', '16926', '16927', '16928', '16929', '16931', '16932', '16933', '16990', '16991', '17150', '17151', '17152', '17153', '17154', '17155', '17156', '17157', '17158', '17159', '17160', '17161', '17162', '17163', '17164', '17165', '17166', '17167', '17168', '17169', '17170', '17171', '17172', '17173', '17174', '17175', '17176', '17177', '17178', '17179', '17180', '17181', '17182', '17183', '17184', '17185', '17186', '17187', '17188', '17189', '17190', '17191', '17192', '17193', '17194', '17195', '17196', '17197', '17198', '17199', '17200', '17201', '17202', '17203', '17232', '17233', '17234', '17235', '17236', '17237', '17238', '17239', '17240', '17241', '17242', '17243', '17244', '17245', '17246', '17247', '17248', '17249', '17250', '17251', '17252', '17253', '17254', '17255', '17256', '17257', '17258', '17259', '17260', '17261', '17262', '17263', '17264', '17265', '17266', '17267', '17268', '17269', '17270', '17271', '17272', '17273', '17274', '17275', '17276', '17277', '17278', '17279', '17280', '17281', '17282', '17283', '17284', '17285', '17286', '17287', '17288', '17289', '17290', '17496', '17497', '17498', '17499', '17500', '17501', '17502', '17503', '17504', '17505', '17506', '17507', '17508', '17509', '17510', '17511', '17512', '17513', '17514', '17515', '17516', '1752', '17534', '17535', '17536', '17537', '17538', '17539', '1754', '17540', '17541', '17542', '17544', '17545', '17546', '17547', '17548', '17549', '1755', '17550', '17551', '17552', '17553', '17554', '17555', '17556', '17557', '17558', '17559', '1756', '17560', '17561', '17562', '17563', '17564', '17565', '17567', '17568', '17569', '1757', '17570', '17571', '17572', '17573', '17575', '17576', '1758', '1759', '1760', '17608', '17609', '17611', '17612', '17613', '17614', '17615', '17616', '17617', '1762', '17626', '17627', '17628', '17629', '1763', '1765', '1766', '17713', '17714', '17715', '17717', '17718', '17719', '17720', '17721', '17722', '17723', '17724', '17725', '17726', '17727', '17729', '17750', '17751', '17752', '17753', '17754', '17755', '17796', '17797', '17798', '17799', '17800', '17801', '17802', '17803', '17805', '17806', '17807', '17808', '17809', '17810', '17811', '17812', '17848', '17849', '17850', '17851', '17852', '17896', '17897', '17898', '17899', '17900', '17901', '17904', '17905', '17906', '17907', '17908', '17909', '17910', '17911', '17912', '17913', '17914', '17915', '17916', '17917', '17918', '17919', '17920', '17921', '17922', '17923', '17932', '17933', '17935', '17936', '17937', '17940', '17941', '17942', '17943', '17944', '1796', '1798', '17998', '18003', '18004', '1803', '1807', '1809', '1810', '1811', '1812', '1813', '1814', '18170', '18171', '18172', '18173', '18176', '18178', '18179', '18194', '18195', '18199', '18200', '18201', '18202', '18203', '18205', '18224', '18225', '18226', '18227', '18229', '18230', '18231', '18232', '18233', '18234', '18235', '18236', '18237', '18238', '18240', '18241', '18242', '18243', '18244', '18245', '18246', '18248', '18249', '18254', '18255', '18256', '18257', '18258', '18259', '18260', '18261', '18262', '18263', '18265', '18266', '18267', '18268', '18269', '18270', '18271', '18272', '18273', '18274', '18275', '18276', '18277', '18278', '18280', '18281', '18282', '18283', '18284', '18286', '18287', '18288', '18289', '18290', '18291', '18292', '18293', '18294', '18295', '18296', '18297', '18298', '18299', '18300', '18301', '18302', '18303', '18304', '18305', '18306', '18307', '18308', '18309', '18310', '18311', '18312', '18313', '18314', '18316', '18317', '18318', '18319', '18320', '18321', '18322', '18323', '18324', '18326', '18327', '1844', '1845', '1846', '1847', '1848', '1849', '18491', '18499', '18500', '18501', '18509', '18512', '18517', '18518', '1852', '18520', '18521', '18522', '18523', '18524', '1853', '1854', '1855', '1856', '18569', '1857', '18570', '18571', '18572', '18573', '18574', '18575', '18576', '18577', '18578', '1859', '1860', '18609', '1861', '18610', '18611', '18612', '18613', '18614', '18615', '18616', '18617', '18618', '18619', '1862', '18620', '18621', '18622', '18623', '18624', '18625', '18626', '18627', '18628', '18629', '1863', '18630', '18631', '18632', '18633', '18634', '18635', '18636', '18637', '18638', '18639', '18640', '18641', '18642', '18643', '18645', '18646', '1865', '1866', '1867', '1868', '1869', '1870', '1871', '18714', '18715', '18716', '18717', '18718', '18719', '1872', '18720', '18721', '18722', '18724', '18725', '18726', '18727', '18728', '18729', '18730', '18731', '18732', '18733', '18734', '18737', '18738', '18739', '18740', '18741', '18742', '18743', '18744', '18745', '18746', '18747', '18748', '18749', '1875', '18750', '18751', '18752', '18753', '18756', '18757', '18759', '1876', '18760', '18761', '18762', '18763', '18764', '1877', '18788', '1879', '1880', '1881', '1882', '18842', '18843', '18844', '18845', '18846', '18847', '18848', '18849', '18850', '18851', '18852', '18854', '18855', '18856', '18857', '18858', '18859', '1886', '18860', '18861', '18862', '18863', '18864', '18865', '1887', '18877', '18878', '18879', '1888', '18880', '18881', '18882', '18883', '18884', '18885', '18886', '18887', '18888', '18889', '1889', '18890', '18891', '18892', '18893', '18898', '18899', '1890', '18900', '1891', '18912', '18913', '18915', '18916', '18917', '18918', '18919', '1892', '18920', '18921', '18922', '18923', '18924', '18925', '18926', '18927', '18929', '18930', '18931', '18932', '18933', '18934', '18935', '18936', '18937', '18938', '18939', '18940', '18941', '18942', '1895', '18957', '18958', '18959', '18960', '18961', '18962', '18963', '18964', '18965', '18966', '18968', '18969', '1897', '18971', '18973', '18974', '18975', '18977', '18978', '18979', '18980', '18981', '18982', '18983', '18984', '18985', '18986', '18987', '18988', '18989', '18990', '18991', '18992', '18993', '18994', '18999', '19000', '19001', '19003', '19004', '19005', '19006', '19007', '19008', '19009', '19010', '19012', '19013', '19014', '19015', '19016', '19017', '1902', '1903', '1904', '1905', '19054', '19055', '19056', '19057', '19058', '19059', '1906', '19060', '19061', '19062', '19063', '19064', '19065', '19066', '19067', '19068', '19069', '1907', '19070', '19071', '19072', '19073', '19074', '19075', '19076', '19077', '19078', '19079', '19080', '19081', '19082', '19083', '19084', '19085', '19086', '19087', '19088', '19089', '1909', '19090', '19091', '19092', '19093', '19094', '19095', '19096', '19097', '19098', '19099', '1910', '19100', '19101', '19102', '19103', '19104', '19105', '19106', '19107', '19108', '19109', '1911', '19110', '19111', '19112', '19113', '19114', '19115', '1912', '1913', '19145', '19146', '19147', '19148', '19149', '19150', '19151', '19152', '19153', '19154', '19155', '19156', '19157', '19158', '19159', '19160', '19161', '19162', '19163', '19165', '19166', '19167', '19168', '19169', '19170', '19171', '19172', '19173', '19174', '19175', '19176', '19177', '19180', '19181', '19182', '19183', '19184', '19185', '19186', '19187', '19189', '19191', '19192', '19193', '19194', '19195', '19197', '19198', '19199', '19200', '19201', '19202', '19204', '1922', '1924', '19241', '19243', '19244', '19245', '19246', '1926', '1928', '1931', '19321', '19322', '19323', '19324', '19325', '19326', '19327', '19328', '19330', '19331', '19332', '19333', '19334', '19335', '19336', '19337', '19338', '19339', '19340', '19341', '19342', '1938', '19388', '19389', '19390', '19391', '19392', '19393', '19394', '19395', '19396', '19397', '19398', '19399', '19400', '19401', '19402', '19403', '19404', '19405', '19407', '19408', '19409', '19410', '1942', '19423', '19424', '19425', '19426', '19427', '19428', '19429', '1944', '19445', '19448', '19449', '1945', '19450', '19453', '19455', '19456', '19457', '19459', '1946', '19465', '19466', '19469', '1947', '19472', '19473', '19475', '19476', '19477', '1948', '19482', '19483', '1949', '1950', '19515', '19516', '19517', '19518', '19519', '19520', '19522', '19523', '19524', '19525', '19526', '19527', '19528', '19529', '19530', '19531', '19532', '19533', '19534', '19535', '19536', '19537', '19539', '19540', '19546', '19547', '19548', '19549', '19550', '19551', '19552', '19553', '19554', '19555', '19556', '19557', '19558', '19559', '19560', '19561', '19563', '19564', '19566', '19567', '19568', '19569', '19570', '19571', '19572', '19575', '19576', '19577', '19578', '19579', '19580', '19581', '19582', '19583', '19584', '19585', '19586', '19587', '19588', '19589', '19590', '19591', '19592', '19593', '19594', '19595', '19596', '19597', '19598', '19599', '19600', '19601', '19602', '19603', '19604', '19605', '19606', '19607', '19608', '19609', '19610', '19612', '19613', '19614', '19615', '19616', '19617', '19618', '19619', '19620', '19621', '19622', '19623', '19624', '19625', '19626', '19627', '19628', '19629', '19630', '19631', '19632', '19633', '19634', '19635', '19636', '19637', '19638', '19639', '19640', '19641', '19642', '19643', '19644', '19645', '19646', '19647', '19648', '19649', '19650', '19651', '19652', '19653', '19654', '19655', '19656', '19657', '19658', '19659', '1966', '19661', '19662', '19663', '19664', '19665', '19666', '19667', '19668', '19669', '19670', '19671', '19672', '19673', '19674', '19675', '19676', '19677', '19678', '19679', '19680', '19681', '19682', '19683', '19684', '19685', '19686', '19690', '19692', '19693', '19695', '19696', '19697', '19699', '19700', '19701', '19702', '19703', '19705', '19706', '19707', '19708', '19709', '19711', '19712', '19713', '19714', '19715', '19716', '19717', '19718', '19719', '1972', '19720', '19721', '19723', '19724', '19725', '19726', '19727', '19728', '1973', '19731', '19732', '19733', '19734', '19735', '19736', '19737', '19744', '19745', '19746', '19749', '19750', '19751', '19752', '19753', '1978', '19783', '19784', '19785', '19786', '19787', '19788', '19789', '19790', '19791', '19792', '19793', '19794', '19795', '19796', '19797', '19798', '19799', '19800', '19801', '19802', '19803', '19804', '19805', '19806', '19807', '19809', '19810', '19811', '19812', '19813', '19814', '19815', '19816', '19817', '19818', '19819', '19820', '19821', '19822', '19823', '19824', '19825', '19826', '19827', '19828', '19829', '1983', '19830', '19831', '19832', '19833', '19834', '19835', '19836', '19837', '19838', '19839', '1984', '19840', '19841', '19842', '19843', '19844', '19845', '19846', '19847', '19848', '19849', '1985', '19850', '19851', '19852', '19853', '19854', '19855', '19856', '19857', '19858', '19859', '1986', '19860', '19861', '1988', '1989', '1990', '1991', '1992', '19923', '19924', '1993', '1994', '19949', '1995', '19950', '19953', '19954', '19955', '19956', '19957', '19958', '19959', '1996', '19960', '19961', '19962', '19964', '19965', '19967', '19974', '19975', '19976', '19977', '19978', '19979', '1998', '19980', '19981', '19982', '19983', '19984', '19985', '19987', '19988', '19989', '19991', '19992', '19993', '19994', '19995', '19996', '19997', '19999', '20000', '20001', '20002', '20003', '20004', '20005', '20006', '20007', '20008', '20009', '2001', '20010', '20011', '20012', '20014', '20015', '20016', '20017', '20018', '20019', '2002', '20020', '20021', '20022', '20023', '20024', '20025', '20026', '20027', '20028', '20029', '2003', '20030', '20031', '20032', '20033', '2004', '2005', '2006', '2007', '2008', '2009', '20091', '20092', '20093', '20094', '20095', '20096', '20097', '20098', '20099', '2010', '20100', '20101', '20102', '20103', '20104', '20105', '20106', '20107', '20108', '20109', '2011', '20110', '20111', '20112', '20113', '20114', '20115', '20116', '20117', '20118', '20119', '2012', '20120', '20121', '20122', '20123', '20124', '20125', '20126', '20127', '20128', '20129', '20130', '20131', '20132', '20133', '20134', '20135', '20136', '20137', '20138', '20139', '2014', '20140', '20141', '20142', '20143', '20144', '20145', '20146', '20147', '20148', '20149', '2015', '20150', '20151', '20152', '20153', '20154', '20155', '20156', '20157', '20158', '20159', '20160', '20161', '20162', '20163', '20164', '20165', '20166', '20167', '20168', '20169', '20170', '20171', '20172', '20173', '20174', '20175', '20176', '20177', '20178', '20179', '20180', '20181', '20182', '20183', '20184', '20185', '20186', '20187', '20188', '20189', '20190', '20191', '20192', '20193', '20194', '20195', '20196', '20197', '20198', '20199', '20200', '20201', '20202', '20203', '20204', '20205', '20206', '20207', '20208', '20209', '20210', '20211', '20212', '20213', '20214', '20215', '20216', '20217', '20218', '20219', '20220', '20221', '20222', '20223', '20224', '20225', '20226', '20227', '20228', '20229', '2023', '20230', '20231', '20232', '20233', '20234', '20235', '20236', '20237', '20238', '20239', '2024', '20240', '20241', '20242', '20243', '20244', '20245', '20246', '20247', '20248', '20249', '2025', '20250', '20251', '20252', '20253', '20254', '20255', '20256', '20257', '20258', '20259', '2026', '20260', '20261', '20262', '20263', '20264', '2027', '2028', '20282', '20283', '20284', '20288', '2029', '20295', '20297', '20298', '20299', '2030', '20300', '20301', '20302', '20303', '20304', '20305', '20306', '20307', '20308', '20309', '2031', '20310', '20311', '20312', '20313', '20314', '20315', '20316', '20317', '20318', '20319', '2032', '20320', '20321', '20322', '20323', '20324', '20325', '20326', '20327', '20328', '20329', '2033', '20330', '20331', '20332', '20333', '20334', '20335', '20336', '20337', '2034', '20340', '20341', '20342', '20343', '20344', '20346', '20347', '20348', '20349', '2035', '20352', '20354', '20355', '20358', '2036', '20360', '20361', '20362', '20364', '20366', '20367', '20368', '20369', '2037', '20370', '20374', '20375', '20376', '20377', '20378', '20379', '2038', '20381', '20382', '20383', '20384', '2039', '2040', '2041', '2042', '2044', '2045', '2046', '2047', '2048', '2049', '2050', '2051', '2052', '2053', '2054', '2055', '2056', '2057', '2058', '2059', '2060', '2061', '2062', '20631', '2065', '20664', '20665', '20666', '20667', '20668', '20669', '20670', '20671', '20672', '2069', '2078', '20785', '20786', '20787', '20788', '20789', '20790', '20791', '20792', '20793', '2089', '2090', '2091', '2092', '2093', '2094', '2095', '20958', '2096', '2097', '2098', '2099', '2100', '2101', '2102', '21020', '21021', '21022', '21023', '21024', '2103', '2104', '21110', '21111', '21112', '21113', '21114', '21115', '21116', '21117', '21118', '21119', '21120', '21121', '21122', '21123', '21124', '21125', '21126', '21127', '21128', '21129', '21130', '21131', '21132', '21133', '21134', '21135', '21136', '21137', '21138', '21139', '21140', '21141', '21142', '21143', '21144', '21145', '21146', '21147', '21148', '21149', '21150', '21151', '21152', '21153', '21155', '21156', '21157', '21158', '21159', '21160', '21161', '21162', '21163', '21164', '21165', '21166', '21167', '21168', '21169', '21170', '21171', '21172', '21173', '21174', '2119', '2120', '2121', '21219', '2122', '21224', '21225', '21226', '21227', '2123', '21234', '21235', '21236', '2124', '2125', '2126', '2127', '2128', '2129', '2130', '2131', '2132', '2133', '2134', '2135', '2136', '21364', '21367', '21369', '2137', '21373', '21375', '21376', '2138', '21386', '21389', '2139', '21391', '21392', '21393', '21394', '21395', '21396', '21397', '21399', '2140', '21400', '21401', '21402', '21403', '21404', '21405', '21406', '21407', '21408', '21409', '2141', '21410', '21416', '21418', '21419', '2142', '21420', '21421', '21422', '21423', '21424', '21425', '21426', '21427', '2143', '2144', '21443', '21444', '21445', '21446', '21449', '2145', '21450', '21451', '21453', '21454', '21455', '2146', '21464', '21465', '21466', '2147', '21476', '2148', '2149', '2150', '2151', '2152', '2153', '2154', '2155', '2156', '2157', '21578', '2158', '21580', '21588', '2159', '21591', '21594', '21596', '21597', '2160', '21602', '2161', '2162', '2163', '2164', '2165', '2166', '2167', '2168', '2169', '2170', '2171', '2172', '21725', '2176', '2177', '2179', '2180', '2181', '2182', '2183', '21833', '21838', '2184', '21843', '21848', '2185', '21853', '21858', '21863', '21868', '21873', '21877', '21878', '21879', '21880', '21881', '21882', '21883', '21884', '21885', '21886', '21887', '21888', '21889', '2189', '21890', '21891', '21892', '21893', '21894', '21895', '21896', '21897', '21898', '21899', '21900', '21901', '21902', '21903', '21904', '21905', '21906', '21913', '21918', '21919', '21920', '21921', '21923', '21925', '21926', '21927', '21928', '21929', '21930', '21931', '21932', '2194', '2200', '2201', '22016', '22017', '22018', '22019', '2202', '22020', '22021', '22024', '22026', '22027', '22029', '2203', '22030', '22031', '22032', '22033', '22034', '22035', '22036', '22037', '22038', '22039', '2204', '22040', '22041', '22042', '22043', '22044', '22045', '22046', '22048', '22049', '2205', '22050', '22051', '22052', '22053', '22054', '22056', '22057', '22059', '2206', '22060', '22061', '22063', '22064', '22065', '22066', '22067', '22068', '22069', '2207', '22070', '22071', '22072', '22073', '22074', '22075', '22076', '22080', '22081', '22082', '22083', '2209', '2210', '22100', '2212', '22181', '22200', '22202', '22203', '22204', '22205', '22206', '22207', '22208', '22209', '22210', '22211', '22212', '22215', '22216', '22217', '22218', '22219', '22220', '22221', '22222', '22223', '22224', '22225', '22226', '22227', '22228', '2229', '22312', '22313', '22314', '22315', '22316', '22317', '22318', '22319', '2232', '22320', '22321', '22322', '22323', '22324', '22325', '22326', '22327', '22328', '22329', '22330', '22331', '22332', '22334', '22336', '22337', '22338', '22339', '2234', '22340', '22341', '22342', '22343', '22344', '22345', '22346', '22347', '22348', '22349', '22350', '22351', '22352', '22353', '22354', '22355', '22356', '22357', '22358', '22359', '22360', '22363', '22364', '22365', '22366', '22367', '22368', '2237', '22372', '22373', '22374', '22375', '22376', '22377', '22378', '22379', '22380', '22381', '22382', '22383', '22384', '22385', '22386', '22388', '22389', '2239', '22390', '22391', '22392', '22393', '22395', '22398', '22399', '2240', '22400', '22401', '22402', '22403', '22404', '22405', '22406', '22407', '2241', '2242', '2243', '22430', '22438', '2244', '2245', '22453', '22467', '22468', '22471', '22472', '22475', '22476', '22477', '22479', '22480', '22481', '22482', '22483', '22484', '22485', '2252', '2253', '2254', '2256', '22567', '22569', '2257', '22570', '22571', '22573', '22575', '22576', '22577', '22578', '22579', '22580', '22581', '22582', '22583', '22586', '22587', '22588', '2259', '22591', '22592', '22593', '22594', '22595', '22596', '22597', '22598', '22599', '2260', '22600', '22601', '22602', '22603', '22608', '22609', '22610', '22611', '22612', '22613', '22614', '22615', '22616', '22617', '22618', '22619', '22620', '22621', '22622', '22623', '22624', '22625', '22626', '22627', '22628', '22629', '22630', '22631', '22632', '22637', '22638', '22639', '22640', '22641', '22642', '22643', '2265', '2266', '2267', '2268', '2269', '2270', '2271', '2272', '2273', '2274', '22740', '22741', '22742', '22743', '22744', '22745', '22746', '22747', '22748', '22749', '2275', '22750', '22751', '22752', '22753', '22754', '22755', '22756', '22757', '22758', '22759', '2276', '22760', '22761', '22762', '22763', '22764', '22765', '22766', '22767', '22768', '22769', '22770', '22771', '22772', '22773', '22774', '22775', '22776', '22777', '22778', '22779', '2278', '22780', '22781', '22782', '22783', '22789', '2279', '22792', '22794', '22795', '22796', '22799', '2280', '22800', '22801', '22802', '22803', '22805', '22807', '22810', '22811', '22812', '22813', '2282', '2283', '2284', '2285', '2286', '2287', '2288', '2289', '22898', '2290', '22900', '22908', '22909', '2291', '2292', '2293', '2294', '2295', '2296', '2297', '2298', '2299', '2300', '23004', '23005', '2301', '2302', '23024', '23027', '23028', '23029', '2303', '23030', '23031', '23032', '23033', '23034', '23035', '23036', '23037', '2304', '23047', '23048', '23049', '2305', '23052', '23053', '23054', '23055', '23056', '23057', '23058', '23060', '23063', '23067', '23068', '23069', '2307', '23071', '23077', '23079', '23083', '23084', '2309', '2310', '2311', '23119', '2312', '23129', '2313', '23130', '23131', '23132', '23133', '23134', '23135', '23136', '23137', '23138', '23139', '2314', '23140', '23141', '23142', '23143', '23144', '23145', '23146', '23147', '23148', '23149', '2315', '23150', '23151', '23152', '23153', '23154', '23155', '23156', '23157', '23158', '23159', '2316', '23160', '23161', '23162', '23163', '23164', '23165', '23166', '23167', '23168', '23169', '2317', '23170', '23171', '23172', '23173', '23174', '23175', '23176', '23177', '23178', '23179', '2318', '23180', '23181', '23182', '23186', '23187', '23188', '23189', '2319', '23191', '23193', '23194', '23195', '23196', '23197', '23198', '23199', '2320', '23200', '23201', '23202', '23204', '23205', '23206', '23207', '23208', '23209', '2321', '23210', '23211', '23212', '23213', '23214', '23215', '23216', '23217', '23218', '23219', '2322', '23220', '23221', '23222', '23223', '23224', '23225', '23226', '23227', '23228', '23229', '2323', '23230', '23231', '23232', '23233', '23234', '23235', '23236', '23237', '23238', '23239', '2324', '23240', '23241', '2325', '2326', '2327', '2328', '2329', '2330', '23304', '23305', '23306', '23307', '23308', '23309', '2331', '23310', '23311', '23312', '23313', '23314', '23315', '23316', '23317', '23318', '23319', '2332', '23320', '23321', '23322', '23323', '23324', '23325', '23326', '23327', '23328', '23329', '2333', '23330', '23331', '23332', '23333', '23334', '23335', '23336', '23337', '2334', '2335', '2336', '2337', '2338', '2339', '2340', '2341', '2342', '2343', '2344', '23441', '23442', '23446', '23447', '23448', '2345', '2346', '2347', '2348', '2349', '2350', '23539', '23540', '23623', '23624', '23625', '23627', '23631', '23632', '23635', '23638', '23642', '23643', '23644', '23647', '23648', '23649', '23650', '23651', '23653', '23662', '23666', '23667', '23668', '23669', '23670', '23671', '23695', '23868', '23869', '23871', '23872', '23873', '23874', '23875', '23876', '23881', '23945', '23951', '23952', '23953', '23954', '23955', '23956', '23957', '23959', '23961', '23962', '23963', '23964', '23965', '23966', '23967', '23968', '23969', '23970', '23972', '23973', '23975', '23976', '23977', '23979', '23982', '23985', '23989', '23991', '23999', '2400', '24006', '2401', '24015', '24016', '24017', '24018', '2402', '24020', '24021', '24022', '24023', '24024', '24027', '24028', '24029', '2403', '24032', '24036', '24037', '24039', '24040', '24041', '24042', '24044', '24045', '24047', '24049', '24050', '24051', '24052', '24053', '24054', '24055', '24058', '24059', '24061', '24062', '24065', '24066', '24067', '24068', '24069', '24085', '24089', '24090', '24091', '24094', '24126', '24127', '24129', '24130', '24131', '24132', '24133', '24134', '24135', '24136', '24143', '24144', '24146', '24148', '24149', '24150', '24151', '24152', '24153', '24154', '24155', '24156', '24157', '24158', '24159', '24160', '24161', '24162', '24163', '24164', '24165', '24166', '24167', '24168', '24169', '24170', '24171', '24172', '24173', '24174', '24175', '24176', '24212', '24214', '24215', '24229', '24233', '24234', '24236', '24237', '24240', '24241', '24242', '24265', '24266', '24267', '24269', '24270', '24272', '24273', '24274', '24275', '24283', '24284', '24285', '24286', '24287', '24288', '24289', '24290', '24291', '24303', '24304', '24307', '24314', '24333', '24334', '24335', '24336', '24337', '24338', '24339', '24340', '24341', '24342', '24343', '24344', '24345', '24347', '24354', '24355', '24356', '24357', '24358', '24359', '24360', '24361', '24362', '24363', '24364', '24365', '24366', '24367', '24368', '24369', '24370', '24371', '24372', '24373', '24374', '24375', '24376', '24377', '24378', '24379', '24380', '24382', '24383', '24384', '24385', '24386', '24387', '24388', '24389', '24390', '24391', '24392', '24393', '24394', '24395', '24398', '24400', '24401', '24403', '24404', '24405', '24406', '24407', '24495', '24496', '24497', '24498', '24499', '24500', '24501', '24502', '24503', '24504', '24505', '24506', '24507', '24508', '24509', '24510', '24511', '24512', '24513', '24514', '24515', '24516', '24517', '24518', '24519', '24520', '24521', '24522', '24523', '24524', '24525', '24526', '24527', '24528', '24529', '24530', '24531', '24532', '24533', '24534', '24535', '24536', '24537', '24538', '24539', '24540', '24541', '24542', '24543', '24544', '24545', '24546', '24547', '24548', '24549', '24550', '24551', '24552', '24553', '24554', '24555', '24556', '24557', '24558', '24561', '24562', '24565', '24566', '24567', '24572', '24574', '24577', '24579', '24583', '24589', '24590', '24591', '24592', '24593', '24594', '24595', '24596', '24597', '24598', '24599', '24600', '24601', '24602', '24603', '24604', '24606', '24608', '24609', '24610', '24611', '24612', '24613', '24615', '24616', '24684', '24693', '24694', '24697', '24698', '24707', '24708', '24724', '24729', '24730', '24732', '24733', '24735', '24756', '24757', '24758', '2478', '2479', '2480', '2481', '24816', '24817', '24818', '2482', '24828', '2483', '2484', '24840', '24841', '24845', '24846', '24849', '2485', '24853', '24854', '24855', '24858', '2486', '24873', '24874', '24875', '24884', '24885', '24886', '24887', '24888', '24892', '24906', '24907', '24908', '24909', '2491', '24910', '24911', '24912', '24913', '24914', '24917', '24918', '24919', '2492', '24920', '24921', '24922', '24923', '24924', '24925', '24927', '24928', '2493', '24933', '24937', '24940', '24941', '24942', '24943', '24944', '24945', '24946', '24947', '24948', '24949', '24950', '24951', '24952', '24953', '24954', '24955', '24964', '24969', '24972', '24973', '24974', '24975', '24976', '24977', '24984', '24985', '24986', '24987', '24988', '24989', '25003', '25004', '25006', '25007', '25011', '25012', '25020', '25021', '25023', '25025', '25026', '25027', '25028', '25031', '25032', '25035', '25038', '25040', '25041', '25042', '25043', '25044', '25405', '25406', '25504', '25505', '25516', '25520', '25523', '25524', '25525', '25526', '25527', '25528', '25529', '25530', '25531', '25532', '25533', '25534', '25536', '25537', '25538', '25539', '2554', '25540', '25541', '25542', '25543', '25544', '25546', '25549', '2555', '25555', '25556', '2556', '2557', '2559', '2564', '25691', '25692', '25693', '25697', '25698', '25699', '25700', '25702', '25703', '25704', '25705', '25706', '25757', '25758', '25759', '2576', '25760', '25761', '25762', '25763', '25764', '25765', '25766', '25767', '25768', '25769', '2577', '25770', '25771', '25772', '25773', '25774', '25775', '25776', '25777', '25778', '25779', '25780', '25781', '25782', '25783', '25784', '25785', '25786', '25787', '25788', '25789', '25790', '25791', '25792', '25793', '25794', '25795', '25796', '25818', '25819', '25820', '25821', '25822', '25823', '25824', '25825', '25826', '25827', '25828', '25829', '25830', '25831', '25832', '25833', '25834', '25835', '25836', '25837', '25839', '25840', '25841', '25842', '25843', '25844', '25845', '25846', '25847', '25848', '25849', '25850', '25851', '25852', '25853', '25854', '25855', '25856', '2586', '2587', '2588', '25891', '25892', '25893', '25894', '2591', '25917', '25918', '25919', '25920', '25921', '25922', '25923', '25924', '25925', '25926', '25927', '25928', '25961', '25962', '25963', '25964', '25967', '25968', '25969', '25970', '2601', '2602', '2603', '2604', '26040', '26041', '26042', '26043', '26044', '26045', '26046', '26047', '26048', '26049', '2605', '26050', '26053', '26054', '26055', '26056', '26057', '26058', '26059', '2606', '26062', '26063', '26064', '26065', '26066', '26067', '26068', '2607', '26072', '26073', '26075', '26076', '26077', '26083', '26084', '26086', '26087', '26088', '26090', '26091', '26092', '26093', '26096', '26101', '26103', '26105', '26106', '26107', '26112', '26113', '26114', '26115', '26116', '26117', '26121', '26122', '26123', '26124', '26125', '26126', '26128', '2615', '2617', '2619', '2620', '2621', '2622', '26227', '26228', '26229', '26231', '26233', '26234', '26236', '26237', '26238', '26239', '26246', '26248', '26261', '26262', '26263', '26264', '26265', '26266', '26267', '26268', '26269', '26271', '26272', '26273', '26274', '26275', '26276', '26277', '26278', '26279', '26280', '26281', '26282', '26283', '26284', '26285', '26286', '26287', '26288', '26292', '26293', '26294', '26295', '26297', '26300', '26303', '26305', '26306', '26308', '26309', '26357', '26359', '26360', '26361', '26362', '26363', '26365', '26366', '26367', '26368', '26369', '26370', '26371', '26376', '26385', '26387', '26388', '26389', '26390', '26396', '26401', '26402', '26403', '26404', '26408', '26411', '26412', '26414', '26415', '26418', '26419', '26424', '26425', '26462', '26463', '26466', '26467', '26468', '26469', '26470', '26471', '26472', '26473', '26474', '26475', '26476', '26477', '26478', '26479', '26480', '26481', '26482', '26483', '26484', '26485', '26486', '26487', '26488', '26489', '26490', '26491', '26492', '26493', '26494', '26495', '26496', '26497', '26498', '26502', '26515', '26516', '26518', '26710', '26711', '26712', '26713', '26714', '26715', '26716', '26717', '26718', '26719', '26720', '26721', '26722', '26723', '26724', '26725', '26726', '26727', '26728', '26729', '26730', '2674', '2675', '2676', '2677', '2678', '26786', '26787', '26788', '26789', '2679', '26790', '26791', '26792', '26793', '26794', '26795', '26796', '26797', '26798', '26799', '2680', '26800', '26801', '26802', '26803', '26804', '2681', '26812', '26813', '26814', '26815', '26816', '2682', '2683', '2684', '2685', '2686', '26862', '26864', '26865', '26866', '26867', '26868', '26869', '2687', '26870', '26871', '26872', '26873', '26874', '26875', '26876', '26877', '26878', '26879', '2688', '26880', '26881', '26882', '26883', '26885', '26887', '26888', '26889', '2689', '26890', '26891', '26892', '26893', '26894', '26895', '26896', '26897', '26898', '26901', '26902', '26903', '26904', '26905', '26906', '26907', '26908', '26909', '26910', '26911', '26912', '26913', '26914', '26915', '26916', '26917', '26918', '26919', '26921', '26922', '26923', '26924', '26929', '2693', '26930', '26931', '26932', '26933', '26936', '26937', '26938', '26939', '2694', '26940', '26941', '26942', '26943', '26944', '26945', '26946', '26947', '26948', '26949', '2695', '26950', '26951', '26952', '26953', '26954', '26955', '26956', '26957', '26958', '26959', '26960', '26965', '26966', '26967', '26968', '26969', '26975', '2700', '2701', '2702', '2703', '27036', '2706', '27087', '27088', '27089', '27090', '27091', '27092', '27093', '27094', '27096', '27097', '27098', '27099', '27100', '27101', '27102', '27103', '27104', '27105', '27106', '27107', '27108', '27109', '27110', '2714', '27148', '27149', '2715', '27150', '27151', '27152', '27153', '27154', '27155', '27158', '2716', '27164', '27165', '27169', '2717', '27170', '27171', '27173', '27174', '27175', '27176', '27178', '2718', '27187', '27188', '27189', '27191', '27202', '27209', '27210', '27211', '27212', '27213', '27220', '27221', '2724', '27259', '27260', '27261', '27262', '27263', '27264', '27265', '27266', '27268', '27269', '2727', '27270', '27271', '27272', '27273', '27274', '27275', '27276', '27277', '27278', '27279', '2728', '27280', '27281', '27282', '27283', '27284', '27285', '27286', '27287', '27288', '27289', '27290', '27292', '27293', '27294', '27295', '27296', '27297', '27298', '27299', '2730', '27300', '27301', '27302', '2732', '27347', '27348', '27349', '27350', '27352', '27353', '27354', '27355', '27356', '27357', '27358', '27359', '27360', '27361', '27364', '27365', '27368', '27369', '2737', '27370', '27372', '27373', '27374', '27375', '27376', '27377', '2738', '27388', '27392', '27396', '2740', '2741', '2742', '27428', '27429', '2743', '27430', '27431', '27436', '27437', '27438', '27439', '2744', '27440', '27441', '27442', '27443', '27444', '27445', '27446', '27447', '27448', '2745', '2746', '2747', '2748', '2749', '2750', '2751', '27525', '27527', '27529', '2753', '27532', '27534', '27537', '27538', '27539', '27542', '27545', '27546', '27548', '2755', '27550', '27552', '27553', '27554', '27555', '27557', '27558', '27559', '27560', '27561', '27562', '27563', '27566', '27567', '2757', '27572', '27574', '27579', '27580', '27581', '27582', '27583', '27584', '27586', '27587', '27589', '27590', '27593', '27594', '27595', '27596', '2760', '2762', '27631', '2764', '27642', '27644', '27645', '27646', '27648', '27649', '27653', '27655', '27657', '2766', '27663', '2778', '2779', '2780', '2781', '2782', '2783', '2784', '27845', '27846', '27847', '27848', '27849', '2785', '27850', '27851', '27852', '27853', '27854', '27855', '27856', '27857', '27858', '27859', '2786', '27860', '27861', '27862', '27863', '27864', '27865', '27866', '27867', '27868', '27869', '2787', '27870', '27871', '27872', '27873', '27874', '27875', '27876', '27877', '27878', '27879', '2788', '27880', '27881', '27882', '27883', '27884', '27885', '27886', '27887', '27888', '27889', '27890', '27891', '27892', '27893', '27894', '27895', '27896', '27897', '27898', '27899', '27931', '27932', '27933', '27934', '2835', '2836', '2837', '2838', '2840', '2841', '2842', '2843', '2844', '2845', '2846', '28465', '28467', '28468', '28469', '2847', '28470', '28471', '28472', '28473', '28474', '28475', '28476', '28477', '28478', '28479', '2848', '28480', '28482', '28483', '28488', '28489', '2849', '28491', '28492', '2850', '28502', '28507', '28508', '28509', '2851', '28510', '28511', '28516', '28517', '28518', '2852', '28523', '28524', '28525', '28526', '28527', '28528', '28529', '2853', '28530', '28531', '28532', '28533', '28534', '28535', '28536', '28537', '28538', '28539', '2854', '28540', '28541', '28542', '28543', '28545', '28546', '28547', '28548', '28549', '2855', '28550', '28551', '28552', '28553', '28554', '28555', '28556', '28557', '28558', '28559', '2856', '28560', '28561', '28562', '28563', '28564', '28565', '28566', '28567', '28568', '28569', '2857', '28570', '28571', '28572', '28573', '28574', '28575', '2858', '2859', '2860', '2861', '28612', '28615', '28616', '28617', '28618', '28619', '2862', '28620', '28621', '28622', '28623', '28625', '28629', '2863', '28639', '28641', '28642', '28643', '28644', '28645', '28646', '28647', '28648', '2865', '2866', '2867', '28671', '28672', '28674', '28675', '28677', '2868', '28681', '28684', '28686', '28688', '28689', '28690', '28691', '28692', '28693', '28694', '28695', '28696', '28697', '28698', '28699', '28700', '28701', '28702', '28703', '28704', '28705', '28706', '28707', '28708', '28709', '28710', '28711', '28712', '28713', '28714', '28715', '28716', '28717', '28718', '28719', '28720', '28721', '28722', '28723', '28724', '28725', '28726', '28727', '28728', '28729', '28730', '28731', '28732', '28733', '28734', '28735', '28736', '28737', '28738', '28739', '28740', '28741', '28742', '28743', '28744', '28745', '28746', '28747', '28748', '28749', '28750', '28751', '28752', '28753', '28754', '28755', '28757', '28758', '28760', '28761', '28762', '28763', '28764', '28765', '28766', '28767', '28768', '28769', '28770', '28771', '28772', '28773', '28774', '28775', '28776', '28777', '28778', '28779', '28786', '28789', '28805', '28806', '28807', '28808', '28810', '28819', '28826', '28834', '28835', '28836', '28844', '28845', '28846', '28847', '28848', '28849', '28850', '28851', '28852', '28853', '28854', '28855', '28856', '28857', '28858', '28859', '28860', '28861', '28863', '28865', '28871', '28872', '28873', '28874', '28875', '28877', '28905', '28906', '28907', '28908', '28909', '28910', '28924', '28925', '28926', '28927', '28928', '28929', '28930', '28931', '28932', '28933', '28934', '28935', '28936', '28937', '28938', '28939', '28940', '28941', '28942', '28946', '28947', '28948', '28949', '28950', '28951', '28952', '28953', '28954', '28955', '28957', '28958', '28959', '28960', '28961', '28962', '28963', '28964', '28965', '28992', '28993', '28996', '28997', '28999', '29001', '29011', '29012', '29014', '29015', '29016', '29017', '29018', '29019', '29021', '29022', '29024', '29025', '29026', '29027', '29028', '29035', '29036', '29037', '29039', '29040', '29044', '29045', '29046', '29047', '29048', '29049', '29050', '29051', '29052', '29053', '29055', '29061', '29062', '29145', '29147', '2915', '29150', '29154', '29156', '29157', '2916', '29161', '29164', '29165', '29168', '29169', '29170', '2918', '29182', '29184', '29187', '2920', '2921', '2922', '2923', '29245', '29246', '29247', '29272', '29273', '29274', '29275', '29276', '29277', '29278', '29279', '2928', '29280', '29282', '29283', '29286', '29287', '29288', '29289', '29290', '29291', '29292', '29294', '29295', '29296', '29297', '29298', '29299', '29300', '29308', '29309', '2931', '29320', '29321', '29322', '29339', '2934', '29343', '29345', '29348', '29352', '2936', '29369', '2937', '29371', '2938', '29384', '2939', '29390', '2940', '2944', '2947', '29486', '29542', '29546', '29547', '29548', '29551', '29553', '2956', '29580', '29581', '29584', '29594', '29598', '29605', '29606', '29607', '29608', '29609', '29611', '29612', '29616', '29623', '29625', '29628', '29629', '29632', '29633', '29635', '29636', '29639', '29640', '29642', '29648', '29649', '29650', '29652', '29653', '29655', '29657', '29664', '29665', '29667', '29668', '29669', '29670', '29672', '29674', '29675', '2969', '29692', '29696', '29699', '2970', '29700', '29701', '29702', '29705', '29706', '29708', '29709', '2971', '29711', '2972', '29721', '2973', '2974', '2975', '2976', '29765', '29766', '29769', '2977', '29772', '29773', '29774', '2978', '29783', '29784', '29785', '29786', '29787', '29788', '29789', '2979', '29790', '29795', '29796', '29797', '29798', '2980', '29800', '29808', '2981', '29813', '29819', '2982', '29820', '29821', '29823', '29826', '29829', '2983', '29831', '29835', '29837', '29838', '2984', '29840', '29841', '2985', '2986', '2996', '3009', '30106', '30107', '3011', '30111', '30112', '30117', '30118', '30119', '3012', '30121', '30122', '30124', '30127', '3013', '30134', '30136', '30138', '30139', '3014', '30140', '30141', '30142', '30143', '30144', '30145', '30146', '3015', '3016', '3017', '3018', '3019', '3020', '30207', '3021', '30210', '30212', '30213', '30215', '30222', '30228', '3023', '3027', '3028', '3029', '30291', '30292', '30293', '30294', '30295', '30296', '30297', '30298', '30299', '30300', '30301', '30302', '30303', '30304', '30305', '30306', '30307', '30308', '30309', '30310', '30311', '30312', '30313', '30314', '30315', '30316', '30317', '30318', '30319', '30320', '30321', '30322', '30323', '30324', '30325', '30327', '30328', '30329', '30330', '30331', '30332', '30333', '30334', '30335', '30336', '30337', '30338', '30339', '30340', '30341', '30342', '30344', '30345', '30346', '30347', '30348', '30349', '30350', '30351', '30352', '30353', '30354', '30355', '30356', '30357', '30358', '30359', '3042', '3044', '3045', '30459', '3046', '30461', '3047', '3048', '3049', '3050', '3051', '3052', '3054', '3055', '30550', '30551', '3056', '3057', '3058', '30585', '30586', '30587', '30588', '30589', '3059', '30590', '30597', '3060', '30600', '30601', '3061', '30611', '30612', '30614', '30615', '30618', '30619', '3062', '30620', '30621', '30622', '30624', '30625', '30626', '30627', '3063', '30630', '30632', '30633', '30635', '3064', '30642', '30644', '30645', '30646', '30647', '30648', '30649', '3065', '30650', '3066', '3067', '3068', '3069', '3070', '3071', '3072', '30720', '30721', '30722', '30723', '30724', '30725', '30726', '3073', '30737', '30738', '30739', '3074', '30740', '30741', '30742', '30743', '30744', '30745', '30746', '30747', '30748', '30749', '3075', '30750', '30751', '30752', '30753', '30754', '30755', '30756', '30757', '30758', '30759', '30760', '30761', '30762', '30763', '30764', '30765', '30766', '30767', '30768', '30769', '3077', '30770', '30771', '30772', '30773', '30774', '30775', '30776', '30777', '30778', '30779', '3078', '30780', '30781', '30782', '30783', '30784', '30785', '30786', '30787', '30788', '30789', '3079', '30790', '30791', '30793', '30794', '30795', '30796', '30797', '30798', '30799', '3080', '30800', '30801', '30802', '30803', '30804', '30805', '30806', '30807', '3081', '3082', '30833', '30834', '30835', '30836', '30837', '30838', '30839', '3084', '30840', '30841', '30842', '30843', '30844', '30845', '30846', '30847', '30848', '30849', '3085', '30850', '30851', '30852', '30853', '30854', '30855', '30856', '30857', '30858', '30859', '30860', '30861', '30862', '30863', '30864', '30865', '30866', '30867', '30868', '30869', '3087', '30870', '30871', '30872', '30873', '30874', '30875', '30877', '30878', '30879', '3088', '30880', '30881', '30882', '30883', '30884', '30885', '30886', '30887', '30888', '30889', '3089', '30890', '30891', '30906', '30907', '30908', '30909', '30910', '30911', '30912', '30913', '30914', '30915', '30916', '30930', '30931', '30932', '30933', '30934', '30935', '30936', '30937', '30938', '30939', '30940', '30941', '30942', '30943', '30944', '30945', '30946', '30947', '30948', '30949', '3095', '30950', '30951', '30952', '30953', '30954', '30955', '30956', '30957', '30958', '30959', '3096', '30960', '30961', '3098', '3100', '3101', '31015', '31016', '31017', '3102', '31020', '31023', '31024', '31027', '31028', '31029', '3103', '31035', '31036', '31037', '31038', '31039', '3104', '31040', '31043', '31046', '31047', '31048', '31049', '3105', '31050', '31059', '31060', '31061', '31062', '31063', '31064', '31065', '31066', '31068', '3107', '31070', '31071', '31072', '3108', '31088', '31090', '31091', '31092', '31093', '31094', '31096', '31097', '31098', '31099', '3110', '31100', '31101', '31102', '31103', '31104', '31105', '31106', '31107', '31108', '31109', '31117', '31118', '31119', '31120', '31121', '31122', '31123', '31125', '31132', '31133', '31141', '31142', '31143', '31144', '31147', '31148', '31149', '31150', '31151', '31152', '31153', '31154', '31155', '31156', '31157', '31158', '31159', '31160', '31161', '31172', '31173', '31174', '31175', '31176', '31177', '31178', '31181', '3120', '3121', '3122', '31225', '3123', '31233', '31234', '31235', '31236', '31237', '31238', '31239', '3124', '31241', '31242', '31243', '31244', '31245', '31246', '31247', '31248', '31249', '3125', '31250', '31251', '31252', '31253', '31254', '31255', '31257', '31258', '31259', '3126', '31260', '31261', '31262', '31263', '31264', '31265', '31266', '31267', '31269', '3127', '31270', '31271', '31272', '31273', '31274', '31275', '31277', '31278', '31279', '3128', '31280', '31281', '31282', '31283', '31284', '31285', '31286', '31288', '31289', '3129', '31290', '31291', '31292', '31293', '31294', '31295', '31297', '31298', '31299', '3130', '31300', '31301', '31302', '31303', '31304', '31305', '31306', '31307', '31308', '31309', '3131', '31310', '31311', '31312', '31313', '31314', '31315', '31316', '31317', '31318', '31319', '3132', '31320', '31321', '31322', '31323', '31324', '31325', '31326', '31356', '31358', '31361', '31363', '31365', '31368', '31369', '31371', '31382', '31385', '31386', '3142', '31423', '31442', '31443', '31444', '31445', '31446', '31450', '31451', '31452', '31453', '31455', '31456', '31460', '31462', '31463', '31465', '31466', '31467', '31541', '31543', '31545', '31547', '31549', '31550', '31574', '31576', '31577', '31578', '31579', '31580', '31581', '31582', '31583', '31585', '31586', '31587', '31588', '31589', '31590', '31591', '31592', '31593', '31595', '31596', '31597', '31598', '31599', '31601', '31602', '31603', '31604', '31611', '31612', '31619', '31620', '31623', '31624', '31627', '31634', '31635', '31636', '31639', '31640', '31641', '31642', '31643', '31644', '31645', '31648', '31649', '31653', '31654', '31655', '31656', '31657', '31658', '31660', '31661', '31662', '31677', '31680', '31694', '31695', '31696', '31697', '31698', '31699', '31729', '31732', '31733', '31742', '31743', '31774', '31781', '31782', '31783', '31784', '31785', '31787', '31788', '31789', '31790', '31791', '31792', '31794', '31797', '31800', '31869', '31870', '31871', '31873', '31874', '31875', '3191', '3192', '3193', '31935', '31936', '31937', '31938', '3196', '3197', '3198', '3199', '3200', '3201', '3202', '3203', '3204', '3205', '3206', '3207', '3208', '3209', '3210', '3211', '3217', '32196', '32197', '32198', '32199', '32200', '32201', '32202', '32203', '32204', '32206', '32207', '32208', '32209', '32210', '32211', '32212', '32214', '32215', '32216', '32217', '32218', '32219', '32220', '32221', '32222', '32223', '32224', '32225', '32226', '32227', '32228', '32229', '32230', '32231', '32232', '32233', '32234', '32235', '32236', '32238', '32239', '32240', '32242', '32243', '32244', '32245', '32253', '32254', '32255', '32256', '32257', '32260', '32262', '32263', '32267', '32268', '32269', '32270', '32271', '32272', '32273', '32274', '32275', '32276', '32279', '32380', '32381', '32382', '32383', '32384', '32385', '32386', '32387', '32388', '32389', '32390', '32391', '32392', '32393', '32394', '32395', '32396', '32397', '32398', '32399', '32400', '32401', '32402', '32403', '32411', '32412', '32413', '32414', '32415', '32416', '32417', '32421', '32422', '32424', '32425', '32428', '32432', '32433', '32434', '32435', '32436', '32438', '32439', '32440', '32441', '32450', '32451', '32454', '32455', '32458', '32459', '32460', '32461', '32462', '32463', '32464', '32466', '32467', '32468', '32470', '32475', '32477', '32480', '32482', '32490', '32492', '32499', '32501', '32502', '32503', '32504', '32505', '32565', '32566', '32568', '32569', '32570', '32571', '32572', '32573', '32574', '32575', '32578', '32579', '32580', '32583', '32584', '32592', '32593', '32594', '32595', '32596', '32597', '32598', '32599', '3260', '32600', '32601', '3261', '32618', '32619', '3262', '32622', '32623', '32624', '32625', '32626', '32627', '32628', '32629', '3263', '32630', '32631', '32638', '32639', '3264', '32640', '32641', '32643', '32646', '32647', '3265', '32651', '32652', '32653', '32654', '32656', '32657', '3266', '3267', '3268', '3269', '3270', '3271', '3272', '3273', '3274', '3275', '32759', '3276', '32762', '32763', '32766', '32767', '32768', '32769', '3277', '32770', '32771', '32774', '3278', '32780', '3279', '3280', '3281', '3282', '3283', '3284', '3285', '3286', '3287', '32878', '3288', '32886', '3289', '3290', '3291', '32912', '32913', '32914', '32918', '32919', '3292', '32922', '32923', '32924', '32925', '32926', '32930', '32954', '32958', '32959', '32962', '32963', '32964', '32967', '32969', '32970', '32971', '32972', '32973', '32979', '32981', '33016', '33017', '33018', '33019', '33020', '33021', '33022', '33023', '33024', '33025', '33026', '33027', '33028', '33029', '33030', '33031', '33032', '33033', '33035', '33036', '33037', '33038', '33039', '33040', '33041', '33042', '33043', '33044', '33045', '33046', '33047', '33048', '33049', '33050', '33051', '33052', '33053', '33054', '33055', '33056', '33057', '33058', '33059', '33060', '33061', '33062', '33063', '33064', '33065', '33066', '33067', '33069', '33070', '33071', '33072', '33073', '33074', '33075', '33076', '33077', '33078', '33079', '33080', '33081', '33082', '33083', '33084', '33085', '3313', '33138', '33139', '3314', '33140', '33141', '33142', '33143', '3315', '33151', '33152', '33153', '33154', '33155', '33156', '33160', '33161', '33162', '33163', '33165', '33166', '33167', '33168', '33169', '3317', '33170', '33171', '33172', '33173', '33174', '33175', '33178', '33179', '3318', '33181', '33182', '33183', '33184', '33185', '33186', '33188', '3319', '33190', '33191', '33192', '33193', '33194', '33195', '33196', '33197', '33198', '3320', '33200', '33204', '33205', '33206', '33207', '33208', '3321', '33210', '33212', '33213', '33214', '33215', '33218', '33219', '3322', '33221', '33222', '33224', '33227', '3323', '33232', '33233', '33234', '33235', '33236', '33237', '33238', '33239', '3324', '33240', '33241', '33242', '33243', '33244', '33245', '33246', '33247', '33248', '33249', '3325', '33250', '33252', '33253', '33254', '33255', '33256', '33257', '33260', '33262', '33263', '33266', '3327', '3328', '33284', '33285', '33287', '33288', '33289', '3329', '33290', '33292', '33293', '33295', '33296', '33297', '33298', '3330', '33302', '33303', '33304', '33305', '33310', '33311', '33312', '33313', '33314', '33315', '33316', '3332', '33322', '33326', '33328', '33329', '33330', '33331', '3336', '3337', '3338', '3339', '3341', '3342', '3343', '3344', '3345', '3346', '3347', '3348', '33487', '33488', '33489', '3349', '33490', '33491', '33492', '33493', '3350', '3351', '3352', '3353', '33539', '3354', '33540', '33541', '33542', '33543', '33544', '33546', '33547', '33548', '33549', '3355', '33551', '33552', '33553', '33554', '33555', '33556', '33557', '33558', '33559', '3356', '33560', '33561', '33562', '33563', '33564', '33565', '33566', '3357', '33570', '33571', '33572', '33574', '33576', '33578', '3358', '33580', '33582', '33583', '33585', '33586', '33587', '33589', '3359', '33590', '33593', '3360', '33601', '3361', '3362', '3363', '3364', '3365', '33740', '33741', '33742', '33743', '33744', '33745', '33746', '33747', '33748', '33749', '33750', '33751', '33752', '33753', '33754', '33755', '33756', '33757', '33758', '33759', '33760', '33761', '33762', '33787', '33934', '33935', '33936', '33937', '33938', '33939', '33940', '33941', '33942', '33943', '33944', '33945', '33946', '33947', '33948', '33949', '33950', '33951', '33952', '33953', '33954', '33955', '33956', '33962', '33963', '33964', '33965', '33966', '33967', '33968', '33971', '33972', '33973', '33974', '33975', '33977', '33986', '33993', '33994', '33995', '33996', '33999', '34000', '34001', '34002', '34003', '34004', '34005', '34006', '34007', '34008', '34009', '34010', '34011', '34012', '34013', '34014', '34016', '34017', '34018', '34019', '34020', '34021', '34022', '34023', '34024', '34025', '34026', '34027', '34028', '34029', '34030', '34031', '34032', '34033', '34034', '34035', '34036', '34037', '34038', '34039', '34040', '34041', '34042', '34043', '34044', '34045', '34046', '34048', '34049', '34050', '34051', '34067', '3409', '34091', '34092', '34094', '34096', '34097', '34098', '34099', '3410', '34100', '34101', '34102', '34103', '34104', '34106', '34107', '34108', '34109', '3411', '34110', '34111', '34112', '3412', '3413', '3414', '34146', '3415', '34152', '34155', '34156', '34157', '34158', '34159', '3416', '34161', '34162', '34163', '34164', '34165', '34166', '34168', '3417', '34170', '34171', '34172', '34173', '34174', '34175', '34176', '34177', '34178', '34179', '3418', '34180', '34181', '34182', '34183', '34184', '34185', '34186', '34187', '34188', '34189', '3419', '34190', '34191', '34192', '34193', '34195', '34197', '34198', '3420', '34206', '34207', '34208', '34209', '3421', '34210', '34211', '34212', '34213', '34214', '34215', '34216', '34217', '34218', '34219', '3422', '34220', '34221', '34222', '34223', '34224', '34225', '34226', '34227', '34228', '34229', '3423', '34230', '34231', '34232', '34233', '34234', '34235', '34237', '34238', '34239', '3424', '34241', '34242', '34243', '34244', '34245', '34246', '34247', '34248', '3425', '3426', '34260', '34261', '34262', '34263', '34264', '34265', '34266', '34267', '34268', '34269', '3427', '34270', '34271', '34272', '34273', '34274', '34275', '34276', '34277', '34278', '34279', '3428', '34280', '34281', '34282', '34283', '34284', '34287', '34288', '3429', '34291', '34292', '34293', '34294', '34295', '34296', '34297', '34298', '34299', '34300', '34301', '3431', '34314', '34315', '34316', '34317', '34319', '3432', '34320', '34321', '34322', '34323', '34324', '34325', '34326', '34328', '3433', '34330', '34331', '34332', '34333', '34335', '34336', '34337', '34338', '34339', '3434', '34340', '34341', '34342', '34343', '34344', '34345', '34347', '34348', '34349', '34350', '34351', '34353', '34354', '34355', '34356', '34357', '34358', '34359', '34360', '34361', '34362', '34363', '34364', '34365', '34366', '34368', '34369', '34370', '34371', '34372', '34373', '34374', '34375', '34376', '34377', '34378', '34379', '34380', '34381', '34382', '34385', '34386', '34387', '34388', '3439', '34390', '34391', '34392', '34393', '34394', '34395', '34397', '34398', '34399', '3440', '34400', '34401', '34402', '34403', '34404', '34405', '34406', '34408', '34409', '3441', '34410', '34411', '34412', '34413', '34415', '34417', '34419', '3442', '34420', '34422', '34423', '34424', '34425', '34426', '34427', '34428', '34429', '34430', '34432', '34433', '34434', '34435', '34436', '34438', '34439', '34440', '34441', '34442', '34443', '34444', '34445', '34446', '34447', '3445', '3446', '3447', '34476', '34479', '3448', '34480', '34482', '34484', '34496', '34498', '3451', '34568', '34569', '34571', '34573', '34574', '34575', '34576', '34577', '34579', '34580', '34583', '34584', '34587', '34589', '34590', '34593', '34594', '34595', '34596', '34597', '34682', '34683', '34689', '34710', '3476', '3477', '3478', '3479', '3485', '3486', '34900', '34901', '34902', '34903', '34904', '34905', '34906', '34907', '34908', '34909', '34910', '34912', '34913', '34914', '34915', '34916', '34917', '34918', '34920', '34921', '34922', '34923', '34924', '34926', '34927', '34928', '34929', '34930', '34931', '34932', '34933', '34934', '34935', '34936', '34937', '34938', '34939', '34941', '34942', '34943', '34944', '34945', '34946', '34947', '34948', '3495', '3502', '35038', '35039', '35040', '35041', '35042', '35043', '35044', '35045', '35046', '35047', '35048', '35050', '35051', '35052', '3515', '3516', '3517', '3518', '3519', '3520', '3521', '3522', '3523', '3524', '3525', '35258', '35259', '3526', '35260', '35261', '35262', '35263', '35265', '35266', '35267', '35268', '35269', '3527', '35271', '35272', '35277', '3528', '3529', '3530', '3531', '3532', '3533', '3534', '3535', '3536', '3537', '3538', '3539', '3540', '3543', '35438', '35439', '3544', '35440', '35441', '35442', '35444', '35445', '35446', '35447', '35448', '35449', '35450', '35451', '35452', '35453', '35454', '35455', '35456', '35457', '35458', '35459', '35460', '35461', '3568', '3571', '3572', '3573', '3584', '35873', '35874', '35875', '35876', '35877', '35878', '35879', '35880', '35881', '35882', '35883', '35884', '35885', '35886', '35887', '35889', '35890', '35891', '35892', '35893', '35894', '35896', '35947', '35968', '35970', '35971', '3598', '35981', '35982', '35983', '35984', '35985', '35986', '35987', '35988', '3599', '35991', '35992', '35993', '35995', '35996', '35997', '35998', '35999', '3600', '36000', '36001', '36002', '36003', '36004', '3601', '3602', '3612', '3613', '3614', '36158', '3616', '36164', '3617', '36173', '36184', '36185', '36199', '36200', '36205', '36206', '36207', '36208', '36209', '36212', '36213', '36234', '36235', '36236', '36237', '36238', '36239', '36240', '36243', '36244', '36245', '36247', '36248', '36296', '36297', '36298', '36301', '36303', '36304', '36310', '36311', '36312', '36313', '36314', '36315', '36316', '36317', '36318', '36319', '36320', '36321', '36322', '36323', '36324', '36325', '36326', '36470', '36471', '36472', '36473', '36474', '36475', '36492', '36493', '36494', '36495', '36497', '36498', '36499', '36500', '36501', '36502', '36503', '36551', '36557', '36558', '36559', '36560', '36561', '36562', '36563', '36577', '36581', '36590', '36605', '36716', '36717', '36718', '36719', '36720', '36721', '36722', '36723', '36724', '36725', '36726', '36727', '36728', '36729', '36730', '36731', '36733', '36734', '36735', '36736', '36737', '36738', '36739', '36743', '36744', '36751', '36754', '3679', '3680', '3681', '36814', '36815', '36817', '36818', '36819', '3682', '36825', '36826', '36827', '36828', '3683', '36830', '36832', '3684', '3685', '36852', '36853', '36857', '3686', '36861', '36862', '3687', '36873', '36874', '36875', '3697', '3698', '3699', '3700', '3701', '3702', '3703', '3704', '3705', '3706', '3707', '3708', '3709', '37093', '37094', '37097', '37098', '37099', '3711', '37117', '37119', '3712', '37129', '3713', '37131', '37132', '37133', '37139', '3714', '37141', '37142', '37143', '37144', '37145', '37146', '37148', '3715', '37150', '37151', '37152', '37153', '37154', '37155', '37156', '37158', '37159', '3716', '37160', '37161', '37164', '37165', '37166', '37167', '3717', '37178', '3718', '37183', '37184', '37185', '37186', '37187', '37188', '37189', '3719', '37190', '37191', '37210', '37212', '37215', '3722', '37220', '37221', '37222', '37223', '37224', '3723', '3724', '3725', '37265', '3727', '37272', '37278', '37279', '3728', '37280', '37281', '37282', '37283', '37284', '37285', '37286', '37287', '3729', '3730', '3731', '3732', '3733', '3734', '37341', '37342', '37343', '37344', '37345', '3735', '37378', '3738', '3741', '3742', '3743', '3744', '3745', '3746', '3747', '3748', '3749', '3750', '3751', '3752', '37523', '37524', '37525', '37526', '37527', '37528', '3753', '37531', '37532', '3754', '37543', '37544', '37547', '3755', '3756', '37561', '37562', '37563', '37566', '37567', '37568', '37569', '3757', '37570', '37571', '3758', '37583', '37584', '37585', '37588', '3759', '37593', '37594', '37595', '37596', '37597', '37598', '37599', '3760', '37600', '37601', '37602', '37603', '37607', '37608', '3761', '37610', '37611', '37613', '3762', '37620', '37621', '37622', '37623', '37624', '37625', '37626', '37627', '37628', '37629', '3763', '37630', '37632', '37633', '37634', '37636', '37637', '3764', '3765', '3766', '3767', '3768', '3769', '3770', '3771', '37710', '37712', '37713', '37714', '37715', '37716', '37717', '37718', '37719', '3772', '37720', '37721', '37722', '37723', '37724', '37725', '37726', '37727', '37728', '37729', '3773', '37730', '37731', '37732', '37733', '37734', '37735', '37736', '37737', '37738', '37739', '3774', '37740', '37741', '37742', '37743', '37744', '37745', '37746', '37747', '37748', '37749', '3775', '37750', '37751', '37753', '37754', '37757', '37758', '37759', '3776', '37760', '37761', '37763', '37764', '37765', '37766', '37767', '37768', '37769', '3777', '37770', '37771', '37772', '37773', '37774', '37775', '37776', '37777', '37778', '37779', '3778', '37780', '37781', '37782', '37783', '37784', '37785', '37786', '37787', '37788', '37789', '3779', '37790', '37791', '37792', '37793', '37794', '37795', '37796', '37797', '37798', '3780', '37800', '37801', '37802', '37803', '37804', '37805', '37808', '37809', '3781', '37810', '37811', '37812', '37813', '3782', '3783', '3784', '3785', '3786', '3787', '3788', '3789', '37899', '37901', '3791', '37913', '37916', '37918', '37919', '3792', '37923', '37925', '37926', '37927', '3793', '37931', '37932', '37933', '37934', '37935', '37939', '3794', '37940', '37941', '37943', '37944', '37945', '37946', '37947', '37948', '37949', '3796', '37977', '37981', '37982', '37984', '37986', '3799', '3800', '3806', '3807', '38086', '3809', '3810', '3811', '3813', '3814', '38149', '3815', '38150', '38151', '38152', '38153', '38154', '38155', '38156', '3816', '3817', '3818', '3819', '3820', '38246', '38247', '38248', '38249', '38282', '38283', '38284', '38285', '38286', '38287', '38288', '38289', '38290', '38326', '38327', '38328', '38329', '38330', '38331', '38332', '38333', '38334', '38335', '38336', '38337', '38340', '38342', '38343', '38344', '38345', '38346', '38347', '38389', '38390', '38392', '38397', '38400', '3844', '3845', '3846', '3847', '38478', '38479', '38480', '38481', '38482', '3849', '38490', '38491', '38492', '38493', '38494', '38496', '38497', '3850', '3851', '3852', '38521', '3853', '3854', '3855', '38557', '38558', '38559', '3856', '3857', '38578', '38579', '3858', '38580', '38581', '38583', '38584', '38585', '38586', '38587', '38588', '38589', '3859', '38590', '38591', '38592', '38593', '38594', '38595', '38596', '38597', '38598', '38599', '3860', '38600', '38601', '38602', '38603', '38604', '38605', '38606', '38607', '38608', '38609', '3861', '38610', '38611', '38612', '38613', '38614', '38615', '38616', '38617', '38618', '38619', '3862', '38620', '38621', '38622', '38623', '38624', '38625', '38626', '38627', '38628', '38629', '3863', '38630', '38631', '38632', '38633', '38634', '38635', '38636', '38637', '38638', '38639', '3864', '38640', '38641', '38642', '38643', '38644', '38645', '3865', '3866', '3867', '3868', '3869', '3870', '3871', '38717', '3872', '38722', '3873', '3874', '3875', '3876', '38765', '38768', '38769', '3877', '3878', '38789', '3879', '38791', '38792', '38793', '38794', '38795', '38796', '38798', '3880', '38803', '38804', '38805', '38806', '38808', '3881', '38810', '38811', '38812', '38814', '38815', '38818', '3882', '38822', '38823', '38825', '3883', '38833', '3884', '38848', '3885', '38850', '38856', '3886', '38863', '38864', '38866', '38868', '3887', '3888', '38884', '3889', '3890', '38907', '3891', '3892', '38922', '3893', '3894', '38942', '38943', '38944', '38945', '38946', '38947', '38948', '38949', '3895', '38950', '38952', '38953', '38954', '38955', '38956', '38957', '38958', '38959', '38960', '38961', '3897', '38970', '38971', '38973', '38974', '38978', '38979', '3898', '38980', '38981', '38982', '38984', '38985', '38986', '38987', '38988', '38989', '3899', '38991', '38992', '38999', '3900', '39001', '39002', '39003', '39005', '39009', '39010', '3902', '3903', '3904', '39062', '39063', '39064', '39067', '39071', '39074', '39076', '39092', '39113', '3913', '3914', '39149', '3915', '39150', '39151', '39152', '39153', '39154', '39155', '39156', '39157', '39158', '39159', '3916', '39160', '39161', '39162', '39163', '39164', '39165', '39166', '39167', '39168', '39169', '39170', '39171', '39172', '39173', '39174', '39175', '39176', '39177', '39178', '39179', '39180', '39181', '39182', '39183', '39184', '39185', '39186', '39215', '39216', '39218', '39219', '39222', '39223', '39224', '39228', '39229', '39230', '39231', '39236', '39237', '3925', '3926', '3927', '3928', '3929', '3930', '3931', '39315', '39316', '39317', '39318', '3932', '39325', '3933', '39331', '39332', '39333', '39334', '3934', '39344', '39345', '39347', '3935', '3936', '3937', '3938', '3939', '39394', '39396', '39397', '39398', '39399', '3940', '39405', '3941', '39412', '39414', '3942', '39424', '3943', '3944', '39444', '39447', '39448', '39449', '3945', '39450', '39451', '39452', '39453', '39454', '39455', '39456', '39457', '39458', '39459', '3946', '39460', '39461', '39462', '39463', '39464', '39465', '39466', '39467', '39468', '39469', '3947', '39470', '39471', '39472', '39473', '39474', '39475', '39477', '39478', '39479', '3948', '39480', '39481', '3949', '39496', '39499', '3950', '3951', '3952', '3953', '3954', '3955', '3956', '3957', '3958', '3959', '3960', '3961', '3962', '3963', '3964', '3965', '3966', '3967', '3968', '3969', '39697', '39698', '3970', '39701', '3971', '39717', '39718', '39719', '3972', '39721', '39722', '39726', '39727', '39728', '39729', '3973', '39730', '39732', '39733', '39734', '3974', '39743', '39744', '39746', '3975', '39754', '3976', '39769', '3977', '39770', '39771', '39773', '39775', '39776', '39777', '3978', '39780', '39781', '39782', '39783', '39784', '39785', '39786', '39788', '3979', '39790', '39798', '3980', '39800', '39801', '39802', '39803', '3981', '3982', '3983', '39834', '39835', '39836', '39837', '39838', '39839', '3984', '39840', '39841', '39843', '39844', '39845', '39846', '39847', '39849', '3985', '39851', '39852', '39853', '39854', '39855', '39856', '39857', '39858', '39859', '3986', '39860', '39861', '39862', '39863', '39864', '39865', '3987', '3988', '3989', '3990', '3991', '3992', '3994', '3995', '40009', '40018', '40019', '40020', '40021', '40022', '40023', '40024', '40028', '40029', '40030', '40033', '40036', '40037', '40039', '40040', '40044', '40047', '40050', '40051', '40055', '40057', '40059', '40060', '40064', '40065', '40066', '40067', '40075', '40078', '40080', '40081', '40083', '40087', '40091', '40092', '40093', '40094', '40096', '40097', '40098', '40099', '40100', '40101', '40103', '40104', '40105', '40106', '40107', '40118', '40119', '40120', '40124', '40128', '40129', '40130', '40131', '40132', '40133', '40134', '40135', '40136', '40137', '40138', '40139', '4014', '40140', '40141', '40142', '40143', '40144', '4015', '40150', '40151', '40152', '40153', '40154', '40156', '40158', '40159', '40162', '40182', '40183', '40184', '40185', '40186', '40187', '40190', '40194', '40195', '40196', '40197', '40198', '40203', '40254', '40255', '40256', '40258', '40260', '40261', '40262', '40264', '40265', '40266', '40267', '40269', '40270', '40271', '40272', '4029', '4030', '4031', '4032', '4033', '4034', '4035', '4036', '4037', '40373', '40375', '40376', '4038', '40381', '40382', '40383', '40385', '40387', '40388', '40389', '40390', '40394', '40395', '40396', '40398', '4040', '40400', '40403', '40404', '40406', '40407', '40408', '40409', '4041', '40410', '40411', '40415', '40416', '40417', '40418', '40419', '4042', '40420', '40421', '40422', '40423', '40424', '40426', '40429', '40435', '40436', '40437', '40496', '4050', '4051', '4052', '4053', '4054', '4055', '4056', '40565', '40566', '40567', '40568', '40569', '4057', '40570', '40571', '40572', '40573', '40574', '40575', '40576', '40577', '40578', '40579', '4058', '40580', '40581', '40582', '40583', '40584', '40585', '40586', '40587', '40588', '40589', '4059', '40590', '40591', '40592', '40593', '40594', '40595', '40596', '40597', '40598', '40599', '4060', '40600', '40601', '40602', '40603', '40604', '40605', '40606', '40607', '40608', '40609', '4061', '40610', '40611', '40612', '40613', '40614', '40615', '40616', '40617', '40618', '40619', '4062', '40620', '40621', '40622', '40623', '40624', '40625', '40626', '40627', '40629', '4063', '40630', '40631', '40632', '40633', '40634', '40636', '40637', '40638', '40639', '40640', '40641', '40642', '40643', '40644', '40645', '40646', '40647', '40648', '40649', '40650', '40651', '40652', '40653', '40654', '40655', '40656', '40657', '40658', '40659', '40660', '40661', '40662', '40663', '40664', '40665', '40666', '40667', '40668', '40669', '40670', '40671', '40672', '40674', '40675', '40680', '40683', '4079', '4080', '4081', '4082', '4083', '4084', '4085', '4086', '4087', '4088', '4089', '4090', '4091', '4092', '40922', '4093', '40934', '40935', '40938', '4094', '40941', '40943', '40944', '40945', '40946', '40947', '40948', '40949', '4095', '40950', '40951', '40952', '40953', '40954', '40955', '40956', '40957', '40958', '4096', '40960', '4097', '40972', '40974', '40975', '40977', '40978', '40979', '4098', '40980', '40982', '40983', '40984', '40985', '40986', '40987', '40988', '40989', '4099', '40990', '40991', '40992', '40993', '41011', '41012', '41098', '41106', '41131', '41144', '41172', '41180', '41194', '4124', '4125', '41298', '41299', '41300', '41301', '41303', '41304', '41305', '41307', '41309', '41310', '41324', '41327', '41328', '41330', '41331', '41332', '41376', '41377', '41378', '41379', '41380', '41381', '41382', '41383', '41384', '41385', '41386', '41387', '41388', '41391', '41392', '41393', '41395', '41396', '41397', '41398', '41400', '41401', '41402', '41403', '41404', '41405', '41406', '41407', '41408', '41411', '41486', '41495', '41552', '41558', '41583', '41585', '41586', '41587', '41588', '41589', '41590', '41591', '41592', '41593', '41594', '41595', '41596', '41597', '41598', '41599', '4160', '41601', '41602', '41603', '41605', '41606', '41607', '41608', '41609', '4161', '41610', '41611', '4162', '41620', '41636', '41637', '41653', '41654', '41660', '41661', '41665', '41666', '41697', '41744', '41745', '41747', '41748', '41750', '41751', '41752', '41753', '41754', '41755', '41756', '41757', '41760', '41761', '41762', '41763', '41764', '41765', '41766', '41767', '41768', '41769', '41771', '41772', '41773', '41775', '41776', '41777', '41778', '41779', '41780', '41781', '41782', '41783', '41785', '41787', '41788', '41789', '41790', '41791', '41792', '41793', '41794', '41795', '41796', '41797', '41799', '41800', '4186', '4187', '4188', '4189', '4190', '4191', '4192', '4193', '4194', '4195', '41957', '41958', '41959', '4196', '41960', '41963', '41965', '41966', '41967', '41968', '41969', '4197', '41970', '41971', '41972', '41973', '41979', '4198', '41980', '41981', '41982', '41983', '41984', '41985', '41986', '41987', '41988', '41989', '4199', '41990', '41991', '41997', '41998', '41999', '4200', '4201', '4202', '4203', '4204', '4205', '4206', '4207', '4208', '4209', '42096', '42097', '42098', '4210', '42102', '42103', '42106', '42107', '42108', '42109', '4211', '42110', '42112', '42117', '42118', '4212', '42121', '42123', '4213', '4214', '4215', '42152', '42153', '4216', '42164', '42165', '42168', '4217', '42171', '42172', '42173', '42174', '42175', '42176', '4218', '4219', '42196', '42197', '42198', '42199', '4220', '42200', '42201', '42202', '42203', '42204', '42205', '42206', '42207', '42208', '4221', '42210', '42211', '42212', '42213', '42214', '42215', '42218', '4222', '42220', '42221', '42222', '42223', '42224', '42225', '42226', '42228', '42229', '4223', '42230', '42231', '42232', '42233', '42234', '42235', '42236', '42237', '42238', '42239', '4224', '42240', '42241', '42242', '42244', '42245', '42247', '42248', '42249', '4225', '42250', '4226', '4227', '4228', '4229', '4230', '4231', '4232', '4233', '4234', '4235', '4236', '42366', '4237', '4238', '42380', '4239', '42390', '42391', '42392', '42393', '42394', '42395', '42396', '42397', '42398', '42399', '4240', '42400', '42401', '4241', '42415', '42416', '42418', '42419', '4242', '42422', '42423', '42424', '42425', '42426', '42427', '42428', '42429', '4243', '42430', '4244', '4245', '4246', '4247', '4248', '4249', '4250', '42509', '4251', '42510', '42511', '42512', '42513', '42514', '42515', '42516', '42517', '42518', '42519', '4252', '42520', '42521', '42522', '42523', '42524', '42525', '42527', '42528', '42529', '4253', '42530', '42531', '42532', '42533', '42534', '42535', '42536', '42537', '42538', '42539', '4254', '42540', '42541', '42542', '42543', '42544', '42545', '42546', '42547', '42548', '42549', '42550', '42551', '42552', '42553', '42554', '42555', '42556', '42557', '42558', '42559', '4256', '42560', '42561', '42562', '42563', '42564', '42565', '42566', '4257', '4258', '42582', '42583', '42584', '42585', '42586', '42587', '42589', '4259', '42590', '42598', '4260', '42600', '4261', '4262', '4263', '4264', '42640', '42641', '42642', '42643', '42644', '42645', '42646', '42647', '42648', '42649', '4265', '42650', '42651', '42652', '42653', '42654', '42655', '42656', '42657', '42658', '42659', '42660', '42661', '42662', '42663', '42664', '42665', '42666', '42667', '42668', '42669', '42670', '42671', '42672', '42673', '42674', '42675', '42676', '42677', '42678', '42679', '42680', '42681', '42682', '42683', '42684', '42685', '42686', '42777', '42778', '4290', '4292', '4293', '4294', '4295', '4296', '4297', '4298', '4299', '4300', '4301', '4302', '4303', '43030', '43032', '43033', '43034', '43036', '43037', '4304', '43041', '43042', '43043', '43046', '43047', '43049', '4305', '43050', '43053', '43054', '43055', '43056', '43059', '4306', '43060', '43061', '43062', '43063', '43064', '43065', '43066', '43067', '43068', '43069', '4307', '43079', '4308', '43080', '43084', '43085', '4309', '4310', '4311', '4312', '4313', '4314', '4315', '4316', '4317', '4318', '4319', '4320', '4321', '4322', '43226', '4323', '4324', '4325', '43252', '43253', '43254', '43255', '43256', '43257', '43258', '43259', '4326', '43260', '43261', '43262', '43263', '43264', '43265', '43266', '43267', '43268', '43269', '4327', '43270', '4328', '4329', '4330', '43304', '43305', '43306', '43307', '43308', '4331', '43311', '43312', '43313', '43314', '43315', '43316', '43319', '43320', '43321', '43322', '43323', '43324', '43325', '43326', '43327', '43328', '43329', '43330', '43331', '43332', '43406', '43410', '43432', '43435', '43457', '43481', '43482', '43483', '43484', '43485', '43486', '43487', '43488', '43490', '43491', '43492', '43493', '43494', '43495', '43496', '43497', '43498', '43499', '43500', '43501', '43502', '43503', '43504', '43505', '43506', '43507', '4351', '43516', '43517', '43518', '43519', '4352', '43527', '43528', '43529', '4353', '43530', '43531', '43532', '43533', '43534', '43535', '43536', '43537', '43538', '43539', '4354', '43543', '43544', '4355', '4356', '4357', '43573', '43574', '43575', '43576', '43577', '43578', '43579', '4358', '43581', '43582', '43584', '43585', '43587', '4359', '43590', '43592', '43593', '43598', '4361', '43613', '43614', '43615', '43616', '43617', '43618', '43619', '4362', '43620', '43621', '43622', '43623', '43624', '43628', '43629', '4363', '43630', '43631', '43635', '43636', '43638', '43639', '4364', '43640', '43641', '43642', '43647', '43648', '43649', '4365', '43650', '43651', '43654', '4366', '43660', '43661', '43662', '43663', '43664', '43665', '43668', '43669', '4367', '43670', '43671', '43673', '4368', '43682', '43683', '43685', '43686', '43687', '43688', '43689', '43690', '43691', '43692', '43693', '43695', '43696', '43697', '43698', '43699', '4370', '43700', '43701', '43702', '4371', '4373', '4374', '4375', '4376', '4377', '4378', '4379', '4380', '4381', '4382', '4383', '4385', '4386', '4387', '4388', '4389', '43897', '4390', '43904', '43908', '43909', '4391', '43910', '43911', '43913', '4392', '43921', '43922', '43923', '43924', '4393', '4394', '43955', '4396', '43960', '4397', '4398', '4399', '4400', '4401', '4402', '4403', '4404', '4405', '4406', '4407', '4408', '4409', '4410', '4411', '4412', '4413', '4415', '4416', '4417', '4418', '4419', '4420', '4421', '44219', '4422', '44220', '44221', '44222', '44223', '44224', '44225', '44226', '4423', '4424', '4425', '4426', '4427', '4428', '44287', '4429', '44292', '44293', '4431', '44310', '44311', '4432', '4433', '44333', '44338', '44341', '44342', '44343', '44348', '4435', '44371', '44375', '44376', '4456', '4457', '4458', '44588', '4459', '4460', '4461', '4462', '44626', '44628', '44633', '44634', '44635', '44636', '44637', '4464', '44642', '44644', '44645', '44647', '44648', '44649', '4465', '44655', '44656', '44668', '44669', '44670', '44672', '44674', '44675', '44676', '44677', '44678', '44679', '44680', '44683', '44684', '44689', '44690', '44691', '44692', '44693', '44695', '44696', '44697', '44698', '44699', '44700', '44701', '44702', '44703', '44705', '44706', '44708', '44799', '44800', '44801', '44802', '44803', '44804', '44805', '44806', '44807', '44808', '44809', '44810', '44811', '44812', '44813', '44814', '44829', '44830', '44831', '44832', '44833', '44834', '44835', '44836', '44837', '44838', '44839', '44840', '44841', '44842', '44843', '44844', '44845', '44846', '44847', '44848', '44850', '44851', '44852', '44854', '44855', '44856', '44857', '44858', '44859', '44860', '44861', '44862', '44863', '44864', '44865', '44866', '44867', '44868', '44869', '44873', '44874', '44875', '44876', '44877', '44878', '44879', '44880', '44883', '44884', '44885', '44886', '44887', '44888', '44889', '44890', '44891', '44892', '44893', '44894', '44895', '44896', '44897', '44898', '44899', '44900', '44901', '44903', '44904', '44907', '44908', '44909', '44910', '44915', '44926', '44927', '44928', '44929', '4534', '4538', '4539', '4540', '4541', '45440', '45441', '45512', '45531', '45533', '45534', '45535', '45536', '45561', '45568', '45723', '45724', '45725', '45727', '45731', '45732', '45733', '45735', '45736', '45737', '45739', '45742', '45748', '45751', '45752', '45757', '45775', '45776', '45778', '45779', '45780', '45781', '45782', '4581', '45831', '45832', '45834', '45835', '45836', '45837', '45838', '45843', '45845', '45848', '45850', '45856', '45859', '45861', '45863', '45941', '45942', '45943', '45946', '45947', '45949', '45954', '45955', '45958', '45959', '45960', '45962', '45963', '45964', '45965', '45968', '45969', '45970', '45972', '45973', '45976', '45977', '45979', '45980', '45981', '45982', '45983', '46014', '46015', '46016', '46017', '46018', '46019', '46020', '46021', '46022', '46121', '4618', '4619', '4620', '4621', '4622', '4623', '46239', '4624', '46240', '46241', '46242', '46243', '46244', '46245', '46246', '46247', '46248', '46249', '46250', '46251', '46252', '46253', '46254', '46255', '46256', '46257', '46258', '46259', '46261', '46262', '46263', '46264', '46265', '46266', '46267', '46268', '46269', '46270', '46272', '46273', '46274', '46275', '46276', '46278', '46279', '46280', '46282', '46283', '46284', '46286', '46287', '46288', '46348', '46351', '46352', '46353', '46359', '46360', '46361', '46362', '46365', '46367', '46376', '46377', '46378', '46379', '46380', '46381', '46382', '46383', '46384', '46385', '46386', '46388', '46389', '46391', '46392', '46393', '46394', '46395', '46396', '46397', '46398', '46401', '46402', '46403', '46404', '46405', '46406', '46407', '46408', '46409', '46410', '46411', '46412', '46413', '46580', '46731', '46741', '46809', '46810', '46811', '46815', '46816', '46831', '46833', '46991', '46992', '46995', '46996', '46997', '46998', '46999', '47000', '47002', '47003', '47004', '47005', '47006', '47007', '47008', '47009', '47010', '47011', '47012', '47014', '47015', '47016', '47017', '47018', '47019', '47020', '47022', '47023', '47025', '47026', '47027', '47028', '47029', '47030', '47031', '47032', '47033', '47034', '47035', '47036', '47037', '47038', '47039', '47040', '4717', '4718', '4719', '4720', '4721', '4722', '4723', '4724', '4725', '4726', '4727', '4728', '47280', '47281', '47282', '47283', '47284', '47285', '4729', '4730', '4744', '4745', '4746', '4747', '4748', '4749', '4750', '4751', '4752', '4753', '4754', '4755', '4756', '4757', '4758', '4759', '4760', '4761', '4762', '4763', '4764', '4765', '47654', '47659', '4766', '47660', '47662', '4767', '47673', '47678', '4768', '4769', '4771', '4772', '4776', '4777', '4778', '4779', '4780', '4781', '4782', '4783', '4784', '4788', '4789', '4790', '4791', '4792', '4793', '4794', '4795', '4798', '4799', '4800', '4801', '4802', '4803', '4804', '4805', '4806', '48062', '48063', '48064', '48065', '48067', '48068', '48069', '4807', '48070', '48071', '48072', '48073', '48074', '48075', '48076', '48077', '48078', '48079', '48080', '48081', '48082', '48088', '48089', '48090', '48091', '48092', '48093', '48094', '48095', '4810', '48100', '48101', '48102', '48103', '48104', '48106', '48107', '48108', '48109', '4811', '4812', '4813', '4814', '4816', '4817', '48238', '48239', '48240', '48241', '48242', '48243', '48244', '48245', '48246', '48247', '48248', '48250', '48251', '48252', '48253', '48254', '48256', '48257', '48258', '48259', '4836', '48360', '48361', '48362', '48363', '48365', '48367', '48368', '48369', '4837', '48370', '48371', '48372', '48373', '48374', '48375', '4838', '4839', '4840', '48400', '48401', '48402', '48403', '48404', '48405', '48406', '48407', '48408', '48409', '4841', '48410', '48411', '48412', '48414', '48415', '48416', '48417', '48418', '48419', '4842', '48420', '48421', '48422', '48423', '48424', '48426', '48427', '48428', '48429', '4843', '48430', '48431', '48432', '48433', '48434', '48435', '48436', '48437', '48438', '48439', '4844', '48440', '48441', '48442', '48443', '48444', '48445', '48447', '48448', '48449', '4845', '48450', '48451', '48452', '48453', '48454', '48455', '48456', '4846', '4847', '4848', '48487', '48488', '48489', '48490', '48491', '48492', '4850', '48501', '48502', '48503', '48504', '48505', '48506', '48507', '48508', '48509', '48510', '48511', '48512', '48513', '48514', '48515', '48516', '48517', '48518', '48519', '48520', '48521', '4857', '4858', '4859', '4860', '4861', '4862', '4863', '4864', '4865', '4866', '4867', '4868', '4869', '4870', '4871', '4872', '4873', '4874', '4875', '4876', '4877', '4878', '4879', '4880', '4881', '4882', '4883', '4884', '4885', '4886', '4887', '4888', '4889', '4890', '4891', '4892', '4893', '4894', '4895', '4896', '4897', '4898', '4899', '4900', '4901', '4902', '4903', '4904', '4905', '4907', '4908', '4909', '4910', '4911', '4912', '4913', '4914', '4915', '4916', '49168', '4917', '4918', '4919', '4920', '4921', '4922', '4923', '4924', '4925', '4926', '4927', '4928', '4935', '4937', '4938', '4941', '4942', '4943', '4944', '4945', '4946', '4947', '4948', '4953', '4954', '4955', '4956', '4957', '4958', '4959', '4960', '4961', '4962', '49626', '49629', '4963', '49637', '49638', '49639', '4964', '49640', '49641', '49642', '4965', '49650', '49651', '49652', '49653', '49657', '49659', '4966', '49660', '4967', '4968', '4969', '4970', '4971', '4972', '4973', '4974', '4975', '4976', '49765', '49766', '49767', '49768', '49769', '49770', '49772', '49773', '49774', '49775', '49776', '4979', '4982', '4986', '49939', '49940', '49941', '49942', '49961', '49962', '49963', '49964', '49965', '5000', '5006', '5009', '5010', '5011', '5012', '5013', '5016', '50194', '50195', '5020', '5021', '5022', '5023', '5024', '50321', '50322', '50323', '50324', '50325', '50326', '50327', '50328', '50329', '50330', '50331', '50332', '50333', '50334', '50335', '50336', '50337', '50338', '50339', '50340', '50341', '50342', '50343', '50344', '50345', '50346', '50347', '50348', '50349', '50350', '50351', '50352', '50353', '50354', '50355', '50356', '50357', '50701', '50702', '50703', '50705', '50708', '50710', '50713', '50714', '50715', '50717', '50718', '50719', '5082', '5083', '5084', '50842', '50843', '50844', '5085', '5086', '5087', '5089', '5090', '5091', '5092', '5093', '5094', '5095', '5096', '5097', '5098', '5099', '5100', '5101', '5107', '5108', '5109', '5110', '5111', '5112', '5113', '5114', '5115', '5116', '5117', '5118', '5119', '5120', '5121', '5122', '51222', '51225', '51226', '5123', '51231', '51232', '5124', '5125', '5126', '5127', '5128', '5129', '5130', '5131', '51319', '5132', '5133', '51331', '51333', '5134', '5135', '5136', '5137', '51370', '51372', '5138', '5139', '51399', '5140', '51400', '51401', '51402', '51403', '51404', '51405', '51406', '51407', '51408', '51409', '5141', '51410', '51411', '51412', '51413', '51414', '51415', '51417', '51418', '51419', '5142', '51420', '51421', '51422', '51423', '51424', '51425', '51426', '51427', '51428', '51429', '5143', '51430', '51431', '51432', '51433', '51434', '51435', '51436', '51437', '51438', '51439', '5144', '51440', '51442', '51443', '51444', '51446', '51449', '5145', '51452', '51453', '51454', '51455', '51456', '51458', '51459', '5146', '51460', '51461', '51462', '51463', '51464', '51466', '5147', '51473', '51478', '5148', '51488', '51489', '5149', '5150', '5151', '5152', '5153', '5154', '5155', '5156', '5157', '5158', '5160', '5161', '5162', '5163', '5164', '5165', '5166', '5167', '5168', '5169', '5170', '5171', '5172', '5173', '5174', '5175', '5176', '5177', '5178', '5179', '5180', '5181', '5182', '5183', '5184', '5185', '51854', '51857', '5186', '51860', '5187', '51870', '51874', '5188', '5189', '5190', '5192', '5193', '5194', '5196', '5197', '5198', '5199', '5201', '5202', '52023', '52026', '52027', '52028', '52029', '5203', '52030', '52031', '52032', '52034', '5204', '52042', '52043', '52044', '52045', '52049', '5205', '52050', '52051', '52052', '52053', '52054', '52055', '52056', '52057', '52058', '52059', '52060', '52061', '52062', '52063', '52064', '52065', '52066', '52067', '52068', '52069', '52070', '52071', '52072', '52073', '52074', '52075', '52076', '52077', '52078', '52079', '5208', '52080', '52081', '52082', '52083', '52084', '52085', '52086', '52087', '52088', '52089', '5209', '52090', '52091', '52092', '52093', '52094', '52095', '52096', '52097', '52098', '52099', '5210', '52100', '52101', '52102', '52103', '52104', '52105', '52106', '52107', '52108', '52109', '5211', '52110', '52111', '52112', '52113', '52114', '52115', '52116', '52117', '52118', '52119', '5212', '52120', '52121', '52122', '52126', '52127', '52129', '5213', '52132', '52135', '52136', '52137', '52138', '52139', '5214', '52140', '52141', '52142', '52143', '52144', '52145', '52146', '52147', '52148', '52149', '5215', '52150', '52151', '52153', '52154', '52156', '52157', '52158', '52159', '5216', '52160', '52163', '52164', '5230', '5231', '5232', '5233', '5279', '5280', '5281', '5282', '5283', '5285', '5293', '5294', '5295', '53111', '53112', '53113', '53114', '53115', '53116', '53117', '53118', '53119', '53120', '53121', '53122', '53123', '53124', '53125', '53126', '53152', '53159', '53211', '53215', '53226', '53264', '53269', '53278', '53282', '53303', '53307', '53312', '53313', '53314', '53318', '53319', '53388', '53389', '53390', '53391', '53392', '53393', '53394', '53395', '53396', '53397', '53398', '53399', '53401', '53402', '53403', '53404', '53405', '53406', '53408', '53409', '53410', '53411', '53412', '53413', '53414', '53415', '53416', '53417', '53418', '53419', '53420', '53421', '53422', '53423', '53424', '53425', '53426', '53427', '53428', '53429', '53430', '53431', '53432', '53433', '53434', '53435', '53754', '53759', '53760', '53761', '53762', '53763', '53764', '53765', '53766', '53767', '53768', '53770', '53771', '53772', '53773', '53774', '53775', '53778', '53779', '53780', '53781', '53782', '53783', '53784', '53785', '53786', '53787', '53788', '53791', '53793', '53794', '53795', '53796', '53797', '53798', '53799', '53800', '53801', '53802', '53803', '53804', '53808', '53809', '53810', '53811', '53813', '53815', '53816', '53818', '53819', '53820', '53822', '53823', '53824', '53826', '53829', '53830', '53832', '53833', '53834', '53835', '53836', '53837', '53838', '53839', '53840', '53841', '53842', '53843', '53849', '53850', '53851', '53852', '53856', '53857', '53859', '53861', '53863', '53864', '53866', '54079', '54080', '54081', '54082', '54083', '54084', '54086', '54087', '54088', '54089', '54090', '5413', '5414', '54146', '5415', '5416', '5417', '5418', '5419', '5420', '54200', '54202', '5421', '5422', '5423', '5424', '5425', '54252', '5426', '5427', '5428', '54280', '5430', '5431', '5432', '5433', '54338', '5434', '5435', '5436', '5437', '5438', '5439', '5440', '5441', '5442', '5443', '5444', '5445', '5446', '5447', '5448', '5449', '54547', '54548', '54549', '5455', '54550', '54551', '54553', '54554', '54555', '54556', '54557', '54558', '54559', '54561', '54562', '54563', '54564', '54565', '54566', '54567', '54568', '54569', '54570', '54571', '54572', '54573', '54574', '54575', '54576', '54577', '54578', '54579', '54580', '54581', '54582', '54584', '54585', '54586', '54587', '54588', '54589', '54590', '54595', '54596', '54597', '54598', '54599', '54680', '54681', '54682', '54683', '54684', '54685', '54687', '54690', '54691', '54692', '54693', '54694', '54695', '54696', '54697', '54698', '54699', '54700', '54702', '54706', '54708', '54710', '54711', '54716', '54717', '54718', '54719', '54720', '54725', '54726', '54727', '54744', '54767', '5486', '5487', '5488', '54889', '5489', '54890', '54891', '54897', '54899', '5490', '54900', '54901', '54902', '54903', '54904', '54905', '54906', '54907', '54908', '54909', '5491', '54911', '54913', '54914', '54915', '5492', '54926', '54927', '54928', '54929', '5493', '54930', '54931', '54932', '54933', '54934', '54935', '54936', '54937', '54938', '54939', '5494', '54940', '54941', '54942', '54943', '54944', '54945', '54946', '54947', '54948', '54949', '5495', '54950', '54951', '54953', '54954', '54955', '54957', '54958', '54959', '5496', '54960', '54961', '54964', '54965', '5497', '54975', '54979', '5498', '54981', '54986', '54987', '54988', '54989', '5499', '54991', '54992', '54993', '5500', '5501', '5502', '5503', '5504', '5506', '5507', '5513', '5514', '5515', '5516', '5520', '5527', '5543', '5544', '5545', '5546', '5547', '5556', '5558', '5559', '55590', '55591', '55595', '55597', '55599', '5560', '55608', '5565', '5658', '5659', '5660', '5661', '5662', '56638', '56639', '5664', '56640', '56642', '56643', '56646', '56647', '56649', '56650', '56651', '5666', '5667', '5668', '56687', '56688', '56689', '5669', '56691', '56692', '56693', '56694', '56695', '56696', '56697', '56698', '56699', '5670', '56700', '56701', '56702', '56703', '56704', '56705', '56709', '5671', '56711', '56713', '56714', '56715', '56718', '5672', '56725', '56733', '56734', '56736', '56752', '56753', '56765', '56769', '56770', '56771', '56787', '56806', '56807', '56808', '56809', '56810', '56811', '56812', '56813', '56814', '56815', '56816', '56817', '56818', '56819', '56820', '56825', '56854', '56855', '57028', '57029', '57030', '57031', '57032', '57033', '57062', '57063', '57064', '57065', '57066', '57067', '57068', '57069', '57080', '57081', '57100', '57101', '57102', '57103', '57104', '57105', '57106', '57107', '57108', '57109', '57110', '57111', '57112', '57114', '57115', '57116', '57117', '57118', '57119', '57120', '57121', '57122', '57123', '57124', '57125', '57126', '57127', '57128', '57129', '57130', '57131', '57132', '57133', '57134', '57135', '57142', '57143', '57144', '57145', '57146', '57147', '57149', '57150', '57152', '57153', '57154', '57155', '57156', '57157', '57158', '57159', '5716', '57160', '57161', '57162', '57163', '57164', '57165', '57166', '57167', '57168', '57169', '5717', '57170', '57171', '57172', '57173', '57174', '57175', '57176', '57177', '57178', '57179', '5718', '57180', '57181', '57182', '57183', '57184', '57185', '57186', '57187', '57188', '57189', '5719', '57190', '57191', '57192', '57193', '57194', '57195', '57196', '57197', '57198', '57199', '5720', '57200', '57201', '57202', '57203', '5721', '5722', '57268', '57273', '57274', '57275', '57276', '57277', '57280', '57281', '57282', '57283', '57284', '57285', '57286', '57287', '57288', '57289', '57290', '57291', '57292', '57293', '57294', '57295', '57296', '57297', '57310', '5740', '5741', '5742', '57420', '57421', '57422', '57423', '57424', '57425', '57426', '57427', '57428', '57429', '5743', '57430', '57431', '57432', '57433', '57434', '57435', '57436', '57437', '57438', '57439', '57440', '57441', '57442', '57443', '57444', '57445', '57446', '57447', '57448', '57449', '5745', '57450', '5746', '5748', '5750', '5751', '5755', '5757', '5758', '5759', '5760', '5763', '5764', '5765', '5767', '5769', '5770', '5772', '5774', '5775', '5776', '5777', '5778', '5780', '57810', '57815', '57816', '57817', '57818', '5782', '57820', '57823', '57832', '57833', '57834', '5785', '5787', '57895', '57898', '5790', '5791', '5792', '5793', '57930', '57931', '57932', '57933', '5794', '5795', '5796', '5797', '5798', '57980', '57981', '57982', '57983', '57985', '57987', '5799', '57992', '5800', '58004', '58005', '58006', '58007', '58008', '58009', '5801', '58010', '58011', '58012', '58013', '58014', '58015', '5802', '5803', '5805', '5806', '5807', '5808', '5810', '5811', '5812', '5813', '5814', '5815', '58158', '5816', '5817', '5818', '5819', '5820', '5821', '5822', '58225', '5823', '5824', '5825', '5826', '5827', '5828', '5829', '5830', '5831', '5832', '5833', '5834', '58349', '5835', '58351', '58357', '58358', '5836', '5837', '58372', '58375', '5838', '58381', '58385', '5839', '58394', '58395', '5840', '5841', '5842', '5843', '5844', '5845', '58458', '58459', '5846', '58460', '5847', '5848', '5849', '58495', '58496', '58497', '58498', '5850', '58500', '58507', '58508', '58511', '58512', '58513', '58514', '58515', '58516', '58517', '58518', '58519', '58526', '58559', '58563', '58565', '58566', '58569', '58570', '58573', '58574', '58576', '58577', '5859', '5860', '5861', '5862', '5863', '58643', '58644', '58645', '58646', '58647', '58648', '5865', '58652', '58653', '58654', '58655', '58656', '58657', '58658', '58659', '58660', '58661', '58662', '58663', '58664', '58666', '58667', '58668', '58669', '5867', '58670', '58671', '58672', '58673', '58674', '58675', '58676', '58677', '58678', '58680', '58681', '58682', '58683', '58684', '58685', '58686', '58687', '58689', '5869', '58690', '58691', '58692', '58693', '58694', '58695', '58696', '58698', '58700', '58701', '58702', '58703', '58718', '58719', '58720', '58722', '58723', '58724', '58725', '58726', '58727', '58728', '58729', '58730', '58731', '58732', '58734', '58735', '58737', '58738', '58740', '58741', '58742', '58743', '58744', '58765', '58770', '5879', '58793', '58794', '58795', '58796', '58797', '58798', '58800', '58801', '58802', '58805', '58807', '58808', '58809', '5881', '58810', '5882', '5884', '5885', '5886', '5887', '5888', '5889', '5890', '5891', '5892', '5893', '59058', '59059', '59060', '59061', '59062', '59063', '5907', '59102', '59103', '59104', '59105', '59106', '59112', '59115', '59116', '59117', '59118', '59119', '59120', '59121', '59122', '59123', '59124', '59126', '59127', '59128', '59129', '59130', '59131', '59132', '59133', '59294', '59295', '59296', '59297', '59298', '59299', '59300', '59301', '59302', '59303', '59304', '59305', '59306', '5935', '59352', '59353', '59354', '59355', '59356', '59357', '59358', '59359', '59360', '59361', '59362', '59363', '59364', '59365', '59366', '59367', '59368', '59369', '59370', '59371', '59372', '59373', '59374', '59375', '59376', '59377', '59378', '59379', '59380', '59381', '59382', '59383', '59399', '59400', '59403', '59404', '59405', '59407', '5941', '59410', '59413', '59418', '59421', '59422', '5943', '59439', '59440', '59441', '59442', '59443', '59444', '59445', '59446', '59448', '5945', '59451', '59452', '59453', '59454', '5946', '5947', '5948', '5949', '5951', '5952', '5953', '5954', '5955', '5956', '5957', '5958', '5959', '5960', '5962', '5963', '5964', '5966', '5967', '59672', '59673', '5969', '5970', '5971', '5972', '5973', '5974', '5975', '5976', '5978', '5979', '59794', '59796', '59797', '5980', '5981', '59810', '59819', '5982', '59824', '59826', '59827', '5983', '59832', '59833', '59834', '59838', '5984', '5985', '5986', '5987', '59872', '59874', '59875', '5988', '59882', '59883', '59884', '59885', '59886', '59887', '59888', '59889', '59890', '59891', '59892', '59893', '59894', '59898', '5990', '5991', '59910', '59911', '59912', '59914', '59915', '59916', '59917', '59918', '59919', '5992', '59920', '59921', '59922', '59923', '59924', '59925', '59926', '59927', '59928', '59929', '5993', '59930', '59931', '59932', '59933', '59934', '5994', '5995', '5996', '5998', '5999', '60000', '6001', '6002', '6003', '6004', '6005', '6006', '6007', '6008', '6009', '6010', '6011', '6012', '6013', '6014', '6015', '6016', '6017', '6020', '6021', '6022', '6023', '6024', '6025', '6026', '6027', '6029', '6030', '6031', '6032', '6033', '6035', '6036', '6037', '6038', '6039', '6040', '6041', '6042', '6043', '6044', '6046', '6048', '6049', '6052', '6053', '6054', '6055', '6057', '6059', '6060', '6061', '6062', '6063', '6064', '6065', '6066', '6067', '6068', '6069', '6070', '6071', '6073', '6076', '6079', '6080', '6082', '6083', '6084', '6085', '6086', '6087', '6088', '6089', '6090', '6091', '6092', '6093', '6094', '6095', '6097', '6099', '6101', '6102', '6103', '6104', '6105', '6107', '6108', '6109', '6110', '6111', '6112', '6113', '6115', '6116', '6118', '6123', '6128', '6132', '6135', '6155', '6156', '6157', '6158', '6159', '6160', '6161', '6162', '6164', '6166', '6168', '6170', '6171', '6172', '6174', '6176', '6177', '6181', '6183', '6185', '6188', '6189', '6190', '6191', '6192', '6194', '6195', '6196', '6197', '6198', '6199', '6200', '6202', '6203', '6204', '6205', '6206', '6207', '6208', '6209', '6211', '6212', '6213', '6214', '6215', '6216', '6217', '6219', '6220', '6222', '6223', '6224', '6225', '6226', '6227', '6228', '6229', '6230', '6231', '6232', '6233', '6234', '6235', '6236', '6237', '6238', '6239', '6240', '6241', '6242', '6243', '6244', '6245', '6246', '6247', '6248', '6249', '6251', '6252', '6253', '6254', '6255', '6257', '6258', '6259', '6264', '6266', '6267', '6268', '6269', '6271', '6272', '6274', '6275', '6277', '6278', '6279', '6280', '6282', '6283', '6286', '6287', '6289', '6291', '6292', '6293', '6294', '6300', '6303', '6306', '6307', '6311', '6312', '6314', '6320', '6325', '6327', '6331', '6471', '6472', '6473', '6475', '6476', '6477', '6478', '6479', '6480', '6481', '6482', '6484', '6485', '6488', '6489', '6492', '6493', '6496', '6498', '6500', '6501', '6504', '6506', '6508', '6512', '6513', '6528', '6529', '6530', '6534', '6538', '6540', '6542', '6543', '6547', '6549', '6551', '6552', '6556', '6558', '6562', '6567', '6568', '6569', '6570', '6571', '6572', '6575', '6576', '6577', '6578', '6581', '6582', '6583', '6584', '6585', '6586', '6587', '6589', '6590', '6591', '6592', '6593', '6594', '6595', '6596', '6597', '6598', '6599', '6600', '6601', '6602', '6603', '6604', '6605', '6606', '6607', '6608', '6609', '6610', '6611', '6612', '6613', '6614', '6615', '6616', '6617', '6618', '6633', '6662', '6683', '6684', '6685', '6686', '6687', '6688', '6690', '6693', '6695', '6698', '6701', '6703', '6706', '6707', '6708', '6711', '6712', '6713', '6714', '6715', '6716', '6717', '6718', '6720', '6721', '6722', '6724', '6732', '6757', '6758', '6759', '6760', '6761', '6762', '6763', '6764', '6765', '6766', '6767', '6768', '6769', '6770', '6771', '6772', '6773', '6774', '6775', '6776', '6777', '6778', '6779', '6780', '6781', '6782', '6783', '6784', '6785', '6786', '6787', '6788', '6789', '6790', '6791', '6792', '6793', '6794', '6795', '6796', '6859', '6861', '6865', '6867', '6869', '6871', '6876', '6877', '6878', '6879', '6880', '6881', '6882', '6883', '6884', '6886', '6887', '6888', '6889', '6890', '6891', '6892', '6894', '6895', '6897', '6899', '6901', '6902', '6903', '6904', '6905', '6906', '6907', '6908', '6909', '6910', '6911', '6915', '6918', '6924', '6926', '6928', '6929', '6930', '6931', '6932', '6933', '6934', '6935', '6936', '6937', '6938', '6939', '6940', '6941', '6943', '6944', '6945', '6946', '6947', '6948', '6949', '6950', '6951', '6952', '6953', '6954', '6956', '6958', '6962', '6963', '6965', '6966', '6967', '6969', '6971', '6972', '6973', '6974', '6979', '6980', '6981', '6983', '6984', '6985', '6986', '6987', '6988', '6990', '6991', '6994', '6995', '6996', '6997', '6998', '6999', '7000', '7001', '7002', '7003', '7004', '7005', '7006', '7007', '7008', '7009', '7010', '7011', '7012', '7013', '7015', '7017', '7019', '7020', '7021', '7023', '7025', '7026', '7027', '7030', '7031', '7032', '7035', '7049', '7051', '7053', '7054', '7055', '7068', '7069', '7127', '7129', '7130', '7132', '7135', '7138', '7139', '7140', '7141', '7142', '7143', '7144', '7145', '7146', '7147', '7148', '7149', '7150', '7151', '7152', '7153', '7154', '7155', '7156', '7157', '7158', '7160', '7162', '7163', '7164', '7165', '7166', '7167', '7168', '7169', '7170', '7171', '7172', '7173', '7174', '7175', '7176', '7177', '7181', '7183', '7184', '7194', '7195', '7196', '7197', '7198', '7199', '7200', '7201', '7202', '7203', '7204', '7205', '7206', '7207', '7208', '7209', '7210', '7211', '7212', '7213', '7214', '7215', '7265', '7268', '7269', '7270', '7271', '7272', '7273', '7275', '7276', '7277', '7278', '7281', '7282', '7283', '7284', '7285', '7286', '7287', '7288', '7289', '7290', '7291', '7292', '7293', '7294', '7295', '7296', '7297', '7298', '7299', '7300', '7301', '7302', '7303', '7304', '7305', '7307', '7308', '7309', '7310', '7311', '7312', '7313', '7314', '7315', '7316', '7317', '7340', '7341', '7342', '7343', '7345', '7346', '7347', '7348', '7349', '7350', '7351', '7352', '7353', '7355', '7357', '7359', '7362', '7409', '7410', '7411', '7412', '7413', '7414', '7415', '7416', '7417', '7418', '7419', '7420', '7421', '7422', '7423', '7424', '7425', '7426', '7427', '7428', '7429', '7430', '7431', '7434', '7435', '7436', '7437', '7438', '7439', '7440', '7441', '7442', '7443', '7445', '7446', '7447', '7449', '7450', '7451', '7452', '7453', '7454', '7455', '7456', '7457', '7458', '7459', '7460', '7462', '7463', '7465', '7467', '7468', '7469', '7470', '7471', '7472', '7473', '7475', '7476', '7479', '7480', '7481', '7482', '7483', '7484', '7494', '7495', '7496', '7498', '7499', '7500', '7501', '7503', '7504', '7505', '7506', '7508', '7509', '7512', '7513', '7515', '7516', '7517', '7519', '7520', '7521', '7524', '7525', '7526', '7527', '7528', '7529', '7530', '7531', '7532', '7534', '7535', '7536', '7538', '7539', '7540', '7541', '7543', '7545', '7546', '7548', '7550', '7551', '7552', '7554', '7555', '7556', '7558', '7559', '7561', '7562', '7563', '7564', '7565', '7566', '7567', '7568', '7569', '7570', '7571', '7572', '7573', '7574', '7577', '7579', '7580', '7582', '7583', '7585', '7590', '7591', '7596', '7598', '7607', '7629', '7634', '7637', '7639', '7641', '7642', '7643', '7645', '7647', '7650', '7652', '7655', '7658', '7660', '7663', '7666', '7669', '7672', '7674', '7677', '7679', '7682', '7683', '7684', '7685', '7686', '7689', '7690', '7691', '7692', '7693', '7694', '7696', '7697', '7698', '7699', '7700', '7701', '7702', '7703', '7704', '7705', '7706', '7742', '7743', '7744', '7745', '7747', '7749', '7751', '7752', '7755', '7756', '7758', '7761', '7763', '7764', '7766', '7768', '7769', '7784', '7785', '7787', '7788', '7789', '7790', '7791', '7792', '7793', '7794', '7795', '7796', '7798', '7800', '7801', '7803', '7808', '7811', '7814', '7815', '7817', '7818', '7819', '7820', '7823', '7827', '7829', '7831', '7832', '7834', '7837', '7847', '7848', '7850', '7851', '7855', '7856', '7857', '7859', '7861', '7862', '7865', '7867', '7868', '7870', '7873', '7888', '7891', '7901', '7903', '7904', '7905', '7906', '7907', '7908', '7909', '7910', '7911', '7913', '7914', '7915', '7916', '7917', '7918', '7920', '7921', '7922', '7923', '7924', '7925', '7926', '7927', '7928', '7930', '7933', '7934', '7936', '7937', '7938', '7939', '7941', '7942', '7943', '7944', '7945', '7946', '7947', '7948', '7949', '7950', '7951', '7952', '7953', '7954', '7955', '7957', '7958', '7959', '7960', '7961', '7962', '7963', '7964', '7965', '7979', '7980', '7988', '7990', '7996', '8002', '8003', '8004', '8011', '8012', '8014', '8017', '8018', '8040', '8047', '8050', '8056', '8147', '8148', '8149', '8150', '8151', '8152', '8153', '8154', '8155', '8156', '8157', '8159', '8160', '8161', '8162', '8163', '8164', '8165', '8166', '8167', '8180', '8181', '8182', '8183', '8184', '8185', '8186', '8187', '8188', '8189', '8190', '8191', '8192', '8193', '8194', '8195', '8196', '8197', '8199', '8200', '8202', '8204', '8205', '8206', '8207', '8208', '8209', '8265', '8268', '8269', '8270', '8271', '8272', '8273', '8274', '8275', '8276', '8277', '8278', '8279', '8280', '8281', '8282', '8285', '8288', '8290', '8291', '8292', '8293', '8295', '8314', '8315', '8316', '8317', '8318', '8319', '8320', '8321', '8322', '8323', '8324', '8325', '8326', '8327', '8328', '8330', '8331', '8332', '8333', '8334', '8335', '8336', '8337', '8338', '8339', '8340', '8341', '8348', '8349', '8350', '8351', '8353', '8354', '8355', '8356', '8357', '8358', '8359', '8360', '8361', '8364', '8365', '8366', '8367', '8368', '8369', '8371', '8372', '8375', '8378', '8379', '8380', '8381', '8382', '8383', '8384', '8385', '8386', '8387', '8389', '8390', '8391', '8392', '8393', '8394', '8395', '8396', '8398', '8399', '8400', '8401', '8402', '8403', '8404', '8405', '8407', '8408', '8409', '8410', '8411', '8412', '8413', '8414', '8415', '8417', '8418', '8419', '8420', '8432', '8433', '8434', '8435', '8436', '8437', '8438', '8439', '8440', '8441', '8442', '8443', '8444', '8445', '8446', '8447', '8448', '8449', '8450', '8451', '8452', '8453', '8454', '8455', '8456', '8457', '8458', '8459', '8460', '8461', '8462', '8463', '8465', '8466', '8467', '8468', '8469', '8470', '8471', '8472', '8473', '8474', '8475', '8476', '8477', '8478', '8488', '8489', '8490', '8491', '8492', '8549', '8550', '8551', '8552', '8553', '8554', '8555', '8556', '8557', '8558', '8580', '8581', '8582', '8583', '8584', '8585', '8586', '8587', '8588', '8589', '8590', '8591', '8593', '8594', '8595', '8596', '8597', '8598', '8600', '8605', '8606', '8607', '8608', '8610', '8611', '8612', '8613', '8716', '8718', '8719', '8720', '8721', '8722', '8723', '8724', '8725', '8727', '8728', '8729', '8730', '8731', '8734', '8735', '8736', '8737', '8738', '8739', '8740', '8741', '8742', '8743', '8748', '8749', '8750', '8751', '8759', '8764', '8773', '8774', '8775', '8776', '8777', '8778', '8779', '8780', '8781', '8782', '8783', '8785', '8786', '8787', '8788', '8789', '8790', '8791', '8792', '8793', '8795', '8796', '8797', '8798', '8799', '8800', '8801', '8802', '8803', '8804', '8805', '8806', '8807', '8808', '8809', '8810', '8811', '8812', '8813', '8814', '8815', '8816', '8817', '8818', '8819', '8820', '8821', '8823', '8824', '8825', '8826', '8827', '8828', '8829', '8830', '8831', '8832', '8833', '8847', '8848', '8851', '8852', '8853', '8854', '8855', '8856', '8857', '8858', '8859', '8860', '8861', '8862', '8863', '8864', '8865', '8866', '8867', '8868', '8869', '8871', '8872', '8877', '8879', '8887', '8888', '8889', '8890', '8891', '8895', '8896', '8897', '8898', '8899', '8900', '8916', '8939', '8940', '8941', '8942', '8943', '8944', '9061', '9062', '9063', '9064', '9065', '9066', '9067', '9069', '9070', '9071', '9072', '9073', '9074', '9106', '9140', '9151', '9152', '9153', '9154', '9155', '9156', '9157', '9180', '9181', '9182', '9226', '9227', '9229', '9230', '9231', '9233', '9235', '9236', '9237', '9239', '9240', '9241', '9242', '9243', '9244', '9245', '9246', '9247', '9248', '9249', '9250', '9251', '9252', '9253', '9254', '9255', '9256', '9257', '9258', '9259', '9260', '9261', '9262', '9263', '9264', '9265', '9266', '9267', '9268', '9269', '9270', '9271', '9289', '9305', '9309', '9310', '9321', '9332', '9333', '9334', '9335', '9336', '9337', '9338', '9339', '9340', '9341', '9344', '9347', '9406', '9415', '9416', '9417', '9418', '9419', '9420', '9421', '9422', '9423', '9424', '9425', '9426', '9427', '9445', '9447', '9449', '9450', '9451', '9452', '9453', '9454', '9455', '9456', '9457', '9458', '9460', '9461', '9462', '9463', '9464', '9465', '9466', '9469', '9470', '9471', '9472', '9473', '9474', '9475', '9476', '9477', '9478', '9479', '9480', '9481', '9482', '9498', '9500', '9501', '9502', '9503', '9504', '9506', '9507', '9511', '9512', '9514', '9517', '9519', '9520', '9521', '9522', '9528', '9530', '9531', '9532', '9533', '9534', '9535', '9536', '9537', '9538', '9539', '9540', '9541', '9542', '9543', '9545', '9546', '9547', '9548', '9549', '9550', '9551', '9552', '9553', '9554', '9555', '9556', '9557', '9558', '9559', '9560', '9563', '9565', '9566', '9567', '9569', '9570', '9588', '9589', '9590', '9591', '9592', '9593', '9594', '9595', '9596', '9597', '9598', '9599', '9600', '9601', '9602', '9603', '9604', '9605', '9606', '9607', '9608', '9609', '9610', '9611', '9612', '9613', '9614', '9615', '9616', '9617', '9618', '9619', '9620', '9621', '9622', '9623', '9624', '9627', '9628', '9630', '9631', '9632', '9633', '9634', '9635', '9636', '9637', '9638', '9639', '9640', '9641', '9642', '9643', '9644', '9645', '9646', '9647', '9648', '9649', '9650', '9651', '9652', '9653', '9654', '9655', '9656', '9657', '9658', '9659', '9660', '9661', '9662', '9664', '9665', '9666', '9667', '9669', '9670', '9671', '9675', '9676', '9677', '9678', '9679', '9680', '9681', '9682', '9683', '9684', '9686', '9687', '9688', '9689', '9690', '9691', '9692', '9694', '9695', '9708', '9709', '9710', '9711', '9712', '9713', '9714', '9722', '9726', '9729', '9730', '9732', '9733', '9738', '9748', '9752', '9755', '9756', '9757', '9758', '9759', '9760', '9761', '9763', '9764', '9765', '9766', '9767', '9768', '9771', '9774', '9775', '9778', '9780', '9781', '9783', '9788', '9789', '9790', '9791', '9792', '9793', '9798', '9799', '9800', '9801', '9802', '9803', '9804', '9805', '9806', '9807', '9808', '9809', '9810', '9812', '9818', '9819', '9820', '9821', '9822', '9823', '9824', '9825', '9826', '9827', '9828', '9829', '9830', '9831', '9832', '9833', '9834', '9835', '9836', '9839', '9840', '9841', '9842', '9856', '9857', '9858', '9859', '9860', '9862', '9863', '9864', '9865', '9866', '9867', '9868', '9869', '9870', '9871', '9874', '9875', '9876', '9878', '9879', '9880', '9881', '9882', '9883', '9884', '9885', '9927', '9929', '9931', '9932', '9933', '9934', '9935', '9937', '9938', '9940', '9941', '9942', '9943', '9944', '9945', '9946', '9947', '9948', '9949', '9951', '9952', '9953', '9954', '9955', '9956', '9957', '9958', '9959', '9960', '9961', '9962', '9963', '9964', '9966', '9968', '9969', '9970', '9971', '9972', '9973', '9974', '9975', '9976', '9980', '9981', '9982', '9983', '9984', '9985', '9986', '9987', '9988', '9989', '9990', '9991', '9992', '9996', '9997', '9998', '9999']\n",
      "DataFrame image names: 0        15970.jpg \n",
      "1        53759.jpg \n",
      "2         1855.jpg \n",
      "3        30805.jpg \n",
      "4        26960.jpg \n",
      "            ...    \n",
      "15396    30614.jpg \n",
      "15397    13496.jpg \n",
      "15398    12544.jpg \n",
      "15399    42234.jpg \n",
      "15400    18842.jpg \n",
      "Name: image, Length: 15401, dtype: object\n"
     ]
    }
   ],
   "source": [
    "print(\"Folder images:\", folder_images)\n",
    "print(\"DataFrame image names:\", df['image'])\n"
   ]
  },
  {
   "cell_type": "code",
   "execution_count": 14,
   "metadata": {},
   "outputs": [
    {
     "name": "stdout",
     "output_type": "stream",
     "text": [
      "Number of images in folder that match with image names in DataFrame: 15401\n"
     ]
    }
   ],
   "source": [
    "\n",
    "# Remove the file extension from the image names in DataFrame\n",
    "df['image'] = df['image'].str.split('.').str[0]\n",
    "\n",
    "# Path to your folder containing images\n",
    "folder_path = '../Datasets/44K/Images'\n",
    "\n",
    "# List all files in the folder\n",
    "folder_files = os.listdir(folder_path)\n",
    "\n",
    "# Extract just the filenames without extensions\n",
    "folder_images = [file.split('.')[0] for file in folder_files]\n",
    "\n",
    "# Count the number of matches between folder images and image names in DataFrame\n",
    "matching_images_count = sum(image_name in folder_images for image_name in df['image'])\n",
    "\n",
    "print(\"Number of images in folder that match with image names in DataFrame:\", matching_images_count)"
   ]
  },
  {
   "cell_type": "code",
   "execution_count": 15,
   "metadata": {},
   "outputs": [
    {
     "data": {
      "text/html": [
       "<div>\n",
       "<style scoped>\n",
       "    .dataframe tbody tr th:only-of-type {\n",
       "        vertical-align: middle;\n",
       "    }\n",
       "\n",
       "    .dataframe tbody tr th {\n",
       "        vertical-align: top;\n",
       "    }\n",
       "\n",
       "    .dataframe thead th {\n",
       "        text-align: right;\n",
       "    }\n",
       "</style>\n",
       "<table border=\"1\" class=\"dataframe\">\n",
       "  <thead>\n",
       "    <tr style=\"text-align: right;\">\n",
       "      <th></th>\n",
       "      <th>image</th>\n",
       "      <th>caption</th>\n",
       "      <th>caption_number</th>\n",
       "      <th>id</th>\n",
       "    </tr>\n",
       "  </thead>\n",
       "  <tbody>\n",
       "    <tr>\n",
       "      <th>0</th>\n",
       "      <td>15970</td>\n",
       "      <td>Checked Navy Blue Shirts for Men with Long Sle...</td>\n",
       "      <td>0</td>\n",
       "      <td>0</td>\n",
       "    </tr>\n",
       "    <tr>\n",
       "      <th>1</th>\n",
       "      <td>53759</td>\n",
       "      <td>Solid Grey Tshirts for Men with Short Sleeves ...</td>\n",
       "      <td>0</td>\n",
       "      <td>1</td>\n",
       "    </tr>\n",
       "    <tr>\n",
       "      <th>2</th>\n",
       "      <td>1855</td>\n",
       "      <td>Printed Grey Tshirts for Men with Short Sleeve...</td>\n",
       "      <td>0</td>\n",
       "      <td>2</td>\n",
       "    </tr>\n",
       "    <tr>\n",
       "      <th>3</th>\n",
       "      <td>30805</td>\n",
       "      <td>Striped Green Shirts for Men with Long Sleeves</td>\n",
       "      <td>0</td>\n",
       "      <td>3</td>\n",
       "    </tr>\n",
       "    <tr>\n",
       "      <th>4</th>\n",
       "      <td>26960</td>\n",
       "      <td>Solid Purple Shirts for Women with Short Sleeves</td>\n",
       "      <td>0</td>\n",
       "      <td>4</td>\n",
       "    </tr>\n",
       "  </tbody>\n",
       "</table>\n",
       "</div>"
      ],
      "text/plain": [
       "   image                                            caption  caption_number  \\\n",
       "0  15970  Checked Navy Blue Shirts for Men with Long Sle...               0   \n",
       "1  53759  Solid Grey Tshirts for Men with Short Sleeves ...               0   \n",
       "2   1855  Printed Grey Tshirts for Men with Short Sleeve...               0   \n",
       "3  30805     Striped Green Shirts for Men with Long Sleeves               0   \n",
       "4  26960   Solid Purple Shirts for Women with Short Sleeves               0   \n",
       "\n",
       "   id  \n",
       "0   0  \n",
       "1   1  \n",
       "2   2  \n",
       "3   3  \n",
       "4   4  "
      ]
     },
     "execution_count": 15,
     "metadata": {},
     "output_type": "execute_result"
    }
   ],
   "source": [
    "df.head()"
   ]
  },
  {
   "cell_type": "code",
   "execution_count": 16,
   "metadata": {},
   "outputs": [],
   "source": [
    "df.to_csv('captions.csv',index=False)"
   ]
  },
  {
   "cell_type": "code",
   "execution_count": null,
   "metadata": {},
   "outputs": [],
   "source": []
  }
 ],
 "metadata": {
  "kernelspec": {
   "display_name": "venv",
   "language": "python",
   "name": "python3"
  },
  "language_info": {
   "codemirror_mode": {
    "name": "ipython",
    "version": 3
   },
   "file_extension": ".py",
   "mimetype": "text/x-python",
   "name": "python",
   "nbconvert_exporter": "python",
   "pygments_lexer": "ipython3",
   "version": "3.10.11"
  }
 },
 "nbformat": 4,
 "nbformat_minor": 2
}
