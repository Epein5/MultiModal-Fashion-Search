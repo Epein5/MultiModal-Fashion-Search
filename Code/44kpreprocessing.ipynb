{
 "cells": [
  {
   "cell_type": "code",
   "execution_count": 23,
   "metadata": {},
   "outputs": [],
   "source": [
    "import numpy as np\n",
    "import pandas as pd \n",
    "import os\n",
    "import json"
   ]
  },
  {
   "cell_type": "code",
   "execution_count": 8,
   "metadata": {},
   "outputs": [],
   "source": [
    "df = pd.read_csv('../Datasets/fashion-dataset/styles.csv')"
   ]
  },
  {
   "cell_type": "code",
   "execution_count": 9,
   "metadata": {},
   "outputs": [
    {
     "name": "stderr",
     "output_type": "stream",
     "text": [
      "C:\\Users\\KNYpe\\AppData\\Local\\Temp\\ipykernel_22568\\2643554620.py:3: SettingWithCopyWarning: \n",
      "A value is trying to be set on a copy of a slice from a DataFrame\n",
      "\n",
      "See the caveats in the documentation: https://pandas.pydata.org/pandas-docs/stable/user_guide/indexing.html#returning-a-view-versus-a-copy\n",
      "  topwear_df.drop(columns=['subCategory'],inplace=True)\n"
     ]
    }
   ],
   "source": [
    "df.drop(columns=['uniq','hawa','hahah','haha','year','masterCategory',],inplace=True)\n",
    "topwear_df = df[df['subCategory'] == 'Topwear']\n",
    "topwear_df.drop(columns=['subCategory'],inplace=True)"
   ]
  },
  {
   "cell_type": "code",
   "execution_count": 85,
   "metadata": {},
   "outputs": [
    {
     "name": "stdout",
     "output_type": "stream",
     "text": [
      "15405\n"
     ]
    },
    {
     "data": {
      "text/html": [
       "<div>\n",
       "<style scoped>\n",
       "    .dataframe tbody tr th:only-of-type {\n",
       "        vertical-align: middle;\n",
       "    }\n",
       "\n",
       "    .dataframe tbody tr th {\n",
       "        vertical-align: top;\n",
       "    }\n",
       "\n",
       "    .dataframe thead th {\n",
       "        text-align: right;\n",
       "    }\n",
       "</style>\n",
       "<table border=\"1\" class=\"dataframe\">\n",
       "  <thead>\n",
       "    <tr style=\"text-align: right;\">\n",
       "      <th></th>\n",
       "      <th>id</th>\n",
       "      <th>concatenated</th>\n",
       "    </tr>\n",
       "  </thead>\n",
       "  <tbody>\n",
       "    <tr>\n",
       "      <th>0</th>\n",
       "      <td>15970</td>\n",
       "      <td>Navy Blue Shirts for Men</td>\n",
       "    </tr>\n",
       "    <tr>\n",
       "      <th>4</th>\n",
       "      <td>53759</td>\n",
       "      <td>Grey Tshirts for Men</td>\n",
       "    </tr>\n",
       "    <tr>\n",
       "      <th>5</th>\n",
       "      <td>1855</td>\n",
       "      <td>Grey Tshirts for Men</td>\n",
       "    </tr>\n",
       "    <tr>\n",
       "      <th>6</th>\n",
       "      <td>30805</td>\n",
       "      <td>Green Shirts for Men</td>\n",
       "    </tr>\n",
       "    <tr>\n",
       "      <th>7</th>\n",
       "      <td>26960</td>\n",
       "      <td>Purple Shirts for Women</td>\n",
       "    </tr>\n",
       "  </tbody>\n",
       "</table>\n",
       "</div>"
      ],
      "text/plain": [
       "      id              concatenated\n",
       "0  15970  Navy Blue Shirts for Men\n",
       "4  53759      Grey Tshirts for Men\n",
       "5   1855      Grey Tshirts for Men\n",
       "6  30805      Green Shirts for Men\n",
       "7  26960   Purple Shirts for Women"
      ]
     },
     "execution_count": 85,
     "metadata": {},
     "output_type": "execute_result"
    }
   ],
   "source": [
    "print(len(topwear_df))\n",
    "topwear_df.head()"
   ]
  },
  {
   "cell_type": "code",
   "execution_count": 80,
   "metadata": {},
   "outputs": [
    {
     "name": "stderr",
     "output_type": "stream",
     "text": [
      "C:\\Users\\KNYpe\\AppData\\Local\\Temp\\ipykernel_22568\\4091235029.py:1: SettingWithCopyWarning: \n",
      "A value is trying to be set on a copy of a slice from a DataFrame.\n",
      "Try using .loc[row_indexer,col_indexer] = value instead\n",
      "\n",
      "See the caveats in the documentation: https://pandas.pydata.org/pandas-docs/stable/user_guide/indexing.html#returning-a-view-versus-a-copy\n",
      "  topwear_df['concatenated'] = topwear_df['baseColour'] + ' ' + topwear_df['articleType'] + ' for ' + topwear_df['gender']\n"
     ]
    }
   ],
   "source": [
    "topwear_df['concatenated'] = topwear_df['baseColour'] + ' ' + topwear_df['articleType'] + ' for ' + topwear_df['gender']"
   ]
  },
  {
   "cell_type": "code",
   "execution_count": 84,
   "metadata": {},
   "outputs": [
    {
     "name": "stderr",
     "output_type": "stream",
     "text": [
      "C:\\Users\\KNYpe\\AppData\\Local\\Temp\\ipykernel_22568\\1897588746.py:1: SettingWithCopyWarning: \n",
      "A value is trying to be set on a copy of a slice from a DataFrame\n",
      "\n",
      "See the caveats in the documentation: https://pandas.pydata.org/pandas-docs/stable/user_guide/indexing.html#returning-a-view-versus-a-copy\n",
      "  topwear_df.drop(columns=['baseColour','articleType','gender','season','usage','productDisplayName'],inplace=True)\n"
     ]
    }
   ],
   "source": [
    "topwear_df.drop(columns=['baseColour','articleType','gender','season','usage','productDisplayName'],inplace=True)"
   ]
  },
  {
   "cell_type": "code",
   "execution_count": null,
   "metadata": {},
   "outputs": [],
   "source": []
  },
  {
   "cell_type": "code",
   "execution_count": 18,
   "metadata": {},
   "outputs": [],
   "source": [
    "# import os\n",
    "# import shutil\n",
    "\n",
    "# image_ids = topwear_df['id'].astype(str).values\n",
    "\n",
    "# # Path to the folder containing all the images\n",
    "# image_folder = \"../Datasets/fashion-dataset/styles\"\n",
    "\n",
    "# # # Path to the folder where you want to move the selected images\n",
    "# output_folder = \"../Datasets/fashion-dataset/44K/about\"\n",
    "\n",
    "# # # Create the output folder if it doesn't exist\n",
    "# os.makedirs(output_folder, exist_ok=True)\n",
    "\n",
    "# # Iterate over all the files in the image folder\n",
    "# for filename in os.listdir(image_folder):\n",
    "#     # Extract the ID from the filename\n",
    "#     image_id = filename.split('.')[0]\n",
    "#     # Check if the ID is in the list of selected IDs\n",
    "#     if image_id in image_ids:\n",
    "#         # Move the file to the output folder\n",
    "#         shutil.move(os.path.join(image_folder, filename), os.path.join(output_folder, filename))"
   ]
  },
  {
   "cell_type": "code",
   "execution_count": 22,
   "metadata": {},
   "outputs": [],
   "source": [
    "# jpg_folder = \"../Datasets/fashion-dataset/44K/Images\"\n",
    "\n",
    "# # Path to the folder containing .json files\n",
    "# json_folder = \"../Datasets/fashion-dataset/44K/about\"\n",
    "\n",
    "# # Iterate over all the files in the .json folder\n",
    "# for json_file in os.listdir(json_folder):\n",
    "#     # Extract the ID from the .json filename\n",
    "#     json_id = json_file.split('.')[0]\n",
    "#     # Check if the corresponding .jpg file exists\n",
    "#     jpg_file = os.path.join(jpg_folder, f\"{json_id}.jpg\")\n",
    "#     if not os.path.exists(jpg_file):\n",
    "#         # Delete the .json file if the corresponding .jpg file doesn't exist\n",
    "#         os.remove(os.path.join(json_folder, json_file))"
   ]
  },
  {
   "cell_type": "code",
   "execution_count": 74,
   "metadata": {},
   "outputs": [],
   "source": [
    "\n",
    "# # Path to the folder containing .json files\n",
    "# json_folder = \"../Datasets/fashion-dataset/44K/about\"\n",
    "\n",
    "\n",
    "# # Initialize lists to store data\n",
    "# json_files = []\n",
    "# patterns = []\n",
    "# sleeve_lengths = []\n",
    "# necks = []\n",
    "\n",
    "# # Iterate over all the .json files in the folder\n",
    "# for json_file in os.listdir(json_folder):\n",
    "#     # Open and load the .json file with UTF-8 encoding\n",
    "#     with open(os.path.join(json_folder, json_file), 'r', encoding='utf-8') as f:\n",
    "#         data = json.load(f)\n",
    "    \n",
    "#     # Extract the file name without the extension\n",
    "#     json_file_name = os.path.splitext(json_file)[0]\n",
    "    \n",
    "#     # Store the name of the .json file\n",
    "#     json_files.append(json_file_name)\n",
    "    \n",
    "#     # Extract pattern, sleeve length, and neck if they exist\n",
    "#     pattern = data['data']['articleAttributes'].get('Pattern', None)\n",
    "#     sleeve_length = data['data']['articleAttributes'].get('Sleeve Length', None)\n",
    "#     neck = data['data']['articleAttributes'].get('Neck', None)\n",
    "    \n",
    "#     # Append the extracted values to the lists\n",
    "#     patterns.append(pattern)\n",
    "#     sleeve_lengths.append(sleeve_length)\n",
    "#     necks.append(neck)\n",
    "\n",
    "# # Create a DataFrame from the lists\n",
    "# random = pd.DataFrame({\n",
    "#     'json_file': json_files,\n",
    "#     'Pattern': patterns,\n",
    "#     'Sleeve Length': sleeve_lengths,\n",
    "#     'Neck': necks\n",
    "# })"
   ]
  },
  {
   "cell_type": "code",
   "execution_count": null,
   "metadata": {},
   "outputs": [],
   "source": []
  }
 ],
 "metadata": {
  "kernelspec": {
   "display_name": "venv",
   "language": "python",
   "name": "python3"
  },
  "language_info": {
   "codemirror_mode": {
    "name": "ipython",
    "version": 3
   },
   "file_extension": ".py",
   "mimetype": "text/x-python",
   "name": "python",
   "nbconvert_exporter": "python",
   "pygments_lexer": "ipython3",
   "version": "3.10.11"
  }
 },
 "nbformat": 4,
 "nbformat_minor": 2
}
