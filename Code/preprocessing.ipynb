{
 "cells": [
  {
   "cell_type": "code",
   "execution_count": 17,
   "metadata": {},
   "outputs": [],
   "source": [
    "import numpy as np\n",
    "import pandas as pd \n",
    "from os.path import join as opj\n",
    "from tqdm.auto import tqdm\n",
    "from matplotlib import pyplot as plt\n",
    "import ast"
   ]
  },
  {
   "cell_type": "code",
   "execution_count": 18,
   "metadata": {},
   "outputs": [],
   "source": [
    "DATASET_DIR = \"../\""
   ]
  },
  {
   "cell_type": "code",
   "execution_count": 19,
   "metadata": {},
   "outputs": [
    {
     "name": "stderr",
     "output_type": "stream",
     "text": [
      "100%|██████████| 111189/111189 [02:23<00:00, 774.36it/s] \n"
     ]
    }
   ],
   "source": [
    "i = 0\n",
    "# read dataset\n",
    "data_df = pd.read_csv(opj(DATASET_DIR, \"dataset.csv\"), sep=\";\", encoding=\"ISO-8859-1\")\n",
    "\n",
    "for i in tqdm(list(range(len(data_df)))):\n",
    "    desc, images = data_df.iloc[i][[\"description\", \"images\"]]\n",
    "    \n",
    "    # read description and images info as lists\n",
    "    desc, images = ast.literal_eval(desc), ast.literal_eval(images)\n",
    "    data_df.loc[i, [\"description\", \"images\"]] = [desc, images]\n",
    "\n",
    "# convert str price to float price\n",
    "data_df[\"price\"] = data_df[\"price\"].str.replace(\"$\", \"\").apply(pd.to_numeric, errors='coerce')"
   ]
  },
  {
   "cell_type": "code",
   "execution_count": 50,
   "metadata": {},
   "outputs": [],
   "source": [
    "data_df.drop(columns=[\"sku\",\"price\",\"brand\",\"size\"], inplace=True)"
   ]
  },
  {
   "cell_type": "code",
   "execution_count": 51,
   "metadata": {},
   "outputs": [
    {
     "data": {
      "text/plain": [
       "111189"
      ]
     },
     "execution_count": 51,
     "metadata": {},
     "output_type": "execute_result"
    }
   ],
   "source": [
    "len(data_df)"
   ]
  },
  {
   "cell_type": "code",
   "execution_count": 70,
   "metadata": {},
   "outputs": [],
   "source": [
    "upperwear_keywords = ['sweatshirt','hoodie']\n",
    "\n",
    "# Filter the DataFrame based on the 'name' column containing any of the keywords (case-insensitive)\n",
    "upperwear_df = data_df[data_df['name'].str.lower().str.contains('|'.join(upperwear_keywords), case=False)]"
   ]
  },
  {
   "cell_type": "code",
   "execution_count": 71,
   "metadata": {},
   "outputs": [
    {
     "data": {
      "text/html": [
       "<div>\n",
       "<style scoped>\n",
       "    .dataframe tbody tr th:only-of-type {\n",
       "        vertical-align: middle;\n",
       "    }\n",
       "\n",
       "    .dataframe tbody tr th {\n",
       "        vertical-align: top;\n",
       "    }\n",
       "\n",
       "    .dataframe thead th {\n",
       "        text-align: right;\n",
       "    }\n",
       "</style>\n",
       "<table border=\"1\" class=\"dataframe\">\n",
       "  <thead>\n",
       "    <tr style=\"text-align: right;\">\n",
       "      <th></th>\n",
       "      <th>url</th>\n",
       "      <th>name</th>\n",
       "      <th>description</th>\n",
       "      <th>images</th>\n",
       "    </tr>\n",
       "  </thead>\n",
       "  <tbody>\n",
       "    <tr>\n",
       "      <th>132</th>\n",
       "      <td>https://us.shein.com/ROMWE-X-POMOi-Slogan-Skel...</td>\n",
       "      <td>ROMWE X POMOi Slogan Skeleton Graphic Sweatshirt</td>\n",
       "      <td>[{'Color': 'White'}, {'Style': 'Casual'}, {'Pa...</td>\n",
       "      <td>[https://storage.yandexcloud.net/clothes-and-w...</td>\n",
       "    </tr>\n",
       "  </tbody>\n",
       "</table>\n",
       "</div>"
      ],
      "text/plain": [
       "                                                   url  \\\n",
       "132  https://us.shein.com/ROMWE-X-POMOi-Slogan-Skel...   \n",
       "\n",
       "                                                 name  \\\n",
       "132  ROMWE X POMOi Slogan Skeleton Graphic Sweatshirt   \n",
       "\n",
       "                                           description  \\\n",
       "132  [{'Color': 'White'}, {'Style': 'Casual'}, {'Pa...   \n",
       "\n",
       "                                                images  \n",
       "132  [https://storage.yandexcloud.net/clothes-and-w...  "
      ]
     },
     "execution_count": 71,
     "metadata": {},
     "output_type": "execute_result"
    }
   ],
   "source": [
    "upperwear_df.head(1)"
   ]
  },
  {
   "cell_type": "code",
   "execution_count": 72,
   "metadata": {},
   "outputs": [
    {
     "data": {
      "text/plain": [
       "1081"
      ]
     },
     "execution_count": 72,
     "metadata": {},
     "output_type": "execute_result"
    }
   ],
   "source": [
    "len(upperwear_df)"
   ]
  },
  {
   "cell_type": "code",
   "execution_count": 75,
   "metadata": {},
   "outputs": [
    {
     "name": "stdout",
     "output_type": "stream",
     "text": [
      "https://us.shein.com/Slogan-Graphic-Kangaroo-Pocket-Drawstring-Thermal-Hoodie-p-12690511-cat-1773.html?mallCode=1\n",
      "Slogan Graphic Kangaroo Pocket Drawstring Thermal Hoodie\n",
      "[{'Color': 'Black'}, {'Style': 'Casual'}, {'Pattern Type': 'Slogan'}, {'Details': 'Drawstring, Pocket'}, {'Type': 'Pullovers'}, {'Neckline': 'Hooded'}, {'Sleeve Length': 'Long Sleeve'}, {'Sleeve Type': 'Regular Sleeve'}, {'Length': 'Regular'}, {'Fit Type': 'Regular Fit'}, {'Fabric': 'Slight Stretch'}, {'Material': 'Fabric'}, {'Composition': '95% Polyester, 5% Spandex'}, {'Care Instructions': 'Hand wash or professional dry clean'}, {'Sheer': 'No'}]\n",
      "['https://storage.yandexcloud.net/clothes-and-wildberries/clothes-parsing-dataset/shein/2022/08/02/1659434131ef9b635f61b5e4c967e27327ecf78bcf_thumbnail_600x.webp', 'https://storage.yandexcloud.net/clothes-and-wildberries/clothes-parsing-dataset/shein/2023/01/04/1672825293710c58c47d35030e5a9091cf510b22d9_thumbnail_600x.webp', 'https://storage.yandexcloud.net/clothes-and-wildberries/clothes-parsing-dataset/shein/2022/08/26/1661487759fb998c386cee952cf4b575c902e3f87e_thumbnail_600x.webp', 'https://storage.yandexcloud.net/clothes-and-wildberries/clothes-parsing-dataset/shein/2023/01/04/16728252941a15613767adf88695de0d40ad3157b4_thumbnail_600x.webp', 'https://storage.yandexcloud.net/clothes-and-wildberries/clothes-parsing-dataset/shein/2022/06/20/1655702606f778c16460afa2402c46638960e86841_thumbnail_600x.webp', 'https://storage.yandexcloud.net/clothes-and-wildberries/clothes-parsing-dataset/shein/2022/08/26/16614877622d4aa1c421a4e3a864d29f929ff3190a_thumbnail_600x.webp', 'https://storage.yandexcloud.net/clothes-and-wildberries/clothes-parsing-dataset/shein/2022/08/02/1659434131ef9b635f61b5e4c967e27327ecf78bcf_thumbnail_600x.webp', 'https://storage.yandexcloud.net/clothes-and-wildberries/clothes-parsing-dataset/shein/2023/01/04/1672825293710c58c47d35030e5a9091cf510b22d9_thumbnail_600x.webp']\n"
     ]
    }
   ],
   "source": [
    "a = upperwear_df.iloc[10]\n",
    "for i in a:\n",
    "    print(i)"
   ]
  },
  {
   "cell_type": "code",
   "execution_count": null,
   "metadata": {},
   "outputs": [],
   "source": []
  },
  {
   "cell_type": "code",
   "execution_count": null,
   "metadata": {},
   "outputs": [],
   "source": []
  }
 ],
 "metadata": {
  "kernelspec": {
   "display_name": "venv",
   "language": "python",
   "name": "python3"
  },
  "language_info": {
   "codemirror_mode": {
    "name": "ipython",
    "version": 3
   },
   "file_extension": ".py",
   "mimetype": "text/x-python",
   "name": "python",
   "nbconvert_exporter": "python",
   "pygments_lexer": "ipython3",
   "version": "3.10.11"
  }
 },
 "nbformat": 4,
 "nbformat_minor": 2
}
