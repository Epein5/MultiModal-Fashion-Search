{
 "cells": [
  {
   "cell_type": "code",
   "execution_count": 1,
   "metadata": {},
   "outputs": [
    {
     "name": "stderr",
     "output_type": "stream",
     "text": [
      "c:\\Users\\KNYpe\\Desktop\\MultiModal-Fashion-Search\\venv\\lib\\site-packages\\tqdm\\auto.py:21: TqdmWarning: IProgress not found. Please update jupyter and ipywidgets. See https://ipywidgets.readthedocs.io/en/stable/user_install.html\n",
      "  from .autonotebook import tqdm as notebook_tqdm\n"
     ]
    }
   ],
   "source": [
    "import numpy as np\n",
    "import pandas as pd \n",
    "from os.path import join as opj\n",
    "from tqdm.auto import tqdm\n",
    "from matplotlib import pyplot as plt\n",
    "import ast"
   ]
  },
  {
   "cell_type": "code",
   "execution_count": 2,
   "metadata": {},
   "outputs": [],
   "source": [
    "DATASET_DIR = \"../\""
   ]
  },
  {
   "cell_type": "code",
   "execution_count": 3,
   "metadata": {},
   "outputs": [
    {
     "name": "stderr",
     "output_type": "stream",
     "text": [
      "100%|██████████| 111189/111189 [02:04<00:00, 895.54it/s] \n"
     ]
    }
   ],
   "source": [
    "i = 0\n",
    "# read dataset\n",
    "data_df = pd.read_csv(opj(DATASET_DIR, \"dataset.csv\"), sep=\";\", encoding=\"ISO-8859-1\")\n",
    "\n",
    "for i in tqdm(list(range(len(data_df)))):\n",
    "    desc, images = data_df.iloc[i][[\"description\", \"images\"]]\n",
    "    \n",
    "    # read description and images info as lists\n",
    "    desc, images = ast.literal_eval(desc), ast.literal_eval(images)\n",
    "    data_df.loc[i, [\"description\", \"images\"]] = [desc, images]\n",
    "\n",
    "# convert str price to float price\n",
    "data_df[\"price\"] = data_df[\"price\"].str.replace(\"$\", \"\").apply(pd.to_numeric, errors='coerce')"
   ]
  },
  {
   "cell_type": "code",
   "execution_count": 4,
   "metadata": {},
   "outputs": [],
   "source": [
    "data_df.drop(columns=[\"sku\",\"price\",\"brand\",\"size\"], inplace=True)"
   ]
  },
  {
   "cell_type": "code",
   "execution_count": 71,
   "metadata": {},
   "outputs": [
    {
     "data": {
      "text/plain": [
       "111189"
      ]
     },
     "execution_count": 71,
     "metadata": {},
     "output_type": "execute_result"
    }
   ],
   "source": [
    "len(data_df)"
   ]
  },
  {
   "cell_type": "code",
   "execution_count": 72,
   "metadata": {},
   "outputs": [],
   "source": [
    "upperwear_keywords = ['sweatshirt','hoodie','shirt']\n",
    "\n",
    "# Filter the DataFrame based on the 'name' column containing any of the keywords (case-insensitive)\n",
    "upperwear_df = data_df[data_df['name'].str.lower().str.contains('|'.join(upperwear_keywords), case=False)]"
   ]
  },
  {
   "cell_type": "code",
   "execution_count": 73,
   "metadata": {},
   "outputs": [
    {
     "data": {
      "text/html": [
       "<div>\n",
       "<style scoped>\n",
       "    .dataframe tbody tr th:only-of-type {\n",
       "        vertical-align: middle;\n",
       "    }\n",
       "\n",
       "    .dataframe tbody tr th {\n",
       "        vertical-align: top;\n",
       "    }\n",
       "\n",
       "    .dataframe thead th {\n",
       "        text-align: right;\n",
       "    }\n",
       "</style>\n",
       "<table border=\"1\" class=\"dataframe\">\n",
       "  <thead>\n",
       "    <tr style=\"text-align: right;\">\n",
       "      <th></th>\n",
       "      <th>url</th>\n",
       "      <th>name</th>\n",
       "      <th>description</th>\n",
       "      <th>images</th>\n",
       "    </tr>\n",
       "  </thead>\n",
       "  <tbody>\n",
       "    <tr>\n",
       "      <th>132</th>\n",
       "      <td>https://us.shein.com/ROMWE-X-POMOi-Slogan-Skel...</td>\n",
       "      <td>ROMWE X POMOi Slogan Skeleton Graphic Sweatshirt</td>\n",
       "      <td>[{'Color': 'White'}, {'Style': 'Casual'}, {'Pa...</td>\n",
       "      <td>[https://storage.yandexcloud.net/clothes-and-w...</td>\n",
       "    </tr>\n",
       "  </tbody>\n",
       "</table>\n",
       "</div>"
      ],
      "text/plain": [
       "                                                   url  \\\n",
       "132  https://us.shein.com/ROMWE-X-POMOi-Slogan-Skel...   \n",
       "\n",
       "                                                 name  \\\n",
       "132  ROMWE X POMOi Slogan Skeleton Graphic Sweatshirt   \n",
       "\n",
       "                                           description  \\\n",
       "132  [{'Color': 'White'}, {'Style': 'Casual'}, {'Pa...   \n",
       "\n",
       "                                                images  \n",
       "132  [https://storage.yandexcloud.net/clothes-and-w...  "
      ]
     },
     "execution_count": 73,
     "metadata": {},
     "output_type": "execute_result"
    }
   ],
   "source": [
    "upperwear_df.head(1)"
   ]
  },
  {
   "cell_type": "code",
   "execution_count": 74,
   "metadata": {},
   "outputs": [
    {
     "data": {
      "text/plain": [
       "3788"
      ]
     },
     "execution_count": 74,
     "metadata": {},
     "output_type": "execute_result"
    }
   ],
   "source": [
    "len(upperwear_df)"
   ]
  },
  {
   "cell_type": "code",
   "execution_count": 75,
   "metadata": {},
   "outputs": [
    {
     "name": "stdout",
     "output_type": "stream",
     "text": [
      "{'Color': 'White', 'Style': 'Casual', 'Pattern Type': 'Letter, Halloween', 'Type': 'Pullovers', 'Neckline': 'Round Neck', 'Sleeve Length': 'Long Sleeve', 'Sleeve Type': 'Regular Sleeve', 'Length': 'Regular', 'Fit Type': 'Regular Fit', 'Fabric': 'Slight Stretch', 'Material': 'Knitted Fabric', 'Composition': '95% Polyester, 5% Elastane', 'Care Instructions': 'Machine wash, do not dry clean', 'Sheer': 'No'}\n"
     ]
    }
   ],
   "source": [
    "def merge_dicts(list_of_dicts):\n",
    "    result = {}\n",
    "    for d in list_of_dicts:\n",
    "        result.update(d)\n",
    "    return result\n",
    "\n",
    "data = [{'Color': 'White'}, {'Style': 'Casual'}, {'Pattern Type': 'Letter, Halloween'}, {'Type': 'Pullovers'}, {'Neckline': 'Round Neck'}, {'Sleeve Length': 'Long Sleeve'}, {'Sleeve Type': 'Regular Sleeve'}, {'Length': 'Regular'}, {'Fit Type': 'Regular Fit'}, {'Fabric': 'Slight Stretch'}, {'Material': 'Knitted Fabric'}, {'Composition': '95% Polyester, 5% Elastane'}, {'Care Instructions': 'Machine wash, do not dry clean'}, {'Sheer': 'No'}]\n",
    "\n",
    "merged_dict = merge_dicts(data)\n",
    "print(merged_dict)\n"
   ]
  },
  {
   "cell_type": "code",
   "execution_count": 76,
   "metadata": {},
   "outputs": [
    {
     "name": "stderr",
     "output_type": "stream",
     "text": [
      "C:\\Users\\KNYpe\\AppData\\Local\\Temp\\ipykernel_10864\\1090124941.py:1: SettingWithCopyWarning: \n",
      "A value is trying to be set on a copy of a slice from a DataFrame.\n",
      "Try using .loc[row_indexer,col_indexer] = value instead\n",
      "\n",
      "See the caveats in the documentation: https://pandas.pydata.org/pandas-docs/stable/user_guide/indexing.html#returning-a-view-versus-a-copy\n",
      "  upperwear_df['description'] = upperwear_df['description'].apply(merge_dicts)\n"
     ]
    },
    {
     "data": {
      "text/html": [
       "<div>\n",
       "<style scoped>\n",
       "    .dataframe tbody tr th:only-of-type {\n",
       "        vertical-align: middle;\n",
       "    }\n",
       "\n",
       "    .dataframe tbody tr th {\n",
       "        vertical-align: top;\n",
       "    }\n",
       "\n",
       "    .dataframe thead th {\n",
       "        text-align: right;\n",
       "    }\n",
       "</style>\n",
       "<table border=\"1\" class=\"dataframe\">\n",
       "  <thead>\n",
       "    <tr style=\"text-align: right;\">\n",
       "      <th></th>\n",
       "      <th>url</th>\n",
       "      <th>name</th>\n",
       "      <th>description</th>\n",
       "      <th>images</th>\n",
       "    </tr>\n",
       "  </thead>\n",
       "  <tbody>\n",
       "    <tr>\n",
       "      <th>132</th>\n",
       "      <td>https://us.shein.com/ROMWE-X-POMOi-Slogan-Skel...</td>\n",
       "      <td>ROMWE X POMOi Slogan Skeleton Graphic Sweatshirt</td>\n",
       "      <td>{'Color': 'White', 'Style': 'Casual', 'Pattern...</td>\n",
       "      <td>[https://storage.yandexcloud.net/clothes-and-w...</td>\n",
       "    </tr>\n",
       "    <tr>\n",
       "      <th>279</th>\n",
       "      <td>https://us.shein.com/Oil-Painting-Slogan-Graph...</td>\n",
       "      <td>Oil Painting &amp; Slogan Graphic Drawstring Therm...</td>\n",
       "      <td>{'Color': 'Apricot', 'Style': 'Casual', 'Patte...</td>\n",
       "      <td>[https://storage.yandexcloud.net/clothes-and-w...</td>\n",
       "    </tr>\n",
       "    <tr>\n",
       "      <th>299</th>\n",
       "      <td>https://us.shein.com/Letter-Graphic-Kangaroo-P...</td>\n",
       "      <td>Letter Graphic Kangaroo Pocket Drawstring Ther...</td>\n",
       "      <td>{'Color': 'Black', 'Style': 'Casual', 'Pattern...</td>\n",
       "      <td>[https://storage.yandexcloud.net/clothes-and-w...</td>\n",
       "    </tr>\n",
       "    <tr>\n",
       "      <th>320</th>\n",
       "      <td>https://us.shein.com/Cartoon-Graphic-Thermal-L...</td>\n",
       "      <td>Cartoon Graphic Thermal Lined Sweatshirt</td>\n",
       "      <td>{'Color': 'Baby Pink', 'Style': 'Casual', 'Pat...</td>\n",
       "      <td>[https://storage.yandexcloud.net/clothes-and-w...</td>\n",
       "    </tr>\n",
       "    <tr>\n",
       "      <th>331</th>\n",
       "      <td>https://us.shein.com/Letter-Graphic-Drop-Shoul...</td>\n",
       "      <td>Letter Graphic Drop Shoulder Thermal Sweatshirt</td>\n",
       "      <td>{'Color': 'White', 'Style': 'Casual', 'Pattern...</td>\n",
       "      <td>[https://storage.yandexcloud.net/clothes-and-w...</td>\n",
       "    </tr>\n",
       "  </tbody>\n",
       "</table>\n",
       "</div>"
      ],
      "text/plain": [
       "                                                   url  \\\n",
       "132  https://us.shein.com/ROMWE-X-POMOi-Slogan-Skel...   \n",
       "279  https://us.shein.com/Oil-Painting-Slogan-Graph...   \n",
       "299  https://us.shein.com/Letter-Graphic-Kangaroo-P...   \n",
       "320  https://us.shein.com/Cartoon-Graphic-Thermal-L...   \n",
       "331  https://us.shein.com/Letter-Graphic-Drop-Shoul...   \n",
       "\n",
       "                                                  name  \\\n",
       "132   ROMWE X POMOi Slogan Skeleton Graphic Sweatshirt   \n",
       "279  Oil Painting & Slogan Graphic Drawstring Therm...   \n",
       "299  Letter Graphic Kangaroo Pocket Drawstring Ther...   \n",
       "320           Cartoon Graphic Thermal Lined Sweatshirt   \n",
       "331    Letter Graphic Drop Shoulder Thermal Sweatshirt   \n",
       "\n",
       "                                           description  \\\n",
       "132  {'Color': 'White', 'Style': 'Casual', 'Pattern...   \n",
       "279  {'Color': 'Apricot', 'Style': 'Casual', 'Patte...   \n",
       "299  {'Color': 'Black', 'Style': 'Casual', 'Pattern...   \n",
       "320  {'Color': 'Baby Pink', 'Style': 'Casual', 'Pat...   \n",
       "331  {'Color': 'White', 'Style': 'Casual', 'Pattern...   \n",
       "\n",
       "                                                images  \n",
       "132  [https://storage.yandexcloud.net/clothes-and-w...  \n",
       "279  [https://storage.yandexcloud.net/clothes-and-w...  \n",
       "299  [https://storage.yandexcloud.net/clothes-and-w...  \n",
       "320  [https://storage.yandexcloud.net/clothes-and-w...  \n",
       "331  [https://storage.yandexcloud.net/clothes-and-w...  "
      ]
     },
     "execution_count": 76,
     "metadata": {},
     "output_type": "execute_result"
    }
   ],
   "source": [
    "upperwear_df['description'] = upperwear_df['description'].apply(merge_dicts)\n",
    "upperwear_df.head()"
   ]
  },
  {
   "cell_type": "code",
   "execution_count": 77,
   "metadata": {},
   "outputs": [
    {
     "name": "stderr",
     "output_type": "stream",
     "text": [
      "C:\\Users\\KNYpe\\AppData\\Local\\Temp\\ipykernel_10864\\1480333245.py:4: SettingWithCopyWarning: \n",
      "A value is trying to be set on a copy of a slice from a DataFrame.\n",
      "Try using .loc[row_indexer,col_indexer] = value instead\n",
      "\n",
      "See the caveats in the documentation: https://pandas.pydata.org/pandas-docs/stable/user_guide/indexing.html#returning-a-view-versus-a-copy\n",
      "  df[col] = df['description'].apply(lambda x: x.get(col))\n",
      "C:\\Users\\KNYpe\\AppData\\Local\\Temp\\ipykernel_10864\\1480333245.py:4: SettingWithCopyWarning: \n",
      "A value is trying to be set on a copy of a slice from a DataFrame.\n",
      "Try using .loc[row_indexer,col_indexer] = value instead\n",
      "\n",
      "See the caveats in the documentation: https://pandas.pydata.org/pandas-docs/stable/user_guide/indexing.html#returning-a-view-versus-a-copy\n",
      "  df[col] = df['description'].apply(lambda x: x.get(col))\n",
      "C:\\Users\\KNYpe\\AppData\\Local\\Temp\\ipykernel_10864\\1480333245.py:4: SettingWithCopyWarning: \n",
      "A value is trying to be set on a copy of a slice from a DataFrame.\n",
      "Try using .loc[row_indexer,col_indexer] = value instead\n",
      "\n",
      "See the caveats in the documentation: https://pandas.pydata.org/pandas-docs/stable/user_guide/indexing.html#returning-a-view-versus-a-copy\n",
      "  df[col] = df['description'].apply(lambda x: x.get(col))\n",
      "C:\\Users\\KNYpe\\AppData\\Local\\Temp\\ipykernel_10864\\1480333245.py:4: SettingWithCopyWarning: \n",
      "A value is trying to be set on a copy of a slice from a DataFrame.\n",
      "Try using .loc[row_indexer,col_indexer] = value instead\n",
      "\n",
      "See the caveats in the documentation: https://pandas.pydata.org/pandas-docs/stable/user_guide/indexing.html#returning-a-view-versus-a-copy\n",
      "  df[col] = df['description'].apply(lambda x: x.get(col))\n",
      "C:\\Users\\KNYpe\\AppData\\Local\\Temp\\ipykernel_10864\\1480333245.py:4: SettingWithCopyWarning: \n",
      "A value is trying to be set on a copy of a slice from a DataFrame.\n",
      "Try using .loc[row_indexer,col_indexer] = value instead\n",
      "\n",
      "See the caveats in the documentation: https://pandas.pydata.org/pandas-docs/stable/user_guide/indexing.html#returning-a-view-versus-a-copy\n",
      "  df[col] = df['description'].apply(lambda x: x.get(col))\n",
      "C:\\Users\\KNYpe\\AppData\\Local\\Temp\\ipykernel_10864\\1480333245.py:4: SettingWithCopyWarning: \n",
      "A value is trying to be set on a copy of a slice from a DataFrame.\n",
      "Try using .loc[row_indexer,col_indexer] = value instead\n",
      "\n",
      "See the caveats in the documentation: https://pandas.pydata.org/pandas-docs/stable/user_guide/indexing.html#returning-a-view-versus-a-copy\n",
      "  df[col] = df['description'].apply(lambda x: x.get(col))\n",
      "C:\\Users\\KNYpe\\AppData\\Local\\Temp\\ipykernel_10864\\1480333245.py:4: SettingWithCopyWarning: \n",
      "A value is trying to be set on a copy of a slice from a DataFrame.\n",
      "Try using .loc[row_indexer,col_indexer] = value instead\n",
      "\n",
      "See the caveats in the documentation: https://pandas.pydata.org/pandas-docs/stable/user_guide/indexing.html#returning-a-view-versus-a-copy\n",
      "  df[col] = df['description'].apply(lambda x: x.get(col))\n",
      "C:\\Users\\KNYpe\\AppData\\Local\\Temp\\ipykernel_10864\\1480333245.py:4: SettingWithCopyWarning: \n",
      "A value is trying to be set on a copy of a slice from a DataFrame.\n",
      "Try using .loc[row_indexer,col_indexer] = value instead\n",
      "\n",
      "See the caveats in the documentation: https://pandas.pydata.org/pandas-docs/stable/user_guide/indexing.html#returning-a-view-versus-a-copy\n",
      "  df[col] = df['description'].apply(lambda x: x.get(col))\n",
      "C:\\Users\\KNYpe\\AppData\\Local\\Temp\\ipykernel_10864\\1480333245.py:4: SettingWithCopyWarning: \n",
      "A value is trying to be set on a copy of a slice from a DataFrame.\n",
      "Try using .loc[row_indexer,col_indexer] = value instead\n",
      "\n",
      "See the caveats in the documentation: https://pandas.pydata.org/pandas-docs/stable/user_guide/indexing.html#returning-a-view-versus-a-copy\n",
      "  df[col] = df['description'].apply(lambda x: x.get(col))\n",
      "C:\\Users\\KNYpe\\AppData\\Local\\Temp\\ipykernel_10864\\1480333245.py:4: SettingWithCopyWarning: \n",
      "A value is trying to be set on a copy of a slice from a DataFrame.\n",
      "Try using .loc[row_indexer,col_indexer] = value instead\n",
      "\n",
      "See the caveats in the documentation: https://pandas.pydata.org/pandas-docs/stable/user_guide/indexing.html#returning-a-view-versus-a-copy\n",
      "  df[col] = df['description'].apply(lambda x: x.get(col))\n",
      "C:\\Users\\KNYpe\\AppData\\Local\\Temp\\ipykernel_10864\\1480333245.py:4: SettingWithCopyWarning: \n",
      "A value is trying to be set on a copy of a slice from a DataFrame.\n",
      "Try using .loc[row_indexer,col_indexer] = value instead\n",
      "\n",
      "See the caveats in the documentation: https://pandas.pydata.org/pandas-docs/stable/user_guide/indexing.html#returning-a-view-versus-a-copy\n",
      "  df[col] = df['description'].apply(lambda x: x.get(col))\n",
      "C:\\Users\\KNYpe\\AppData\\Local\\Temp\\ipykernel_10864\\1480333245.py:4: SettingWithCopyWarning: \n",
      "A value is trying to be set on a copy of a slice from a DataFrame.\n",
      "Try using .loc[row_indexer,col_indexer] = value instead\n",
      "\n",
      "See the caveats in the documentation: https://pandas.pydata.org/pandas-docs/stable/user_guide/indexing.html#returning-a-view-versus-a-copy\n",
      "  df[col] = df['description'].apply(lambda x: x.get(col))\n",
      "C:\\Users\\KNYpe\\AppData\\Local\\Temp\\ipykernel_10864\\1480333245.py:4: SettingWithCopyWarning: \n",
      "A value is trying to be set on a copy of a slice from a DataFrame.\n",
      "Try using .loc[row_indexer,col_indexer] = value instead\n",
      "\n",
      "See the caveats in the documentation: https://pandas.pydata.org/pandas-docs/stable/user_guide/indexing.html#returning-a-view-versus-a-copy\n",
      "  df[col] = df['description'].apply(lambda x: x.get(col))\n",
      "C:\\Users\\KNYpe\\AppData\\Local\\Temp\\ipykernel_10864\\1480333245.py:4: SettingWithCopyWarning: \n",
      "A value is trying to be set on a copy of a slice from a DataFrame.\n",
      "Try using .loc[row_indexer,col_indexer] = value instead\n",
      "\n",
      "See the caveats in the documentation: https://pandas.pydata.org/pandas-docs/stable/user_guide/indexing.html#returning-a-view-versus-a-copy\n",
      "  df[col] = df['description'].apply(lambda x: x.get(col))\n",
      "C:\\Users\\KNYpe\\AppData\\Local\\Temp\\ipykernel_10864\\1480333245.py:5: SettingWithCopyWarning: \n",
      "A value is trying to be set on a copy of a slice from a DataFrame\n",
      "\n",
      "See the caveats in the documentation: https://pandas.pydata.org/pandas-docs/stable/user_guide/indexing.html#returning-a-view-versus-a-copy\n",
      "  df.drop(columns=['description'], inplace=True)\n",
      "C:\\Users\\KNYpe\\AppData\\Local\\Temp\\ipykernel_10864\\1480333245.py:9: SettingWithCopyWarning: \n",
      "A value is trying to be set on a copy of a slice from a DataFrame\n",
      "\n",
      "See the caveats in the documentation: https://pandas.pydata.org/pandas-docs/stable/user_guide/indexing.html#returning-a-view-versus-a-copy\n",
      "  upperwear_df.drop(columns=['Style','Pattern Type','Length','Type','Fit Type','Fabric','Material','Composition','Care Instructions','Sheer'], inplace=True)\n"
     ]
    }
   ],
   "source": [
    "#expand the description column into multiple columns\n",
    "def expand_description(df):\n",
    "    for col in df['description'].iloc[0].keys():\n",
    "        df[col] = df['description'].apply(lambda x: x.get(col))\n",
    "    df.drop(columns=['description'], inplace=True)\n",
    "\n",
    "# Expand description column\n",
    "expand_description(upperwear_df)\n",
    "upperwear_df.drop(columns=['Style','Pattern Type','Length','Type','Fit Type','Fabric','Material','Composition','Care Instructions','Sheer'], inplace=True)"
   ]
  },
  {
   "cell_type": "code",
   "execution_count": 78,
   "metadata": {},
   "outputs": [
    {
     "name": "stderr",
     "output_type": "stream",
     "text": [
      "C:\\Users\\KNYpe\\AppData\\Local\\Temp\\ipykernel_10864\\2512137812.py:12: SettingWithCopyWarning: \n",
      "A value is trying to be set on a copy of a slice from a DataFrame.\n",
      "Try using .loc[row_indexer,col_indexer] = value instead\n",
      "\n",
      "See the caveats in the documentation: https://pandas.pydata.org/pandas-docs/stable/user_guide/indexing.html#returning-a-view-versus-a-copy\n",
      "  upperwear_df['Keyword'] = upperwear_df['name'].apply(extract_keyword)\n"
     ]
    }
   ],
   "source": [
    "# Define keywords for keyword extraction from names\n",
    "keywords = ['sweatshirt', 't-shirt', 'shirt', 'hoodie']\n",
    "\n",
    "# Function to extract keyword\n",
    "def extract_keyword(name):\n",
    "    for keyword in keywords:\n",
    "        if keyword in name.lower():\n",
    "            return keyword\n",
    "    return None\n",
    "\n",
    "# Create new column based on keyword extraction\n",
    "upperwear_df['Keyword'] = upperwear_df['name'].apply(extract_keyword)\n"
   ]
  },
  {
   "cell_type": "code",
   "execution_count": 79,
   "metadata": {},
   "outputs": [
    {
     "name": "stderr",
     "output_type": "stream",
     "text": [
      "C:\\Users\\KNYpe\\AppData\\Local\\Temp\\ipykernel_10864\\2481988733.py:1: SettingWithCopyWarning: \n",
      "A value is trying to be set on a copy of a slice from a DataFrame\n",
      "\n",
      "See the caveats in the documentation: https://pandas.pydata.org/pandas-docs/stable/user_guide/indexing.html#returning-a-view-versus-a-copy\n",
      "  upperwear_df.drop('name',inplace=True ,axis=1)\n"
     ]
    }
   ],
   "source": [
    "upperwear_df.drop('name',inplace=True ,axis=1)"
   ]
  },
  {
   "cell_type": "code",
   "execution_count": 88,
   "metadata": {},
   "outputs": [
    {
     "name": "stderr",
     "output_type": "stream",
     "text": [
      "C:\\Users\\KNYpe\\AppData\\Local\\Temp\\ipykernel_10864\\149994189.py:1: SettingWithCopyWarning: \n",
      "A value is trying to be set on a copy of a slice from a DataFrame.\n",
      "Try using .loc[row_indexer,col_indexer] = value instead\n",
      "\n",
      "See the caveats in the documentation: https://pandas.pydata.org/pandas-docs/stable/user_guide/indexing.html#returning-a-view-versus-a-copy\n",
      "  upperwear_df['Sleeve Type'] = upperwear_df['Sleeve Type'].where(upperwear_df['Sleeve Type'] != 'Regular Sleeve', None)\n",
      "C:\\Users\\KNYpe\\AppData\\Local\\Temp\\ipykernel_10864\\149994189.py:3: SettingWithCopyWarning: \n",
      "A value is trying to be set on a copy of a slice from a DataFrame.\n",
      "Try using .loc[row_indexer,col_indexer] = value instead\n",
      "\n",
      "See the caveats in the documentation: https://pandas.pydata.org/pandas-docs/stable/user_guide/indexing.html#returning-a-view-versus-a-copy\n",
      "  upperwear_df['Neckline'] = upperwear_df['Neckline'].where(upperwear_df['Neckline'] != 'Hooded', None)\n"
     ]
    }
   ],
   "source": [
    "upperwear_df['Sleeve Type'] = upperwear_df['Sleeve Type'].where(upperwear_df['Sleeve Type'] != 'Regular Sleeve', None)\n",
    "\n",
    "upperwear_df['Neckline'] = upperwear_df['Neckline'].where(upperwear_df['Neckline'] != 'Hooded', None)\n"
   ]
  },
  {
   "cell_type": "code",
   "execution_count": 90,
   "metadata": {},
   "outputs": [
    {
     "data": {
      "text/html": [
       "<div>\n",
       "<style scoped>\n",
       "    .dataframe tbody tr th:only-of-type {\n",
       "        vertical-align: middle;\n",
       "    }\n",
       "\n",
       "    .dataframe tbody tr th {\n",
       "        vertical-align: top;\n",
       "    }\n",
       "\n",
       "    .dataframe thead th {\n",
       "        text-align: right;\n",
       "    }\n",
       "</style>\n",
       "<table border=\"1\" class=\"dataframe\">\n",
       "  <thead>\n",
       "    <tr style=\"text-align: right;\">\n",
       "      <th></th>\n",
       "      <th>url</th>\n",
       "      <th>images</th>\n",
       "      <th>Color</th>\n",
       "      <th>Neckline</th>\n",
       "      <th>Sleeve Length</th>\n",
       "      <th>Sleeve Type</th>\n",
       "      <th>Keyword</th>\n",
       "    </tr>\n",
       "  </thead>\n",
       "  <tbody>\n",
       "    <tr>\n",
       "      <th>132</th>\n",
       "      <td>https://us.shein.com/ROMWE-X-POMOi-Slogan-Skel...</td>\n",
       "      <td>[https://storage.yandexcloud.net/clothes-and-w...</td>\n",
       "      <td>White</td>\n",
       "      <td>Round Neck</td>\n",
       "      <td>Long Sleeve</td>\n",
       "      <td>None</td>\n",
       "      <td>sweatshirt</td>\n",
       "    </tr>\n",
       "    <tr>\n",
       "      <th>279</th>\n",
       "      <td>https://us.shein.com/Oil-Painting-Slogan-Graph...</td>\n",
       "      <td>[https://storage.yandexcloud.net/clothes-and-w...</td>\n",
       "      <td>Apricot</td>\n",
       "      <td>None</td>\n",
       "      <td>Long Sleeve</td>\n",
       "      <td>None</td>\n",
       "      <td>hoodie</td>\n",
       "    </tr>\n",
       "    <tr>\n",
       "      <th>299</th>\n",
       "      <td>https://us.shein.com/Letter-Graphic-Kangaroo-P...</td>\n",
       "      <td>[https://storage.yandexcloud.net/clothes-and-w...</td>\n",
       "      <td>Black</td>\n",
       "      <td>None</td>\n",
       "      <td>Long Sleeve</td>\n",
       "      <td>Drop Shoulder</td>\n",
       "      <td>hoodie</td>\n",
       "    </tr>\n",
       "    <tr>\n",
       "      <th>320</th>\n",
       "      <td>https://us.shein.com/Cartoon-Graphic-Thermal-L...</td>\n",
       "      <td>[https://storage.yandexcloud.net/clothes-and-w...</td>\n",
       "      <td>Baby Pink</td>\n",
       "      <td>Round Neck</td>\n",
       "      <td>Long Sleeve</td>\n",
       "      <td>Drop Shoulder</td>\n",
       "      <td>sweatshirt</td>\n",
       "    </tr>\n",
       "    <tr>\n",
       "      <th>331</th>\n",
       "      <td>https://us.shein.com/Letter-Graphic-Drop-Shoul...</td>\n",
       "      <td>[https://storage.yandexcloud.net/clothes-and-w...</td>\n",
       "      <td>White</td>\n",
       "      <td>Round Neck</td>\n",
       "      <td>Long Sleeve</td>\n",
       "      <td>None</td>\n",
       "      <td>sweatshirt</td>\n",
       "    </tr>\n",
       "  </tbody>\n",
       "</table>\n",
       "</div>"
      ],
      "text/plain": [
       "                                                   url  \\\n",
       "132  https://us.shein.com/ROMWE-X-POMOi-Slogan-Skel...   \n",
       "279  https://us.shein.com/Oil-Painting-Slogan-Graph...   \n",
       "299  https://us.shein.com/Letter-Graphic-Kangaroo-P...   \n",
       "320  https://us.shein.com/Cartoon-Graphic-Thermal-L...   \n",
       "331  https://us.shein.com/Letter-Graphic-Drop-Shoul...   \n",
       "\n",
       "                                                images      Color    Neckline  \\\n",
       "132  [https://storage.yandexcloud.net/clothes-and-w...      White  Round Neck   \n",
       "279  [https://storage.yandexcloud.net/clothes-and-w...    Apricot        None   \n",
       "299  [https://storage.yandexcloud.net/clothes-and-w...      Black        None   \n",
       "320  [https://storage.yandexcloud.net/clothes-and-w...  Baby Pink  Round Neck   \n",
       "331  [https://storage.yandexcloud.net/clothes-and-w...      White  Round Neck   \n",
       "\n",
       "    Sleeve Length    Sleeve Type     Keyword  \n",
       "132   Long Sleeve           None  sweatshirt  \n",
       "279   Long Sleeve           None      hoodie  \n",
       "299   Long Sleeve  Drop Shoulder      hoodie  \n",
       "320   Long Sleeve  Drop Shoulder  sweatshirt  \n",
       "331   Long Sleeve           None  sweatshirt  "
      ]
     },
     "execution_count": 90,
     "metadata": {},
     "output_type": "execute_result"
    }
   ],
   "source": [
    "upperwear_df.head()"
   ]
  },
  {
   "cell_type": "code",
   "execution_count": 91,
   "metadata": {},
   "outputs": [
    {
     "name": "stderr",
     "output_type": "stream",
     "text": [
      "C:\\Users\\KNYpe\\AppData\\Local\\Temp\\ipykernel_10864\\605074222.py:12: SettingWithCopyWarning: \n",
      "A value is trying to be set on a copy of a slice from a DataFrame.\n",
      "Try using .loc[row_indexer,col_indexer] = value instead\n",
      "\n",
      "See the caveats in the documentation: https://pandas.pydata.org/pandas-docs/stable/user_guide/indexing.html#returning-a-view-versus-a-copy\n",
      "  upperwear_df['New Columns'] = upperwear_df.apply(create_new_columns, axis=1)\n"
     ]
    }
   ],
   "source": [
    "def create_new_columns(row):\n",
    "    columns = []\n",
    "    if row['Neckline'] != None:\n",
    "        columns.append(f\"{row['Color']} {row['Keyword']} with {row['Neckline']}\")\n",
    "    if row['Sleeve Length'] != None:\n",
    "        columns.append(f\"{row['Color']} {row['Keyword']} with {row['Sleeve Length']}\")\n",
    "    if row['Sleeve Type'] != None:\n",
    "        columns.append(f\"{row['Sleeve Type']} {row['Color']} {row['Keyword']} in {row['Color']} colour\")\n",
    "    return columns\n",
    "\n",
    "# Apply function to create new columns\n",
    "upperwear_df['New Columns'] = upperwear_df.apply(create_new_columns, axis=1)\n",
    "\n",
    "# Explode the list of new columns into separate rows\n",
    "df = upperwear_df.explode('New Columns')"
   ]
  },
  {
   "cell_type": "code",
   "execution_count": 94,
   "metadata": {},
   "outputs": [],
   "source": [
    "df.drop(columns=['images'], inplace=True)"
   ]
  },
  {
   "cell_type": "code",
   "execution_count": 96,
   "metadata": {},
   "outputs": [
    {
     "data": {
      "text/html": [
       "<div>\n",
       "<style scoped>\n",
       "    .dataframe tbody tr th:only-of-type {\n",
       "        vertical-align: middle;\n",
       "    }\n",
       "\n",
       "    .dataframe tbody tr th {\n",
       "        vertical-align: top;\n",
       "    }\n",
       "\n",
       "    .dataframe thead th {\n",
       "        text-align: right;\n",
       "    }\n",
       "</style>\n",
       "<table border=\"1\" class=\"dataframe\">\n",
       "  <thead>\n",
       "    <tr style=\"text-align: right;\">\n",
       "      <th></th>\n",
       "      <th>url</th>\n",
       "      <th>Color</th>\n",
       "      <th>Neckline</th>\n",
       "      <th>Sleeve Length</th>\n",
       "      <th>Sleeve Type</th>\n",
       "      <th>Keyword</th>\n",
       "      <th>New Columns</th>\n",
       "    </tr>\n",
       "  </thead>\n",
       "  <tbody>\n",
       "    <tr>\n",
       "      <th>132</th>\n",
       "      <td>https://us.shein.com/ROMWE-X-POMOi-Slogan-Skel...</td>\n",
       "      <td>White</td>\n",
       "      <td>Round Neck</td>\n",
       "      <td>Long Sleeve</td>\n",
       "      <td>None</td>\n",
       "      <td>sweatshirt</td>\n",
       "      <td>White sweatshirt with Round Neck</td>\n",
       "    </tr>\n",
       "    <tr>\n",
       "      <th>132</th>\n",
       "      <td>https://us.shein.com/ROMWE-X-POMOi-Slogan-Skel...</td>\n",
       "      <td>White</td>\n",
       "      <td>Round Neck</td>\n",
       "      <td>Long Sleeve</td>\n",
       "      <td>None</td>\n",
       "      <td>sweatshirt</td>\n",
       "      <td>White sweatshirt with Long Sleeve</td>\n",
       "    </tr>\n",
       "    <tr>\n",
       "      <th>279</th>\n",
       "      <td>https://us.shein.com/Oil-Painting-Slogan-Graph...</td>\n",
       "      <td>Apricot</td>\n",
       "      <td>None</td>\n",
       "      <td>Long Sleeve</td>\n",
       "      <td>None</td>\n",
       "      <td>hoodie</td>\n",
       "      <td>Apricot hoodie with Long Sleeve</td>\n",
       "    </tr>\n",
       "    <tr>\n",
       "      <th>299</th>\n",
       "      <td>https://us.shein.com/Letter-Graphic-Kangaroo-P...</td>\n",
       "      <td>Black</td>\n",
       "      <td>None</td>\n",
       "      <td>Long Sleeve</td>\n",
       "      <td>Drop Shoulder</td>\n",
       "      <td>hoodie</td>\n",
       "      <td>Black hoodie with Long Sleeve</td>\n",
       "    </tr>\n",
       "    <tr>\n",
       "      <th>299</th>\n",
       "      <td>https://us.shein.com/Letter-Graphic-Kangaroo-P...</td>\n",
       "      <td>Black</td>\n",
       "      <td>None</td>\n",
       "      <td>Long Sleeve</td>\n",
       "      <td>Drop Shoulder</td>\n",
       "      <td>hoodie</td>\n",
       "      <td>Drop Shoulder Black hoodie in Black colour</td>\n",
       "    </tr>\n",
       "  </tbody>\n",
       "</table>\n",
       "</div>"
      ],
      "text/plain": [
       "                                                   url    Color    Neckline  \\\n",
       "132  https://us.shein.com/ROMWE-X-POMOi-Slogan-Skel...    White  Round Neck   \n",
       "132  https://us.shein.com/ROMWE-X-POMOi-Slogan-Skel...    White  Round Neck   \n",
       "279  https://us.shein.com/Oil-Painting-Slogan-Graph...  Apricot        None   \n",
       "299  https://us.shein.com/Letter-Graphic-Kangaroo-P...    Black        None   \n",
       "299  https://us.shein.com/Letter-Graphic-Kangaroo-P...    Black        None   \n",
       "\n",
       "    Sleeve Length    Sleeve Type     Keyword  \\\n",
       "132   Long Sleeve           None  sweatshirt   \n",
       "132   Long Sleeve           None  sweatshirt   \n",
       "279   Long Sleeve           None      hoodie   \n",
       "299   Long Sleeve  Drop Shoulder      hoodie   \n",
       "299   Long Sleeve  Drop Shoulder      hoodie   \n",
       "\n",
       "                                    New Columns  \n",
       "132            White sweatshirt with Round Neck  \n",
       "132           White sweatshirt with Long Sleeve  \n",
       "279             Apricot hoodie with Long Sleeve  \n",
       "299               Black hoodie with Long Sleeve  \n",
       "299  Drop Shoulder Black hoodie in Black colour  "
      ]
     },
     "execution_count": 96,
     "metadata": {},
     "output_type": "execute_result"
    }
   ],
   "source": [
    "df.head()"
   ]
  },
  {
   "cell_type": "code",
   "execution_count": 104,
   "metadata": {},
   "outputs": [
    {
     "name": "stdout",
     "output_type": "stream",
     "text": [
      "https://us.shein.com/Letter-Graphic-Kangaroo-Pocket-Drawstring-Thermal-Hoodie-p-12579125-cat-1773.html?mallCode=1\n",
      "Black\n",
      "None\n",
      "Long Sleeve\n",
      "Drop Shoulder\n",
      "hoodie\n",
      "Drop Shoulder Black hoodie in Black colour\n"
     ]
    }
   ],
   "source": [
    "a = df.iloc[4]\n",
    "for i in a:\n",
    "    print(i)"
   ]
  },
  {
   "cell_type": "code",
   "execution_count": 105,
   "metadata": {},
   "outputs": [],
   "source": [
    "new_df = df[['url', 'New Columns']].copy()\n",
    "new_df.rename(columns={'New Columns': 'Description'}, inplace=True)"
   ]
  },
  {
   "cell_type": "code",
   "execution_count": 106,
   "metadata": {},
   "outputs": [
    {
     "data": {
      "text/html": [
       "<div>\n",
       "<style scoped>\n",
       "    .dataframe tbody tr th:only-of-type {\n",
       "        vertical-align: middle;\n",
       "    }\n",
       "\n",
       "    .dataframe tbody tr th {\n",
       "        vertical-align: top;\n",
       "    }\n",
       "\n",
       "    .dataframe thead th {\n",
       "        text-align: right;\n",
       "    }\n",
       "</style>\n",
       "<table border=\"1\" class=\"dataframe\">\n",
       "  <thead>\n",
       "    <tr style=\"text-align: right;\">\n",
       "      <th></th>\n",
       "      <th>url</th>\n",
       "      <th>Description</th>\n",
       "    </tr>\n",
       "  </thead>\n",
       "  <tbody>\n",
       "    <tr>\n",
       "      <th>132</th>\n",
       "      <td>https://us.shein.com/ROMWE-X-POMOi-Slogan-Skel...</td>\n",
       "      <td>White sweatshirt with Round Neck</td>\n",
       "    </tr>\n",
       "    <tr>\n",
       "      <th>132</th>\n",
       "      <td>https://us.shein.com/ROMWE-X-POMOi-Slogan-Skel...</td>\n",
       "      <td>White sweatshirt with Long Sleeve</td>\n",
       "    </tr>\n",
       "    <tr>\n",
       "      <th>279</th>\n",
       "      <td>https://us.shein.com/Oil-Painting-Slogan-Graph...</td>\n",
       "      <td>Apricot hoodie with Long Sleeve</td>\n",
       "    </tr>\n",
       "    <tr>\n",
       "      <th>299</th>\n",
       "      <td>https://us.shein.com/Letter-Graphic-Kangaroo-P...</td>\n",
       "      <td>Black hoodie with Long Sleeve</td>\n",
       "    </tr>\n",
       "    <tr>\n",
       "      <th>299</th>\n",
       "      <td>https://us.shein.com/Letter-Graphic-Kangaroo-P...</td>\n",
       "      <td>Drop Shoulder Black hoodie in Black colour</td>\n",
       "    </tr>\n",
       "  </tbody>\n",
       "</table>\n",
       "</div>"
      ],
      "text/plain": [
       "                                                   url  \\\n",
       "132  https://us.shein.com/ROMWE-X-POMOi-Slogan-Skel...   \n",
       "132  https://us.shein.com/ROMWE-X-POMOi-Slogan-Skel...   \n",
       "279  https://us.shein.com/Oil-Painting-Slogan-Graph...   \n",
       "299  https://us.shein.com/Letter-Graphic-Kangaroo-P...   \n",
       "299  https://us.shein.com/Letter-Graphic-Kangaroo-P...   \n",
       "\n",
       "                                    Description  \n",
       "132            White sweatshirt with Round Neck  \n",
       "132           White sweatshirt with Long Sleeve  \n",
       "279             Apricot hoodie with Long Sleeve  \n",
       "299               Black hoodie with Long Sleeve  \n",
       "299  Drop Shoulder Black hoodie in Black colour  "
      ]
     },
     "execution_count": 106,
     "metadata": {},
     "output_type": "execute_result"
    }
   ],
   "source": [
    "new_df.head()"
   ]
  },
  {
   "cell_type": "code",
   "execution_count": 109,
   "metadata": {},
   "outputs": [],
   "source": [
    "new_df.to_csv('../Datasets/preprocessed.csv', index=False)"
   ]
  },
  {
   "cell_type": "code",
   "execution_count": null,
   "metadata": {},
   "outputs": [],
   "source": []
  }
 ],
 "metadata": {
  "kernelspec": {
   "display_name": "venv",
   "language": "python",
   "name": "python3"
  },
  "language_info": {
   "codemirror_mode": {
    "name": "ipython",
    "version": 3
   },
   "file_extension": ".py",
   "mimetype": "text/x-python",
   "name": "python",
   "nbconvert_exporter": "python",
   "pygments_lexer": "ipython3",
   "version": "3.10.11"
  }
 },
 "nbformat": 4,
 "nbformat_minor": 2
}
