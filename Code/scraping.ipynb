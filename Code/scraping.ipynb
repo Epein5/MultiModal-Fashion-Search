{
 "cells": [
  {
   "cell_type": "code",
   "execution_count": 24,
   "metadata": {},
   "outputs": [],
   "source": [
    "from bs4 import BeautifulSoup"
   ]
  },
  {
   "cell_type": "code",
   "execution_count": 25,
   "metadata": {},
   "outputs": [],
   "source": [
    "import requests\n",
    "from bs4 import BeautifulSoup\n",
    "import pandas as pd\n",
    "\n",
    "# Read the CSV file containing the URLs and descriptions\n",
    "data = pd.read_csv(\"../Datasets/preprocessed.csv\")\n",
    "data = data.head()"
   ]
  },
  {
   "cell_type": "code",
   "execution_count": 56,
   "metadata": {},
   "outputs": [
    {
     "name": "stdout",
     "output_type": "stream",
     "text": [
      "[]\n",
      "[]\n",
      "[]\n",
      "[]\n",
      "[]\n"
     ]
    }
   ],
   "source": [
    "\n",
    "url = data['url']\n",
    "for i in url:\n",
    "    html = requests.get(i)\n",
    "    soup = BeautifulSoup(html.content, 'html.parser')    \n",
    "\n",
    "    image_urls = []\n",
    "    for div in soup.find_all('img', class_='lcp-gallery__hook crop-image-container__img'):\n",
    "        # Get the value of the \"data-before-crop-src\" attribute if present, otherwise, get the \"src\" attribute of the <img> tag\n",
    "        image_url = div.get('data-before-crop-src') or div.img.get('src')\n",
    "        if image_url:\n",
    "            image_urls.append(image_url)\n",
    "\n",
    "    print(image_urls)\n",
    "\n",
    "\n",
    " "
   ]
  },
  {
   "cell_type": "code",
   "execution_count": null,
   "metadata": {},
   "outputs": [],
   "source": []
  }
 ],
 "metadata": {
  "kernelspec": {
   "display_name": "venv",
   "language": "python",
   "name": "python3"
  },
  "language_info": {
   "codemirror_mode": {
    "name": "ipython",
    "version": 3
   },
   "file_extension": ".py",
   "mimetype": "text/x-python",
   "name": "python",
   "nbconvert_exporter": "python",
   "pygments_lexer": "ipython3",
   "version": "3.10.11"
  }
 },
 "nbformat": 4,
 "nbformat_minor": 2
}
